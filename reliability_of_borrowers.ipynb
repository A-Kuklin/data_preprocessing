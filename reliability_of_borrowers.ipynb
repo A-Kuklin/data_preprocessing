{
 "cells": [
  {
   "cell_type": "markdown",
   "metadata": {},
   "source": [
    "# Исследование надёжности заёмщиков\n",
    "\n",
    "Заказчик — кредитный отдел банка.\n",
    "\n",
    "**Нужно разобраться, влияет ли `семейное положение` и `количество детей клиента` на `факт погашения кредита в срок`.**\n",
    "\n",
    "Входные данные от банка — статистика о платёжеспособности клиентов.\n",
    "\n",
    "Результаты исследования будут учтены при построении модели **кредитного скоринга** — специальной системы, которая оценивает способность потенциального заёмщика вернуть кредит банку."
   ]
  },
  {
   "cell_type": "markdown",
   "metadata": {},
   "source": [
    "## Общая информация"
   ]
  },
  {
   "cell_type": "code",
   "execution_count": 4,
   "metadata": {},
   "outputs": [
    {
     "data": {
      "text/html": [
       "<div>\n",
       "<style scoped>\n",
       "    .dataframe tbody tr th:only-of-type {\n",
       "        vertical-align: middle;\n",
       "    }\n",
       "\n",
       "    .dataframe tbody tr th {\n",
       "        vertical-align: top;\n",
       "    }\n",
       "\n",
       "    .dataframe thead th {\n",
       "        text-align: right;\n",
       "    }\n",
       "</style>\n",
       "<table border=\"1\" class=\"dataframe\">\n",
       "  <thead>\n",
       "    <tr style=\"text-align: right;\">\n",
       "      <th></th>\n",
       "      <th>children</th>\n",
       "      <th>days_employed</th>\n",
       "      <th>dob_years</th>\n",
       "      <th>education</th>\n",
       "      <th>education_id</th>\n",
       "      <th>family_status</th>\n",
       "      <th>family_status_id</th>\n",
       "      <th>gender</th>\n",
       "      <th>income_type</th>\n",
       "      <th>debt</th>\n",
       "      <th>total_income</th>\n",
       "      <th>purpose</th>\n",
       "    </tr>\n",
       "  </thead>\n",
       "  <tbody>\n",
       "    <tr>\n",
       "      <th>10</th>\n",
       "      <td>2</td>\n",
       "      <td>-4171.483647</td>\n",
       "      <td>36</td>\n",
       "      <td>высшее</td>\n",
       "      <td>0</td>\n",
       "      <td>женат / замужем</td>\n",
       "      <td>0</td>\n",
       "      <td>M</td>\n",
       "      <td>компаньон</td>\n",
       "      <td>0</td>\n",
       "      <td>113943.491460</td>\n",
       "      <td>покупка недвижимости</td>\n",
       "    </tr>\n",
       "    <tr>\n",
       "      <th>11</th>\n",
       "      <td>0</td>\n",
       "      <td>-792.701887</td>\n",
       "      <td>40</td>\n",
       "      <td>среднее</td>\n",
       "      <td>1</td>\n",
       "      <td>женат / замужем</td>\n",
       "      <td>0</td>\n",
       "      <td>F</td>\n",
       "      <td>сотрудник</td>\n",
       "      <td>0</td>\n",
       "      <td>77069.234271</td>\n",
       "      <td>покупка коммерческой недвижимости</td>\n",
       "    </tr>\n",
       "    <tr>\n",
       "      <th>12</th>\n",
       "      <td>0</td>\n",
       "      <td>NaN</td>\n",
       "      <td>65</td>\n",
       "      <td>среднее</td>\n",
       "      <td>1</td>\n",
       "      <td>гражданский брак</td>\n",
       "      <td>1</td>\n",
       "      <td>M</td>\n",
       "      <td>пенсионер</td>\n",
       "      <td>0</td>\n",
       "      <td>NaN</td>\n",
       "      <td>сыграть свадьбу</td>\n",
       "    </tr>\n",
       "    <tr>\n",
       "      <th>13</th>\n",
       "      <td>0</td>\n",
       "      <td>-1846.641941</td>\n",
       "      <td>54</td>\n",
       "      <td>неоконченное высшее</td>\n",
       "      <td>2</td>\n",
       "      <td>женат / замужем</td>\n",
       "      <td>0</td>\n",
       "      <td>F</td>\n",
       "      <td>сотрудник</td>\n",
       "      <td>0</td>\n",
       "      <td>130458.228857</td>\n",
       "      <td>приобретение автомобиля</td>\n",
       "    </tr>\n",
       "    <tr>\n",
       "      <th>14</th>\n",
       "      <td>0</td>\n",
       "      <td>-1844.956182</td>\n",
       "      <td>56</td>\n",
       "      <td>высшее</td>\n",
       "      <td>0</td>\n",
       "      <td>гражданский брак</td>\n",
       "      <td>1</td>\n",
       "      <td>F</td>\n",
       "      <td>компаньон</td>\n",
       "      <td>1</td>\n",
       "      <td>165127.911772</td>\n",
       "      <td>покупка жилой недвижимости</td>\n",
       "    </tr>\n",
       "  </tbody>\n",
       "</table>\n",
       "</div>"
      ],
      "text/plain": [
       "    children  days_employed  dob_years            education  education_id  \\\n",
       "10         2   -4171.483647         36               высшее             0   \n",
       "11         0    -792.701887         40              среднее             1   \n",
       "12         0            NaN         65              среднее             1   \n",
       "13         0   -1846.641941         54  неоконченное высшее             2   \n",
       "14         0   -1844.956182         56               высшее             0   \n",
       "\n",
       "       family_status  family_status_id gender income_type  debt  \\\n",
       "10   женат / замужем                 0      M   компаньон     0   \n",
       "11   женат / замужем                 0      F   сотрудник     0   \n",
       "12  гражданский брак                 1      M   пенсионер     0   \n",
       "13   женат / замужем                 0      F   сотрудник     0   \n",
       "14  гражданский брак                 1      F   компаньон     1   \n",
       "\n",
       "     total_income                            purpose  \n",
       "10  113943.491460               покупка недвижимости  \n",
       "11   77069.234271  покупка коммерческой недвижимости  \n",
       "12            NaN                    сыграть свадьбу  \n",
       "13  130458.228857            приобретение автомобиля  \n",
       "14  165127.911772         покупка жилой недвижимости  "
      ]
     },
     "execution_count": 4,
     "metadata": {},
     "output_type": "execute_result"
    }
   ],
   "source": [
    "import pandas as pd\n",
    "\n",
    "data = pd.read_csv('data.csv')\n",
    "data[10:15]"
   ]
  },
  {
   "cell_type": "markdown",
   "metadata": {},
   "source": [
    "Некоторые названия столбцов неауктуальные / непонятные."
   ]
  },
  {
   "cell_type": "markdown",
   "metadata": {},
   "source": [
    "### Переименуем столбцы \n",
    "\n",
    "• `dob_years` в `age` (более понятное обозначение возраста)\n",
    "• `debt` в `debt_bool` (содержит булевые значения)\n",
    "• `total_income` в `monthly_income` (точнее отражает описание данных)"
   ]
  },
  {
   "cell_type": "code",
   "execution_count": 3,
   "metadata": {
    "scrolled": true
   },
   "outputs": [
    {
     "name": "stdout",
     "output_type": "stream",
     "text": [
      "<class 'pandas.core.frame.DataFrame'>\n",
      "RangeIndex: 21525 entries, 0 to 21524\n",
      "Data columns (total 12 columns):\n",
      "children            21525 non-null int64\n",
      "days_employed       19351 non-null float64\n",
      "age                 21525 non-null int64\n",
      "education           21525 non-null object\n",
      "education_id        21525 non-null int64\n",
      "family_status       21525 non-null object\n",
      "family_status_id    21525 non-null int64\n",
      "gender              21525 non-null object\n",
      "income_type         21525 non-null object\n",
      "debt_bool           21525 non-null int64\n",
      "monthly_income      19351 non-null float64\n",
      "purpose             21525 non-null object\n",
      "dtypes: float64(2), int64(5), object(5)\n",
      "memory usage: 2.0+ MB\n"
     ]
    }
   ],
   "source": [
    "data = data.rename(columns={'dob_years': 'age', 'debt': 'debt_bool', 'total_income': 'monthly_income',})\n",
    "data.info()"
   ]
  },
  {
   "cell_type": "markdown",
   "metadata": {},
   "source": [
    "В таблице двенадцать столбцов.  \n",
    "Согласно документации к данным с учётом исправленных названий столбцов:  \n",
    "\n",
    "* `children` — количество детей в семье (int64);\n",
    "* `days_employed` — общий трудовой стаж в днях (float64);  \n",
    "* `age` — возраст клиента в годах (int64);\n",
    "* `education` — уровень образования клиента (object);\n",
    "* `education_id` — идентификатор уровня образования (int64);\n",
    "* `family_status` — семейное положение (object);\n",
    "* `family_status_id` — идентификатор семейного положения (int64);\n",
    "* `gender` — пол клиента (object);\n",
    "* `income_type` — тип занятости (object);\n",
    "* `debt_bool` — имел ли задолженность по возврату кредитов (int64);\n",
    "* `monthly_income` — ежемесячный доход (float64);\n",
    "* `purpose` — цель получения кредита (object).\n",
    "\n",
    "Основные столбцы для работы: `children`, `family_status`, `debt_bool`.\n",
    "\n",
    "Количество значений в столбцах различается. Значит, в данных есть пропущенные значения."
   ]
  },
  {
   "cell_type": "markdown",
   "metadata": {},
   "source": [
    "***\n",
    "**Вывод**\n",
    "\n",
    "* В каждой строке таблицы — данные о одном заёмщике.\n",
    "* В колонке `days_employed` есть пропуски и отрицательные значения.  \n",
    "    Для простоты восприятия стоит округлить значения до целых.\n",
    "* Две категории заданы с индетификаторами: `family_status` и `education`.\n",
    "* В столбце `education` названия категорий нужно привести к единому строчному виду.\n",
    "* В столбце `children` есть ошибочные значения «20» и «-1».\n",
    "* Столбец `gender` содержит одну строку с данными «XNA».  \n",
    "    Можно пренебречь этой строкой.\n",
    "* В колонке `monthly_income` есть пропуски.  \n",
    "    Для простоты восприятия стоит округлить значения до целых.<br><br>\n",
    "***"
   ]
  },
  {
   "cell_type": "markdown",
   "metadata": {},
   "source": [
    "## Предобработка данных"
   ]
  },
  {
   "cell_type": "markdown",
   "metadata": {},
   "source": [
    "### Обработка пропусков"
   ]
  },
  {
   "cell_type": "code",
   "execution_count": 4,
   "metadata": {
    "scrolled": true
   },
   "outputs": [
    {
     "data": {
      "text/plain": [
       "children               0\n",
       "days_employed       2174\n",
       "age                    0\n",
       "education              0\n",
       "education_id           0\n",
       "family_status          0\n",
       "family_status_id       0\n",
       "gender                 0\n",
       "income_type            0\n",
       "debt_bool              0\n",
       "monthly_income      2174\n",
       "purpose                0\n",
       "dtype: int64"
      ]
     },
     "metadata": {},
     "output_type": "display_data"
    },
    {
     "name": "stdout",
     "output_type": "stream",
     "text": [
      "Процент пропусков: 10%\n"
     ]
    }
   ],
   "source": [
    "display(data.isna().sum())\n",
    "ratio_na = data['days_employed'].isna().sum() / len(data)\n",
    "print('Процент пропусков: {:.0%}'.format(ratio_na))"
   ]
  },
  {
   "cell_type": "markdown",
   "metadata": {},
   "source": [
    "* **Обработка пропусков в столбце `monthly_income`.<br>**\n",
    "   Сгруппируем данные по типу занятости (`income_type`), а после заполним ежемесячный доход (`monthly_income`) медианным значением каждой группы.<br>"
   ]
  },
  {
   "cell_type": "code",
   "execution_count": 5,
   "metadata": {
    "scrolled": true
   },
   "outputs": [
    {
     "name": "stdout",
     "output_type": "stream",
     "text": [
      "Пропусков в стобце `monthly_income` не осталось\n"
     ]
    }
   ],
   "source": [
    "group = data.groupby(['income_type'])\n",
    "data['monthly_income'] = group.monthly_income.apply(lambda x: x.fillna(x.median()))\n",
    "nan = data['monthly_income'].isna().sum()\n",
    "if not nan:\n",
    "    print('Пропусков в стобце `monthly_income` не осталось')\n",
    "else:\n",
    "    print('Всё ещё остались пропуски в стобце `monthly_income`:', nan)"
   ]
  },
  {
   "cell_type": "markdown",
   "metadata": {},
   "source": [
    "* **Подготовка данных в столбце `days_employed`.<br>**\n",
    "   Заменим отрицательные значения на положительные.<br>"
   ]
  },
  {
   "cell_type": "code",
   "execution_count": 6,
   "metadata": {},
   "outputs": [
    {
     "data": {
      "text/html": [
       "<div>\n",
       "<style scoped>\n",
       "    .dataframe tbody tr th:only-of-type {\n",
       "        vertical-align: middle;\n",
       "    }\n",
       "\n",
       "    .dataframe tbody tr th {\n",
       "        vertical-align: top;\n",
       "    }\n",
       "\n",
       "    .dataframe thead th {\n",
       "        text-align: right;\n",
       "    }\n",
       "</style>\n",
       "<table border=\"1\" class=\"dataframe\">\n",
       "  <thead>\n",
       "    <tr style=\"text-align: right;\">\n",
       "      <th></th>\n",
       "      <th>children</th>\n",
       "      <th>days_employed</th>\n",
       "      <th>age</th>\n",
       "      <th>education</th>\n",
       "      <th>education_id</th>\n",
       "      <th>family_status</th>\n",
       "      <th>family_status_id</th>\n",
       "      <th>gender</th>\n",
       "      <th>income_type</th>\n",
       "      <th>debt_bool</th>\n",
       "      <th>monthly_income</th>\n",
       "      <th>purpose</th>\n",
       "    </tr>\n",
       "  </thead>\n",
       "  <tbody>\n",
       "    <tr>\n",
       "      <td>10</td>\n",
       "      <td>2</td>\n",
       "      <td>4171.483647</td>\n",
       "      <td>36</td>\n",
       "      <td>высшее</td>\n",
       "      <td>0</td>\n",
       "      <td>женат / замужем</td>\n",
       "      <td>0</td>\n",
       "      <td>M</td>\n",
       "      <td>компаньон</td>\n",
       "      <td>0</td>\n",
       "      <td>113943.491460</td>\n",
       "      <td>покупка недвижимости</td>\n",
       "    </tr>\n",
       "    <tr>\n",
       "      <td>11</td>\n",
       "      <td>0</td>\n",
       "      <td>792.701887</td>\n",
       "      <td>40</td>\n",
       "      <td>среднее</td>\n",
       "      <td>1</td>\n",
       "      <td>женат / замужем</td>\n",
       "      <td>0</td>\n",
       "      <td>F</td>\n",
       "      <td>сотрудник</td>\n",
       "      <td>0</td>\n",
       "      <td>77069.234271</td>\n",
       "      <td>покупка коммерческой недвижимости</td>\n",
       "    </tr>\n",
       "    <tr>\n",
       "      <td>12</td>\n",
       "      <td>0</td>\n",
       "      <td>NaN</td>\n",
       "      <td>65</td>\n",
       "      <td>среднее</td>\n",
       "      <td>1</td>\n",
       "      <td>гражданский брак</td>\n",
       "      <td>1</td>\n",
       "      <td>M</td>\n",
       "      <td>пенсионер</td>\n",
       "      <td>0</td>\n",
       "      <td>118514.486412</td>\n",
       "      <td>сыграть свадьбу</td>\n",
       "    </tr>\n",
       "    <tr>\n",
       "      <td>13</td>\n",
       "      <td>0</td>\n",
       "      <td>1846.641941</td>\n",
       "      <td>54</td>\n",
       "      <td>неоконченное высшее</td>\n",
       "      <td>2</td>\n",
       "      <td>женат / замужем</td>\n",
       "      <td>0</td>\n",
       "      <td>F</td>\n",
       "      <td>сотрудник</td>\n",
       "      <td>0</td>\n",
       "      <td>130458.228857</td>\n",
       "      <td>приобретение автомобиля</td>\n",
       "    </tr>\n",
       "    <tr>\n",
       "      <td>14</td>\n",
       "      <td>0</td>\n",
       "      <td>1844.956182</td>\n",
       "      <td>56</td>\n",
       "      <td>высшее</td>\n",
       "      <td>0</td>\n",
       "      <td>гражданский брак</td>\n",
       "      <td>1</td>\n",
       "      <td>F</td>\n",
       "      <td>компаньон</td>\n",
       "      <td>1</td>\n",
       "      <td>165127.911772</td>\n",
       "      <td>покупка жилой недвижимости</td>\n",
       "    </tr>\n",
       "  </tbody>\n",
       "</table>\n",
       "</div>"
      ],
      "text/plain": [
       "    children  days_employed  age            education  education_id  \\\n",
       "10         2    4171.483647   36               высшее             0   \n",
       "11         0     792.701887   40              среднее             1   \n",
       "12         0            NaN   65              среднее             1   \n",
       "13         0    1846.641941   54  неоконченное высшее             2   \n",
       "14         0    1844.956182   56               высшее             0   \n",
       "\n",
       "       family_status  family_status_id gender income_type  debt_bool  \\\n",
       "10   женат / замужем                 0      M   компаньон          0   \n",
       "11   женат / замужем                 0      F   сотрудник          0   \n",
       "12  гражданский брак                 1      M   пенсионер          0   \n",
       "13   женат / замужем                 0      F   сотрудник          0   \n",
       "14  гражданский брак                 1      F   компаньон          1   \n",
       "\n",
       "    monthly_income                            purpose  \n",
       "10   113943.491460               покупка недвижимости  \n",
       "11    77069.234271  покупка коммерческой недвижимости  \n",
       "12   118514.486412                    сыграть свадьбу  \n",
       "13   130458.228857            приобретение автомобиля  \n",
       "14   165127.911772         покупка жилой недвижимости  "
      ]
     },
     "execution_count": 6,
     "metadata": {},
     "output_type": "execute_result"
    }
   ],
   "source": [
    "data['days_employed'] = abs(data['days_employed'])\n",
    "data[10:15]"
   ]
  },
  {
   "cell_type": "markdown",
   "metadata": {},
   "source": [
    "* **Заменим ошибочные данные в столбце возраста клиентов (`age` = 0).<br>**\n",
    "   Заменим на среднее значение перед тем как аналогичным методом запонить пропуски в столбце `days_employed` с привязкой к `age`.<br>"
   ]
  },
  {
   "cell_type": "code",
   "execution_count": 7,
   "metadata": {},
   "outputs": [
    {
     "name": "stdout",
     "output_type": "stream",
     "text": [
      "Средний возраст клиентов без учёта ошибочных данных: 43.\n"
     ]
    }
   ],
   "source": [
    "mean_age = int(data[data['age'] != 0]['age'].mean())\n",
    "print('Средний возраст клиентов без учёта ошибочных данных: {}.'.format(mean_age))"
   ]
  },
  {
   "cell_type": "markdown",
   "metadata": {},
   "source": [
    "Проверим, осталась ли ошибка с возрастом:"
   ]
  },
  {
   "cell_type": "code",
   "execution_count": 8,
   "metadata": {
    "scrolled": true
   },
   "outputs": [
    {
     "name": "stdout",
     "output_type": "stream",
     "text": [
      "Ошибка (`age` = 0) исправлена.\n"
     ]
    }
   ],
   "source": [
    "data['age'] = data['age'].replace(0, mean_age)\n",
    "wrong_age = data[data['age'] == 0]['debt_bool'].count()\n",
    "if not wrong_age:\n",
    "    print('Ошибка (`age` = 0) исправлена.')\n",
    "else:\n",
    "    print(f'Всё ещё остались ошибочные (`age` = 0) данные: {wrong_age} записей.')"
   ]
  },
  {
   "cell_type": "markdown",
   "metadata": {},
   "source": [
    "* **Обработка пропусков в столбце `days_employed`.<br>**\n",
    "   Сгруппируем данные по возрасту клиента (`age`), а после заполним трудовой стаж (`days_employed`) медианным значением каждой группы.<br>"
   ]
  },
  {
   "cell_type": "code",
   "execution_count": 9,
   "metadata": {
    "scrolled": true
   },
   "outputs": [
    {
     "name": "stdout",
     "output_type": "stream",
     "text": [
      "Пропусков в стобце `days_employed` не осталось\n"
     ]
    }
   ],
   "source": [
    "group = data.groupby(['age'])\n",
    "data['days_employed'] = group.days_employed.apply(lambda x: x.fillna(x.median()))\n",
    "nan = data['days_employed'].isna().sum()\n",
    "if not nan:\n",
    "    print('Пропусков в стобце `days_employed` не осталось')\n",
    "else:\n",
    "    print('Всё ещё остались пропуски в стобце `days_employed`:', nan)"
   ]
  },
  {
   "cell_type": "markdown",
   "metadata": {},
   "source": [
    "Проверим результат"
   ]
  },
  {
   "cell_type": "code",
   "execution_count": 10,
   "metadata": {
    "scrolled": true
   },
   "outputs": [
    {
     "data": {
      "text/plain": [
       "children            0\n",
       "days_employed       0\n",
       "age                 0\n",
       "education           0\n",
       "education_id        0\n",
       "family_status       0\n",
       "family_status_id    0\n",
       "gender              0\n",
       "income_type         0\n",
       "debt_bool           0\n",
       "monthly_income      0\n",
       "purpose             0\n",
       "dtype: int64"
      ]
     },
     "metadata": {},
     "output_type": "display_data"
    },
    {
     "name": "stdout",
     "output_type": "stream",
     "text": [
      "Процент пропусков: 0%\n"
     ]
    }
   ],
   "source": [
    "display(data.isna().sum())\n",
    "ratio_na = data['days_employed'].isna().sum() / len(data)\n",
    "print('Процент пропусков: {:.0%}'.format(ratio_na))"
   ]
  },
  {
   "cell_type": "code",
   "execution_count": 11,
   "metadata": {},
   "outputs": [
    {
     "data": {
      "text/html": [
       "<div>\n",
       "<style scoped>\n",
       "    .dataframe tbody tr th:only-of-type {\n",
       "        vertical-align: middle;\n",
       "    }\n",
       "\n",
       "    .dataframe tbody tr th {\n",
       "        vertical-align: top;\n",
       "    }\n",
       "\n",
       "    .dataframe thead th {\n",
       "        text-align: right;\n",
       "    }\n",
       "</style>\n",
       "<table border=\"1\" class=\"dataframe\">\n",
       "  <thead>\n",
       "    <tr style=\"text-align: right;\">\n",
       "      <th></th>\n",
       "      <th>children</th>\n",
       "      <th>days_employed</th>\n",
       "      <th>age</th>\n",
       "      <th>education</th>\n",
       "      <th>education_id</th>\n",
       "      <th>family_status</th>\n",
       "      <th>family_status_id</th>\n",
       "      <th>gender</th>\n",
       "      <th>income_type</th>\n",
       "      <th>debt_bool</th>\n",
       "      <th>monthly_income</th>\n",
       "      <th>purpose</th>\n",
       "    </tr>\n",
       "  </thead>\n",
       "  <tbody>\n",
       "    <tr>\n",
       "      <td>10</td>\n",
       "      <td>2</td>\n",
       "      <td>4171.483647</td>\n",
       "      <td>36</td>\n",
       "      <td>высшее</td>\n",
       "      <td>0</td>\n",
       "      <td>женат / замужем</td>\n",
       "      <td>0</td>\n",
       "      <td>M</td>\n",
       "      <td>компаньон</td>\n",
       "      <td>0</td>\n",
       "      <td>113943.491460</td>\n",
       "      <td>покупка недвижимости</td>\n",
       "    </tr>\n",
       "    <tr>\n",
       "      <td>11</td>\n",
       "      <td>0</td>\n",
       "      <td>792.701887</td>\n",
       "      <td>40</td>\n",
       "      <td>среднее</td>\n",
       "      <td>1</td>\n",
       "      <td>женат / замужем</td>\n",
       "      <td>0</td>\n",
       "      <td>F</td>\n",
       "      <td>сотрудник</td>\n",
       "      <td>0</td>\n",
       "      <td>77069.234271</td>\n",
       "      <td>покупка коммерческой недвижимости</td>\n",
       "    </tr>\n",
       "    <tr>\n",
       "      <td>12</td>\n",
       "      <td>0</td>\n",
       "      <td>357103.967291</td>\n",
       "      <td>65</td>\n",
       "      <td>среднее</td>\n",
       "      <td>1</td>\n",
       "      <td>гражданский брак</td>\n",
       "      <td>1</td>\n",
       "      <td>M</td>\n",
       "      <td>пенсионер</td>\n",
       "      <td>0</td>\n",
       "      <td>118514.486412</td>\n",
       "      <td>сыграть свадьбу</td>\n",
       "    </tr>\n",
       "    <tr>\n",
       "      <td>13</td>\n",
       "      <td>0</td>\n",
       "      <td>1846.641941</td>\n",
       "      <td>54</td>\n",
       "      <td>неоконченное высшее</td>\n",
       "      <td>2</td>\n",
       "      <td>женат / замужем</td>\n",
       "      <td>0</td>\n",
       "      <td>F</td>\n",
       "      <td>сотрудник</td>\n",
       "      <td>0</td>\n",
       "      <td>130458.228857</td>\n",
       "      <td>приобретение автомобиля</td>\n",
       "    </tr>\n",
       "    <tr>\n",
       "      <td>14</td>\n",
       "      <td>0</td>\n",
       "      <td>1844.956182</td>\n",
       "      <td>56</td>\n",
       "      <td>высшее</td>\n",
       "      <td>0</td>\n",
       "      <td>гражданский брак</td>\n",
       "      <td>1</td>\n",
       "      <td>F</td>\n",
       "      <td>компаньон</td>\n",
       "      <td>1</td>\n",
       "      <td>165127.911772</td>\n",
       "      <td>покупка жилой недвижимости</td>\n",
       "    </tr>\n",
       "  </tbody>\n",
       "</table>\n",
       "</div>"
      ],
      "text/plain": [
       "    children  days_employed  age            education  education_id  \\\n",
       "10         2    4171.483647   36               высшее             0   \n",
       "11         0     792.701887   40              среднее             1   \n",
       "12         0  357103.967291   65              среднее             1   \n",
       "13         0    1846.641941   54  неоконченное высшее             2   \n",
       "14         0    1844.956182   56               высшее             0   \n",
       "\n",
       "       family_status  family_status_id gender income_type  debt_bool  \\\n",
       "10   женат / замужем                 0      M   компаньон          0   \n",
       "11   женат / замужем                 0      F   сотрудник          0   \n",
       "12  гражданский брак                 1      M   пенсионер          0   \n",
       "13   женат / замужем                 0      F   сотрудник          0   \n",
       "14  гражданский брак                 1      F   компаньон          1   \n",
       "\n",
       "    monthly_income                            purpose  \n",
       "10   113943.491460               покупка недвижимости  \n",
       "11    77069.234271  покупка коммерческой недвижимости  \n",
       "12   118514.486412                    сыграть свадьбу  \n",
       "13   130458.228857            приобретение автомобиля  \n",
       "14   165127.911772         покупка жилой недвижимости  "
      ]
     },
     "execution_count": 11,
     "metadata": {},
     "output_type": "execute_result"
    }
   ],
   "source": [
    "data[10:15]"
   ]
  },
  {
   "cell_type": "markdown",
   "metadata": {},
   "source": [
    "***\n",
    "**Вывод**\n",
    "\n",
    "В столбцах `days_employed` и `total_income` было исправлено 4348 пропуска (10% строк).  \n",
    "У всех пропущенных значений `days_employed` пропущены значения `total_income`.  \n",
    "Возможно, пропуски связаны с человеческим фактором.  \n",
    "При этом все другие данные заполнены.<br><br>\n",
    "***"
   ]
  },
  {
   "cell_type": "markdown",
   "metadata": {},
   "source": [
    "### Обработка опечаток"
   ]
  },
  {
   "cell_type": "markdown",
   "metadata": {},
   "source": [
    "* **Столбец `children`.<br>**\n",
    "    Заменим «20» на «2», «-1» на «1»."
   ]
  },
  {
   "cell_type": "code",
   "execution_count": 12,
   "metadata": {},
   "outputs": [
    {
     "name": "stdout",
     "output_type": "stream",
     "text": [
      "Проверим замену опечаток в столбце `children`, отобрав уникальные значения\n"
     ]
    },
    {
     "data": {
      "text/plain": [
       "array([1, 0, 3, 2, 4, 5])"
      ]
     },
     "execution_count": 12,
     "metadata": {},
     "output_type": "execute_result"
    }
   ],
   "source": [
    "data['children'] = data['children'].replace(20, 2)\n",
    "data['children'] = data['children'].replace(-1, 1)\n",
    "print(f'Проверим замену опечаток в столбце `children`, отобрав уникальные значения')\n",
    "data['children'].unique()"
   ]
  },
  {
   "cell_type": "markdown",
   "metadata": {},
   "source": [
    "* **Столбец `days_employed`.<br>**\n",
    "    Содержал отрицательные значения.  \n",
    "    Построим график зависимости трудового стажа от возраста.  "
   ]
  },
  {
   "cell_type": "code",
   "execution_count": 13,
   "metadata": {
    "scrolled": false
   },
   "outputs": [
    {
     "data": {
      "image/png": "[encoded data removed]",
      "text/plain": [
       "<Figure size 1008x576 with 1 Axes>"
      ]
     },
     "metadata": {
      "needs_background": "light"
     },
     "output_type": "display_data"
    }
   ],
   "source": [
    "import matplotlib.pyplot as plt\n",
    " \n",
    "gridsize = (3, 1)\n",
    "fig = plt.figure(figsize=(14, 8))\n",
    "ax1 = plt.subplot2grid(gridsize, (0, 0), colspan=2, rowspan=2)\n",
    "\n",
    "ax1.set_title('Отношение стажа в годах (Y) к возрасту в годах (X)', fontsize=14)\n",
    " \n",
    "sctr = ax1.scatter(x=data['age'], y=data['days_employed']/365, c=data['days_employed'], cmap='plasma')\n",
    "ax1.set_xlabel('возраст в годах')\n",
    "ax1.set_ylabel('стаж в годах')\n",
    "\n",
    "plt.show()"
   ]
  },
  {
   "cell_type": "markdown",
   "metadata": {},
   "source": [
    "Из распределения стажа по отношению к возрасту становится ясно, что как минимум часть данных записана ошибочно.  \n",
    "Стаж более 800 лет невозможен.  \n",
    "Уберём эти данные и построим ещё раз.  "
   ]
  },
  {
   "cell_type": "code",
   "execution_count": 14,
   "metadata": {},
   "outputs": [],
   "source": [
    "def fix_days_employed(row):\n",
    "    days_employed = row['days_employed']\n",
    "    if days_employed > 292000:\n",
    "        return 0\n",
    "    return days_employed"
   ]
  },
  {
   "cell_type": "code",
   "execution_count": 15,
   "metadata": {},
   "outputs": [],
   "source": [
    "fixed_data = data.copy()\n",
    "fixed_data['days_employed'] = fixed_data.apply(fix_days_employed, axis=1)"
   ]
  },
  {
   "cell_type": "code",
   "execution_count": 16,
   "metadata": {},
   "outputs": [
    {
     "data": {
      "image/png": "[encoded data removed]",
      "text/plain": [
       "<Figure size 1008x576 with 1 Axes>"
      ]
     },
     "metadata": {
      "needs_background": "light"
     },
     "output_type": "display_data"
    }
   ],
   "source": [
    "gridsize = (3, 1)\n",
    "fig = plt.figure(figsize=(14, 8))\n",
    "ax1 = plt.subplot2grid(gridsize, (0, 0), colspan=2, rowspan=2)\n",
    "ax1.set_title('Отношение стажа в годах (Y) к возрасту в годах (X)', fontsize=14)\n",
    "ax1.set_xlabel('возраст в годах')\n",
    "ax1.set_ylabel('стаж в годах')\n",
    "sctr = ax1.scatter(x=fixed_data['age'], y=fixed_data['days_employed']/365, c=fixed_data['days_employed']/365, cmap='plasma')\n",
    "plt.show()"
   ]
  },
  {
   "cell_type": "markdown",
   "metadata": {},
   "source": [
    "По логике, отношение стажа в годах (Y) к возрасту в годах (X) должно быть линейным.  \n",
    "Странным кажется наличие множества заёмщиков со стажем до 10 лет вне зависимости от возраста.  \n",
    "Пример ожидаемого отношения стажа в годах (Y) к возрасту в годах (X):  "
   ]
  },
  {
   "cell_type": "code",
   "execution_count": 17,
   "metadata": {
    "scrolled": false
   },
   "outputs": [
    {
     "data": {
      "image/png": "[encoded data removed]",
      "text/plain": [
       "<Figure size 1008x576 with 1 Axes>"
      ]
     },
     "metadata": {
      "needs_background": "light"
     },
     "output_type": "display_data"
    }
   ],
   "source": [
    "gridsize = (3, 1)\n",
    "fig = plt.figure(figsize=(14, 8))\n",
    "ax1 = plt.subplot2grid(gridsize, (0, 0), colspan=2, rowspan=2)\n",
    "ax1.set_title('Пример ожидаемого отношения стажа в годах (Y) к возрасту в годах (X)', fontsize=14)\n",
    "ax1.set_xlabel('возраст в годах')\n",
    "ax1.set_ylabel('стаж в годах')\n",
    "sctr = ax1.scatter(x=[30, 35, 40, 45, 50, 55, 60, 65, 70], y=[10, 15, 20, 25, 30, 35, 40, 45, 50], c=[10, 15, 20, 25, 30, 35, 40, 45, 50], cmap='plasma')\n",
    "plt.show()"
   ]
  },
  {
   "cell_type": "markdown",
   "metadata": {},
   "source": [
    "Проверим, нет ли зависимости между типом занятости и ошибочными данными по стажу работы."
   ]
  },
  {
   "cell_type": "code",
   "execution_count": 18,
   "metadata": {
    "scrolled": false
   },
   "outputs": [
    {
     "data": {
      "image/png": "[encoded data removed]",
      "text/plain": [
       "<Figure size 1008x576 with 1 Axes>"
      ]
     },
     "metadata": {
      "needs_background": "light"
     },
     "output_type": "display_data"
    }
   ],
   "source": [
    "import seaborn as sns\n",
    "fig = plt.figure(figsize=(14, 8))\n",
    "ax1 = sns.scatterplot(x=data['age'], y=data['days_employed']/365, hue=data['income_type'], palette='Set1')\n",
    "ax1.set_title('Отношение стажа в годах (Y) к типу занятости (X)', fontsize=14)\n",
    "ax1.set_xlabel('возраст в годах')\n",
    "ax1.set_ylabel('стаж в годах')\n",
    "plt.show()"
   ]
  },
  {
   "cell_type": "markdown",
   "metadata": {},
   "source": [
    "Из графика видно, что проблемные данные в категории «пенсионер».  \n",
    "Проверим распределение у исправленных данных.  "
   ]
  },
  {
   "cell_type": "code",
   "execution_count": 19,
   "metadata": {
    "scrolled": false
   },
   "outputs": [
    {
     "data": {
      "image/png": "[encoded data removed]",
      "text/plain": [
       "<Figure size 1008x576 with 1 Axes>"
      ]
     },
     "metadata": {
      "needs_background": "light"
     },
     "output_type": "display_data"
    }
   ],
   "source": [
    "fig = plt.figure(figsize=(14, 8))\n",
    "ax1 = sns.scatterplot(x=fixed_data['age'], y=fixed_data['days_employed']/365, hue=fixed_data['income_type'], palette='Set1')\n",
    "ax1.set_title('Отношение стажа в годах (Y) к типу занятости (X)', fontsize=14)\n",
    "ax1.set_xlabel('возраст в годах')\n",
    "ax1.set_ylabel('стаж в годах')\n",
    "plt.show()"
   ]
  },
  {
   "cell_type": "markdown",
   "metadata": {},
   "source": [
    "Видим, что даже в исправленных данных нет ожидаемой линейной зависимости стажа от возраста ни в одной категории.<br>"
   ]
  },
  {
   "cell_type": "markdown",
   "metadata": {},
   "source": [
    "***\n",
    "**Вывод**\n",
    "\n",
    "Не удалось выявить логику нарушения данных в столбце.  \n",
    "Высокая вероятность, что данные в столбце `days_employed` искажены безвозвратно.  \n",
    "Эти данные не требуются для задач данного проекта.  \n",
    "Поэтому можно пренебречь ими.<br><br>\n",
    "***"
   ]
  },
  {
   "cell_type": "markdown",
   "metadata": {},
   "source": [
    "### Замена типа данных"
   ]
  },
  {
   "cell_type": "markdown",
   "metadata": {},
   "source": [
    "* **Столбец `total_income`.<br>**\n",
    "    Заменим float64 на int64."
   ]
  },
  {
   "cell_type": "code",
   "execution_count": 20,
   "metadata": {},
   "outputs": [],
   "source": [
    "data['monthly_income'] = data['monthly_income'].astype('int')"
   ]
  },
  {
   "cell_type": "markdown",
   "metadata": {},
   "source": [
    "* **Столбец `days_employed`.<br>**\n",
    "    Заменим float64 на int64."
   ]
  },
  {
   "cell_type": "code",
   "execution_count": 21,
   "metadata": {},
   "outputs": [],
   "source": [
    "data['days_employed'] = data['days_employed'].astype('int')"
   ]
  },
  {
   "cell_type": "code",
   "execution_count": 22,
   "metadata": {},
   "outputs": [
    {
     "name": "stdout",
     "output_type": "stream",
     "text": [
      "<class 'pandas.core.frame.DataFrame'>\n",
      "RangeIndex: 21525 entries, 0 to 21524\n",
      "Data columns (total 12 columns):\n",
      "children            21525 non-null int64\n",
      "days_employed       21525 non-null int64\n",
      "age                 21525 non-null int64\n",
      "education           21525 non-null object\n",
      "education_id        21525 non-null int64\n",
      "family_status       21525 non-null object\n",
      "family_status_id    21525 non-null int64\n",
      "gender              21525 non-null object\n",
      "income_type         21525 non-null object\n",
      "debt_bool           21525 non-null int64\n",
      "monthly_income      21525 non-null int64\n",
      "purpose             21525 non-null object\n",
      "dtypes: int64(7), object(5)\n",
      "memory usage: 2.0+ MB\n"
     ]
    }
   ],
   "source": [
    "data.info()"
   ]
  },
  {
   "cell_type": "markdown",
   "metadata": {},
   "source": [
    "***\n",
    "**Вывод**\n",
    "\n",
    "После правок все данные соответствуют типу<br><br>\n",
    "***"
   ]
  },
  {
   "cell_type": "markdown",
   "metadata": {},
   "source": [
    "### Обработка дубликатов"
   ]
  },
  {
   "cell_type": "markdown",
   "metadata": {},
   "source": [
    "Приведём значения столбцов `education` к единому виду."
   ]
  },
  {
   "cell_type": "code",
   "execution_count": 23,
   "metadata": {
    "scrolled": true
   },
   "outputs": [
    {
     "data": {
      "text/plain": [
       "array(['высшее', 'среднее', 'неоконченное высшее', 'начальное',\n",
       "       'ученая степень'], dtype=object)"
      ]
     },
     "execution_count": 23,
     "metadata": {},
     "output_type": "execute_result"
    }
   ],
   "source": [
    "data['education'] = data['education'].str.lower()\n",
    "data['education'].unique()"
   ]
  },
  {
   "cell_type": "markdown",
   "metadata": {},
   "source": [
    "***\n",
    "**Вывод**\n",
    "\n",
    "В категориях привели все записи к одному виду.  \n",
    "Дубликаты в столбце `education` могли появится из-за человеческого фактора.<br><br>\n",
    "***"
   ]
  },
  {
   "cell_type": "markdown",
   "metadata": {},
   "source": [
    "### Лемматизация"
   ]
  },
  {
   "cell_type": "code",
   "execution_count": 24,
   "metadata": {},
   "outputs": [],
   "source": [
    "import json\n",
    "from pymystem3 import Mystem\n",
    "from collections import Counter\n",
    "m = Mystem()"
   ]
  },
  {
   "cell_type": "code",
   "execution_count": 25,
   "metadata": {},
   "outputs": [],
   "source": [
    "def lemma_purpose(purpose):\n",
    "    lemma = ' ' .join(m.lemmatize(purpose))\n",
    "    return lemma[:-2]"
   ]
  },
  {
   "cell_type": "markdown",
   "metadata": {},
   "source": [
    "Выделим ключевые слова в «цели кредита» с помощью метода `lemma_purpose`"
   ]
  },
  {
   "cell_type": "code",
   "execution_count": 26,
   "metadata": {},
   "outputs": [],
   "source": [
    "data['words_in_purpose'] = data['purpose'].apply(lemma_purpose)"
   ]
  },
  {
   "cell_type": "code",
   "execution_count": 27,
   "metadata": {
    "scrolled": false
   },
   "outputs": [
    {
     "data": {
      "text/plain": [
       "array(['покупка   жилье', 'приобретение   автомобиль',\n",
       "       'дополнительный   образование', 'сыграть   свадьба',\n",
       "       'операция   с   жилье', 'образование', 'на   проведение   свадьба',\n",
       "       'покупка   жилье   для   семья', 'покупка   недвижимость',\n",
       "       'покупка   коммерческий   недвижимость',\n",
       "       'покупка   жилой   недвижимость',\n",
       "       'строительство   собственный   недвижимость', 'недвижимость',\n",
       "       'строительство   недвижимость',\n",
       "       'на   покупка   подержать   автомобиль',\n",
       "       'на   покупка   свой   автомобиль',\n",
       "       'операция   с   коммерческий   недвижимость',\n",
       "       'строительство   жилой   недвижимость', 'жилье',\n",
       "       'операция   со   свой   недвижимость', 'автомобиль',\n",
       "       'заниматься   образование',\n",
       "       'сделка   с   подержанный   автомобиль', 'получение   образование',\n",
       "       'свадьба', 'получение   дополнительный   образование',\n",
       "       'покупка   свой   жилье', 'операция   с   недвижимость',\n",
       "       'получение   высокий   образование', 'свой   автомобиль',\n",
       "       'сделка   с   автомобиль', 'профильный   образование',\n",
       "       'высокий   образование', 'покупка   жилье   для   сдача',\n",
       "       'на   покупка   автомобиль', 'ремонт   жилье',\n",
       "       'заниматься   высокий   образование'], dtype=object)"
      ]
     },
     "execution_count": 27,
     "metadata": {},
     "output_type": "execute_result"
    }
   ],
   "source": [
    "data['words_in_purpose'].unique()"
   ]
  },
  {
   "cell_type": "markdown",
   "metadata": {},
   "source": [
    "***\n",
    "**Вывод**\n",
    "\n",
    "Данные можно сгруппировать в пять категорий.<br><br>\n",
    "***"
   ]
  },
  {
   "cell_type": "markdown",
   "metadata": {},
   "source": [
    "### Категоризация данных"
   ]
  },
  {
   "cell_type": "code",
   "execution_count": 28,
   "metadata": {},
   "outputs": [],
   "source": [
    "def purpose_category(category_list):\n",
    "    if 'автомобиль' in category_list:\n",
    "        return \"автомобиль\"\n",
    "    if \"образование\" in category_list:\n",
    "        return \"образование\"\n",
    "    if \"свадьба\" in category_list:\n",
    "        return \"свадьба\"\n",
    "    if \"строительство\" in category_list:\n",
    "        return \"строительство\"\n",
    "    if \"недвижимость\" in category_list:\n",
    "        return \"недвижимость\"\n",
    "    if \"жилье\" in category_list:\n",
    "        return \"недвижимость\""
   ]
  },
  {
   "cell_type": "markdown",
   "metadata": {},
   "source": [
    "Разобьём цели получения кредита на 5 категорий:  \n",
    "«автомобиль», «образование», «свадьба», «строительство», «недвижимость».  "
   ]
  },
  {
   "cell_type": "code",
   "execution_count": 29,
   "metadata": {},
   "outputs": [
    {
     "data": {
      "text/html": [
       "<div>\n",
       "<style scoped>\n",
       "    .dataframe tbody tr th:only-of-type {\n",
       "        vertical-align: middle;\n",
       "    }\n",
       "\n",
       "    .dataframe tbody tr th {\n",
       "        vertical-align: top;\n",
       "    }\n",
       "\n",
       "    .dataframe thead th {\n",
       "        text-align: right;\n",
       "    }\n",
       "</style>\n",
       "<table border=\"1\" class=\"dataframe\">\n",
       "  <thead>\n",
       "    <tr style=\"text-align: right;\">\n",
       "      <th></th>\n",
       "      <th>children</th>\n",
       "      <th>days_employed</th>\n",
       "      <th>age</th>\n",
       "      <th>education</th>\n",
       "      <th>education_id</th>\n",
       "      <th>family_status</th>\n",
       "      <th>family_status_id</th>\n",
       "      <th>gender</th>\n",
       "      <th>income_type</th>\n",
       "      <th>debt_bool</th>\n",
       "      <th>monthly_income</th>\n",
       "      <th>purpose</th>\n",
       "      <th>words_in_purpose</th>\n",
       "      <th>purpose_category</th>\n",
       "    </tr>\n",
       "  </thead>\n",
       "  <tbody>\n",
       "    <tr>\n",
       "      <td>0</td>\n",
       "      <td>1</td>\n",
       "      <td>8437</td>\n",
       "      <td>42</td>\n",
       "      <td>высшее</td>\n",
       "      <td>0</td>\n",
       "      <td>женат / замужем</td>\n",
       "      <td>0</td>\n",
       "      <td>F</td>\n",
       "      <td>сотрудник</td>\n",
       "      <td>0</td>\n",
       "      <td>253875</td>\n",
       "      <td>покупка жилья</td>\n",
       "      <td>покупка   жилье</td>\n",
       "      <td>недвижимость</td>\n",
       "    </tr>\n",
       "    <tr>\n",
       "      <td>1</td>\n",
       "      <td>1</td>\n",
       "      <td>4024</td>\n",
       "      <td>36</td>\n",
       "      <td>среднее</td>\n",
       "      <td>1</td>\n",
       "      <td>женат / замужем</td>\n",
       "      <td>0</td>\n",
       "      <td>F</td>\n",
       "      <td>сотрудник</td>\n",
       "      <td>0</td>\n",
       "      <td>112080</td>\n",
       "      <td>приобретение автомобиля</td>\n",
       "      <td>приобретение   автомобиль</td>\n",
       "      <td>автомобиль</td>\n",
       "    </tr>\n",
       "    <tr>\n",
       "      <td>2</td>\n",
       "      <td>0</td>\n",
       "      <td>5623</td>\n",
       "      <td>33</td>\n",
       "      <td>среднее</td>\n",
       "      <td>1</td>\n",
       "      <td>женат / замужем</td>\n",
       "      <td>0</td>\n",
       "      <td>M</td>\n",
       "      <td>сотрудник</td>\n",
       "      <td>0</td>\n",
       "      <td>145885</td>\n",
       "      <td>покупка жилья</td>\n",
       "      <td>покупка   жилье</td>\n",
       "      <td>недвижимость</td>\n",
       "    </tr>\n",
       "    <tr>\n",
       "      <td>3</td>\n",
       "      <td>3</td>\n",
       "      <td>4124</td>\n",
       "      <td>32</td>\n",
       "      <td>среднее</td>\n",
       "      <td>1</td>\n",
       "      <td>женат / замужем</td>\n",
       "      <td>0</td>\n",
       "      <td>M</td>\n",
       "      <td>сотрудник</td>\n",
       "      <td>0</td>\n",
       "      <td>267628</td>\n",
       "      <td>дополнительное образование</td>\n",
       "      <td>дополнительный   образование</td>\n",
       "      <td>образование</td>\n",
       "    </tr>\n",
       "    <tr>\n",
       "      <td>4</td>\n",
       "      <td>0</td>\n",
       "      <td>340266</td>\n",
       "      <td>53</td>\n",
       "      <td>среднее</td>\n",
       "      <td>1</td>\n",
       "      <td>гражданский брак</td>\n",
       "      <td>1</td>\n",
       "      <td>F</td>\n",
       "      <td>пенсионер</td>\n",
       "      <td>0</td>\n",
       "      <td>158616</td>\n",
       "      <td>сыграть свадьбу</td>\n",
       "      <td>сыграть   свадьба</td>\n",
       "      <td>свадьба</td>\n",
       "    </tr>\n",
       "  </tbody>\n",
       "</table>\n",
       "</div>"
      ],
      "text/plain": [
       "   children  days_employed  age education  education_id     family_status  \\\n",
       "0         1           8437   42    высшее             0   женат / замужем   \n",
       "1         1           4024   36   среднее             1   женат / замужем   \n",
       "2         0           5623   33   среднее             1   женат / замужем   \n",
       "3         3           4124   32   среднее             1   женат / замужем   \n",
       "4         0         340266   53   среднее             1  гражданский брак   \n",
       "\n",
       "   family_status_id gender income_type  debt_bool  monthly_income  \\\n",
       "0                 0      F   сотрудник          0          253875   \n",
       "1                 0      F   сотрудник          0          112080   \n",
       "2                 0      M   сотрудник          0          145885   \n",
       "3                 0      M   сотрудник          0          267628   \n",
       "4                 1      F   пенсионер          0          158616   \n",
       "\n",
       "                      purpose              words_in_purpose purpose_category  \n",
       "0               покупка жилья               покупка   жилье     недвижимость  \n",
       "1     приобретение автомобиля     приобретение   автомобиль       автомобиль  \n",
       "2               покупка жилья               покупка   жилье     недвижимость  \n",
       "3  дополнительное образование  дополнительный   образование      образование  \n",
       "4             сыграть свадьбу             сыграть   свадьба          свадьба  "
      ]
     },
     "execution_count": 29,
     "metadata": {},
     "output_type": "execute_result"
    }
   ],
   "source": [
    "data['purpose_category'] = data['words_in_purpose'].apply(purpose_category)\n",
    "data.head()"
   ]
  },
  {
   "cell_type": "markdown",
   "metadata": {},
   "source": [
    "***\n",
    "**Вывод**\n",
    "\n",
    "Данные очищены, подготовлены и сгруппированы.  \n",
    "Теперь можно перейти к решению поставленных задач.<br><br>\n",
    "***"
   ]
  },
  {
   "cell_type": "markdown",
   "metadata": {},
   "source": [
    "## Ответы на вопросы заказчика"
   ]
  },
  {
   "cell_type": "markdown",
   "metadata": {},
   "source": [
    "### Есть ли зависимость между наличием детей и возвратом кредита в срок?"
   ]
  },
  {
   "cell_type": "markdown",
   "metadata": {},
   "source": [
    "- Количественные данные:"
   ]
  },
  {
   "cell_type": "code",
   "execution_count": 30,
   "metadata": {},
   "outputs": [
    {
     "name": "stdout",
     "output_type": "stream",
     "text": [
      "В среднем процент кредитов, по которым были просроченные платежи: 8.09%\n"
     ]
    }
   ],
   "source": [
    "mean_general = data['debt_bool'].sum() / data['debt_bool'].count()\n",
    "print(\"В среднем процент кредитов, по которым были просроченные платежи: {0:.2f}%\".format(mean_general*100))\n",
    "data_pivot_children = data.pivot_table(index=['debt_bool'], columns='children', values = 'family_status_id', aggfunc='count')\n",
    "data_pivot_children = data_pivot_children.fillna(0)\n",
    "\n",
    "debt_data = {}\n",
    "for i in data_pivot_children.columns:\n",
    "    debt_data[i] = data_pivot_children[i][1] / data_pivot_children[i].sum()"
   ]
  },
  {
   "cell_type": "markdown",
   "metadata": {},
   "source": [
    "- Зависимость между наличием детей и возвратом кредита:"
   ]
  },
  {
   "cell_type": "code",
   "execution_count": 31,
   "metadata": {},
   "outputs": [
    {
     "data": {
      "text/html": [
       "<style  type=\"text/css\" >\n",
       "</style><table id=\"T_839b56f0_7c4d_11ec_979f_02420a39450d\" ><thead>    <tr>        <th class=\"col_heading level0 col0\" >children</th>        <th class=\"col_heading level0 col1\" >debt_percentage</th>    </tr></thead><tbody>\n",
       "                <tr>\n",
       "                                <td id=\"T_839b56f0_7c4d_11ec_979f_02420a39450drow0_col0\" class=\"data row0 col0\" >0</td>\n",
       "                        <td id=\"T_839b56f0_7c4d_11ec_979f_02420a39450drow0_col1\" class=\"data row0 col1\" >7.51%</td>\n",
       "            </tr>\n",
       "            <tr>\n",
       "                                <td id=\"T_839b56f0_7c4d_11ec_979f_02420a39450drow1_col0\" class=\"data row1 col0\" >1</td>\n",
       "                        <td id=\"T_839b56f0_7c4d_11ec_979f_02420a39450drow1_col1\" class=\"data row1 col1\" >9.15%</td>\n",
       "            </tr>\n",
       "            <tr>\n",
       "                                <td id=\"T_839b56f0_7c4d_11ec_979f_02420a39450drow2_col0\" class=\"data row2 col0\" >2</td>\n",
       "                        <td id=\"T_839b56f0_7c4d_11ec_979f_02420a39450drow2_col1\" class=\"data row2 col1\" >9.48%</td>\n",
       "            </tr>\n",
       "            <tr>\n",
       "                                <td id=\"T_839b56f0_7c4d_11ec_979f_02420a39450drow3_col0\" class=\"data row3 col0\" >3</td>\n",
       "                        <td id=\"T_839b56f0_7c4d_11ec_979f_02420a39450drow3_col1\" class=\"data row3 col1\" >8.18%</td>\n",
       "            </tr>\n",
       "            <tr>\n",
       "                                <td id=\"T_839b56f0_7c4d_11ec_979f_02420a39450drow4_col0\" class=\"data row4 col0\" >4</td>\n",
       "                        <td id=\"T_839b56f0_7c4d_11ec_979f_02420a39450drow4_col1\" class=\"data row4 col1\" >9.76%</td>\n",
       "            </tr>\n",
       "            <tr>\n",
       "                                <td id=\"T_839b56f0_7c4d_11ec_979f_02420a39450drow5_col0\" class=\"data row5 col0\" >5</td>\n",
       "                        <td id=\"T_839b56f0_7c4d_11ec_979f_02420a39450drow5_col1\" class=\"data row5 col1\" >0.00%</td>\n",
       "            </tr>\n",
       "    </tbody></table>"
      ],
      "text/plain": [
       "<pandas.io.formats.style.Styler at 0x7fcb4d8b2d10>"
      ]
     },
     "execution_count": 31,
     "metadata": {},
     "output_type": "execute_result"
    }
   ],
   "source": [
    "def debt_percentage(x): return '{:.2%} '.format(x.mean())\n",
    "\n",
    "data.groupby('children')['debt_bool'].agg([debt_percentage])"
   ]
  },
  {
   "cell_type": "code",
   "execution_count": 32,
   "metadata": {},
   "outputs": [],
   "source": [
    "kids_factor = abs(data_pivot_children[0][1] / (data_pivot_children[0][0] + data_pivot_children[0][1]) - (data_pivot_children.loc[1,1:].sum() / data_pivot_children.loc[:,1:].sum().sum()))"
   ]
  },
  {
   "cell_type": "markdown",
   "metadata": {},
   "source": [
    "***\n",
    "**Вывод**\n",
    "\n",
    "Люди без детей реже имеют задолженность во возврату кредитов."
   ]
  },
  {
   "cell_type": "code",
   "execution_count": 33,
   "metadata": {},
   "outputs": [
    {
     "name": "stdout",
     "output_type": "stream",
     "text": [
      "Появление детей оказывает значительное влияние на возврат кредита.\n",
      "Разница между заёмщиками с детьми и без, которые имели и не имели задолженность:\n",
      "1.68%\n"
     ]
    }
   ],
   "source": [
    "if kids_factor < 0.01:\n",
    "    print('Появление детей оказывает незначительное влияние на возврат кредита.')\n",
    "else:\n",
    "    print('Появление детей оказывает значительное влияние на возврат кредита.')\n",
    "print('Разница между заёмщиками с детьми и без, которые имели и не имели задолженность:\\n{:.2%}'.format(kids_factor))"
   ]
  },
  {
   "cell_type": "markdown",
   "metadata": {},
   "source": [
    "***"
   ]
  },
  {
   "cell_type": "markdown",
   "metadata": {},
   "source": [
    "### Есть ли зависимость между семейным положением и возвратом кредита в срок?"
   ]
  },
  {
   "cell_type": "code",
   "execution_count": 34,
   "metadata": {},
   "outputs": [
    {
     "data": {
      "text/html": [
       "<style  type=\"text/css\" >\n",
       "</style><table id=\"T_20a03d60_7ba1_11ec_bf34_02420a392f77\" ><thead>    <tr>        <th class=\"col_heading level0 col0\" >family_status</th>        <th class=\"col_heading level0 col1\" >debt_percentage</th>    </tr></thead><tbody>\n",
       "                <tr>\n",
       "                                <td id=\"T_20a03d60_7ba1_11ec_bf34_02420a392f77row0_col0\" class=\"data row0 col0\" >Не женат / не замужем</td>\n",
       "                        <td id=\"T_20a03d60_7ba1_11ec_bf34_02420a392f77row0_col1\" class=\"data row0 col1\" >9.74%</td>\n",
       "            </tr>\n",
       "            <tr>\n",
       "                                <td id=\"T_20a03d60_7ba1_11ec_bf34_02420a392f77row1_col0\" class=\"data row1 col0\" >гражданский брак</td>\n",
       "                        <td id=\"T_20a03d60_7ba1_11ec_bf34_02420a392f77row1_col1\" class=\"data row1 col1\" >9.29%</td>\n",
       "            </tr>\n",
       "            <tr>\n",
       "                                <td id=\"T_20a03d60_7ba1_11ec_bf34_02420a392f77row2_col0\" class=\"data row2 col0\" >женат / замужем</td>\n",
       "                        <td id=\"T_20a03d60_7ba1_11ec_bf34_02420a392f77row2_col1\" class=\"data row2 col1\" >7.52%</td>\n",
       "            </tr>\n",
       "            <tr>\n",
       "                                <td id=\"T_20a03d60_7ba1_11ec_bf34_02420a392f77row3_col0\" class=\"data row3 col0\" >в разводе</td>\n",
       "                        <td id=\"T_20a03d60_7ba1_11ec_bf34_02420a392f77row3_col1\" class=\"data row3 col1\" >7.11%</td>\n",
       "            </tr>\n",
       "            <tr>\n",
       "                                <td id=\"T_20a03d60_7ba1_11ec_bf34_02420a392f77row4_col0\" class=\"data row4 col0\" >вдовец / вдова</td>\n",
       "                        <td id=\"T_20a03d60_7ba1_11ec_bf34_02420a392f77row4_col1\" class=\"data row4 col1\" >6.56%</td>\n",
       "            </tr>\n",
       "    </tbody></table>"
      ],
      "text/plain": [
       "<pandas.io.formats.style.Styler at 0x7f606f97e7d0>"
      ]
     },
     "execution_count": 34,
     "metadata": {},
     "output_type": "execute_result"
    }
   ],
   "source": [
    "data_pivot_family = data.pivot_table(index=['debt_bool'], columns='family_status', values = 'family_status_id', aggfunc='count')\n",
    "\n",
    "debt_data = {}\n",
    "for i in data_pivot_family.columns:\n",
    "    debt_data[i] = data_pivot_family[i][1] / data_pivot_family[i].sum()\n",
    "\n",
    "interim_data = {\n",
    "    'family_status': list(debt_data.keys()), \n",
    "    'debt_float': list(debt_data.values())\n",
    "}\n",
    "df_family_status = pd.DataFrame(data=interim_data)\n",
    "df_family_status['debt_percentage'] = pd.Series([\"{0:.2f}%\".format(val * 100) for val in df_family_status['debt_float']], index = df_family_status.index)\n",
    "\n",
    "df_family_status = df_family_status.sort_values(by='debt_float', ascending=False)\n",
    "df_family_status[['family_status', 'debt_percentage']].style.hide_index()"
   ]
  },
  {
   "cell_type": "markdown",
   "metadata": {},
   "source": [
    "***\n",
    "**Вывод**\n",
    "\n",
    "Неженатые и проживающие в гражданском браке люди чаще имеют задолженность по возврату кредита.<br><br>\n",
    "***"
   ]
  },
  {
   "cell_type": "markdown",
   "metadata": {},
   "source": [
    "### Есть ли зависимость между уровнем дохода и возвратом кредита в срок?"
   ]
  },
  {
   "cell_type": "markdown",
   "metadata": {},
   "source": [
    "Сгруппируем данные по уровню дохода в 6 категорий:\n",
    "- Доход до 50 тыс. руб. / мес.\n",
    "- Доход 50–100 тыс. руб. / мес.\n",
    "- Доход 100–150 тыс. руб. / мес.\n",
    "- Доход 150–200 тыс. руб. / мес.\n",
    "- Доход 200–250 тыс. руб. / мес.\n",
    "- Доход более 250 тыс. руб. / мес.\n"
   ]
  },
  {
   "cell_type": "code",
   "execution_count": 35,
   "metadata": {},
   "outputs": [],
   "source": [
    "def income_category(row):\n",
    "    income = row['monthly_income']\n",
    "    if income <= 50000:\n",
    "        return 'Доход до 50 тр'\n",
    "    if 50000 < income <= 100000:\n",
    "        return 'Доход 50–100 тр'\n",
    "    if 100000 < income <= 150000:\n",
    "        return 'Доход 100–150 тр'\n",
    "    if 150000 < income <= 200000:\n",
    "        return 'Доход 150–200 тр'\n",
    "    if 200000 < income <= 250000:\n",
    "        return 'Доход 200–250 тр'\n",
    "    if 250000 < income:\n",
    "        return 'Доход более 250 тр'"
   ]
  },
  {
   "cell_type": "code",
   "execution_count": 36,
   "metadata": {},
   "outputs": [
    {
     "data": {
      "text/html": [
       "<div>\n",
       "<style scoped>\n",
       "    .dataframe tbody tr th:only-of-type {\n",
       "        vertical-align: middle;\n",
       "    }\n",
       "\n",
       "    .dataframe tbody tr th {\n",
       "        vertical-align: top;\n",
       "    }\n",
       "\n",
       "    .dataframe thead th {\n",
       "        text-align: right;\n",
       "    }\n",
       "</style>\n",
       "<table border=\"1\" class=\"dataframe\">\n",
       "  <thead>\n",
       "    <tr style=\"text-align: right;\">\n",
       "      <th></th>\n",
       "      <th>children</th>\n",
       "      <th>days_employed</th>\n",
       "      <th>age</th>\n",
       "      <th>education</th>\n",
       "      <th>education_id</th>\n",
       "      <th>family_status</th>\n",
       "      <th>family_status_id</th>\n",
       "      <th>gender</th>\n",
       "      <th>income_type</th>\n",
       "      <th>debt_bool</th>\n",
       "      <th>monthly_income</th>\n",
       "      <th>purpose</th>\n",
       "      <th>words_in_purpose</th>\n",
       "      <th>purpose_category</th>\n",
       "      <th>income_category</th>\n",
       "    </tr>\n",
       "  </thead>\n",
       "  <tbody>\n",
       "    <tr>\n",
       "      <td>0</td>\n",
       "      <td>1</td>\n",
       "      <td>8437</td>\n",
       "      <td>42</td>\n",
       "      <td>высшее</td>\n",
       "      <td>0</td>\n",
       "      <td>женат / замужем</td>\n",
       "      <td>0</td>\n",
       "      <td>F</td>\n",
       "      <td>сотрудник</td>\n",
       "      <td>0</td>\n",
       "      <td>253875</td>\n",
       "      <td>покупка жилья</td>\n",
       "      <td>покупка   жилье</td>\n",
       "      <td>недвижимость</td>\n",
       "      <td>Доход более 250 тр</td>\n",
       "    </tr>\n",
       "    <tr>\n",
       "      <td>1</td>\n",
       "      <td>1</td>\n",
       "      <td>4024</td>\n",
       "      <td>36</td>\n",
       "      <td>среднее</td>\n",
       "      <td>1</td>\n",
       "      <td>женат / замужем</td>\n",
       "      <td>0</td>\n",
       "      <td>F</td>\n",
       "      <td>сотрудник</td>\n",
       "      <td>0</td>\n",
       "      <td>112080</td>\n",
       "      <td>приобретение автомобиля</td>\n",
       "      <td>приобретение   автомобиль</td>\n",
       "      <td>автомобиль</td>\n",
       "      <td>Доход 100–150 тр</td>\n",
       "    </tr>\n",
       "    <tr>\n",
       "      <td>2</td>\n",
       "      <td>0</td>\n",
       "      <td>5623</td>\n",
       "      <td>33</td>\n",
       "      <td>среднее</td>\n",
       "      <td>1</td>\n",
       "      <td>женат / замужем</td>\n",
       "      <td>0</td>\n",
       "      <td>M</td>\n",
       "      <td>сотрудник</td>\n",
       "      <td>0</td>\n",
       "      <td>145885</td>\n",
       "      <td>покупка жилья</td>\n",
       "      <td>покупка   жилье</td>\n",
       "      <td>недвижимость</td>\n",
       "      <td>Доход 100–150 тр</td>\n",
       "    </tr>\n",
       "    <tr>\n",
       "      <td>3</td>\n",
       "      <td>3</td>\n",
       "      <td>4124</td>\n",
       "      <td>32</td>\n",
       "      <td>среднее</td>\n",
       "      <td>1</td>\n",
       "      <td>женат / замужем</td>\n",
       "      <td>0</td>\n",
       "      <td>M</td>\n",
       "      <td>сотрудник</td>\n",
       "      <td>0</td>\n",
       "      <td>267628</td>\n",
       "      <td>дополнительное образование</td>\n",
       "      <td>дополнительный   образование</td>\n",
       "      <td>образование</td>\n",
       "      <td>Доход более 250 тр</td>\n",
       "    </tr>\n",
       "    <tr>\n",
       "      <td>4</td>\n",
       "      <td>0</td>\n",
       "      <td>340266</td>\n",
       "      <td>53</td>\n",
       "      <td>среднее</td>\n",
       "      <td>1</td>\n",
       "      <td>гражданский брак</td>\n",
       "      <td>1</td>\n",
       "      <td>F</td>\n",
       "      <td>пенсионер</td>\n",
       "      <td>0</td>\n",
       "      <td>158616</td>\n",
       "      <td>сыграть свадьбу</td>\n",
       "      <td>сыграть   свадьба</td>\n",
       "      <td>свадьба</td>\n",
       "      <td>Доход 150–200 тр</td>\n",
       "    </tr>\n",
       "  </tbody>\n",
       "</table>\n",
       "</div>"
      ],
      "text/plain": [
       "   children  days_employed  age education  education_id     family_status  \\\n",
       "0         1           8437   42    высшее             0   женат / замужем   \n",
       "1         1           4024   36   среднее             1   женат / замужем   \n",
       "2         0           5623   33   среднее             1   женат / замужем   \n",
       "3         3           4124   32   среднее             1   женат / замужем   \n",
       "4         0         340266   53   среднее             1  гражданский брак   \n",
       "\n",
       "   family_status_id gender income_type  debt_bool  monthly_income  \\\n",
       "0                 0      F   сотрудник          0          253875   \n",
       "1                 0      F   сотрудник          0          112080   \n",
       "2                 0      M   сотрудник          0          145885   \n",
       "3                 0      M   сотрудник          0          267628   \n",
       "4                 1      F   пенсионер          0          158616   \n",
       "\n",
       "                      purpose              words_in_purpose purpose_category  \\\n",
       "0               покупка жилья               покупка   жилье     недвижимость   \n",
       "1     приобретение автомобиля     приобретение   автомобиль       автомобиль   \n",
       "2               покупка жилья               покупка   жилье     недвижимость   \n",
       "3  дополнительное образование  дополнительный   образование      образование   \n",
       "4             сыграть свадьбу             сыграть   свадьба          свадьба   \n",
       "\n",
       "      income_category  \n",
       "0  Доход более 250 тр  \n",
       "1    Доход 100–150 тр  \n",
       "2    Доход 100–150 тр  \n",
       "3  Доход более 250 тр  \n",
       "4    Доход 150–200 тр  "
      ]
     },
     "execution_count": 36,
     "metadata": {},
     "output_type": "execute_result"
    }
   ],
   "source": [
    "data['income_category'] = data.apply(income_category, axis=1)\n",
    "data.head()"
   ]
  },
  {
   "cell_type": "code",
   "execution_count": 37,
   "metadata": {},
   "outputs": [
    {
     "data": {
      "text/html": [
       "<style  type=\"text/css\" >\n",
       "</style><table id=\"T_20eb5d40_7ba1_11ec_bf34_02420a392f77\" ><thead>    <tr>        <th class=\"col_heading level0 col0\" >income_category</th>        <th class=\"col_heading level0 col1\" >debt_percentage</th>    </tr></thead><tbody>\n",
       "                <tr>\n",
       "                                <td id=\"T_20eb5d40_7ba1_11ec_bf34_02420a392f77row0_col0\" class=\"data row0 col0\" >Доход 100–150 тр</td>\n",
       "                        <td id=\"T_20eb5d40_7ba1_11ec_bf34_02420a392f77row0_col1\" class=\"data row0 col1\" >8.64%</td>\n",
       "            </tr>\n",
       "            <tr>\n",
       "                                <td id=\"T_20eb5d40_7ba1_11ec_bf34_02420a392f77row1_col0\" class=\"data row1 col0\" >Доход 150–200 тр</td>\n",
       "                        <td id=\"T_20eb5d40_7ba1_11ec_bf34_02420a392f77row1_col1\" class=\"data row1 col1\" >8.49%</td>\n",
       "            </tr>\n",
       "            <tr>\n",
       "                                <td id=\"T_20eb5d40_7ba1_11ec_bf34_02420a392f77row2_col0\" class=\"data row2 col0\" >Доход 50–100 тр</td>\n",
       "                        <td id=\"T_20eb5d40_7ba1_11ec_bf34_02420a392f77row2_col1\" class=\"data row2 col1\" >8.09%</td>\n",
       "            </tr>\n",
       "            <tr>\n",
       "                                <td id=\"T_20eb5d40_7ba1_11ec_bf34_02420a392f77row3_col0\" class=\"data row3 col0\" >Доход 200–250 тр</td>\n",
       "                        <td id=\"T_20eb5d40_7ba1_11ec_bf34_02420a392f77row3_col1\" class=\"data row3 col1\" >7.28%</td>\n",
       "            </tr>\n",
       "            <tr>\n",
       "                                <td id=\"T_20eb5d40_7ba1_11ec_bf34_02420a392f77row4_col0\" class=\"data row4 col0\" >Доход более 250 тр</td>\n",
       "                        <td id=\"T_20eb5d40_7ba1_11ec_bf34_02420a392f77row4_col1\" class=\"data row4 col1\" >6.90%</td>\n",
       "            </tr>\n",
       "            <tr>\n",
       "                                <td id=\"T_20eb5d40_7ba1_11ec_bf34_02420a392f77row5_col0\" class=\"data row5 col0\" >Доход до 50 тр</td>\n",
       "                        <td id=\"T_20eb5d40_7ba1_11ec_bf34_02420a392f77row5_col1\" class=\"data row5 col1\" >6.18%</td>\n",
       "            </tr>\n",
       "    </tbody></table>"
      ],
      "text/plain": [
       "<pandas.io.formats.style.Styler at 0x7f606f97e110>"
      ]
     },
     "execution_count": 37,
     "metadata": {},
     "output_type": "execute_result"
    }
   ],
   "source": [
    "data_pivot_income = data.pivot_table(index=['debt_bool'], columns='income_category', values = 'family_status_id', aggfunc='count')\n",
    "\n",
    "debt_data = {}\n",
    "for i in data_pivot_income.columns:\n",
    "    debt_data[i] = data_pivot_income[i][1] / data_pivot_income[i].sum()\n",
    "\n",
    "interim_data = {\n",
    "    'income_category': list(debt_data.keys()), \n",
    "    'debt_float': list(debt_data.values())\n",
    "}\n",
    "df_income_status = pd.DataFrame(data=interim_data)\n",
    "df_income_status['debt_percentage'] = pd.Series([\"{0:.2f}%\".format(val * 100) for val in df_income_status['debt_float']], index = df_income_status.index)\n",
    "\n",
    "df_income_status = df_income_status.sort_values(by='debt_float', ascending=False)\n",
    "df_income_status[['income_category', 'debt_percentage']].style.hide_index()"
   ]
  },
  {
   "cell_type": "markdown",
   "metadata": {},
   "source": [
    "***\n",
    "**Вывод**\n",
    "\n",
    "Судя по данным, люди с наименьшим и наибольшим доходом чаще остальных категорий выплачивают кредит в срок.<br><br>\n",
    "***"
   ]
  },
  {
   "cell_type": "markdown",
   "metadata": {},
   "source": [
    "### Как разные цели кредита влияют на его возврат в срок?"
   ]
  },
  {
   "cell_type": "code",
   "execution_count": 38,
   "metadata": {},
   "outputs": [
    {
     "data": {
      "text/html": [
       "<style  type=\"text/css\" >\n",
       "</style><table id=\"T_20f107b8_7ba1_11ec_bf34_02420a392f77\" ><thead>    <tr>        <th class=\"col_heading level0 col0\" >purpose_category</th>        <th class=\"col_heading level0 col1\" >debt_percentage</th>    </tr></thead><tbody>\n",
       "                <tr>\n",
       "                                <td id=\"T_20f107b8_7ba1_11ec_bf34_02420a392f77row0_col0\" class=\"data row0 col0\" >автомобиль</td>\n",
       "                        <td id=\"T_20f107b8_7ba1_11ec_bf34_02420a392f77row0_col1\" class=\"data row0 col1\" >9.34%</td>\n",
       "            </tr>\n",
       "            <tr>\n",
       "                                <td id=\"T_20f107b8_7ba1_11ec_bf34_02420a392f77row1_col0\" class=\"data row1 col0\" >образование</td>\n",
       "                        <td id=\"T_20f107b8_7ba1_11ec_bf34_02420a392f77row1_col1\" class=\"data row1 col1\" >9.20%</td>\n",
       "            </tr>\n",
       "            <tr>\n",
       "                                <td id=\"T_20f107b8_7ba1_11ec_bf34_02420a392f77row2_col0\" class=\"data row2 col0\" >свадьба</td>\n",
       "                        <td id=\"T_20f107b8_7ba1_11ec_bf34_02420a392f77row2_col1\" class=\"data row2 col1\" >7.92%</td>\n",
       "            </tr>\n",
       "            <tr>\n",
       "                                <td id=\"T_20f107b8_7ba1_11ec_bf34_02420a392f77row3_col0\" class=\"data row3 col0\" >строительство</td>\n",
       "                        <td id=\"T_20f107b8_7ba1_11ec_bf34_02420a392f77row3_col1\" class=\"data row3 col1\" >7.66%</td>\n",
       "            </tr>\n",
       "            <tr>\n",
       "                                <td id=\"T_20f107b8_7ba1_11ec_bf34_02420a392f77row4_col0\" class=\"data row4 col0\" >недвижимость</td>\n",
       "                        <td id=\"T_20f107b8_7ba1_11ec_bf34_02420a392f77row4_col1\" class=\"data row4 col1\" >7.12%</td>\n",
       "            </tr>\n",
       "    </tbody></table>"
      ],
      "text/plain": [
       "<pandas.io.formats.style.Styler at 0x7f606f93e910>"
      ]
     },
     "execution_count": 38,
     "metadata": {},
     "output_type": "execute_result"
    }
   ],
   "source": [
    "data_pivot_purpose = data.pivot_table(index=['debt_bool'], columns='purpose_category', values = 'family_status_id', aggfunc='count')\n",
    "\n",
    "debt_data = {}\n",
    "for i in data_pivot_purpose.columns:\n",
    "    debt_data[i] = data_pivot_purpose[i][1] / data_pivot_purpose[i].sum()\n",
    "\n",
    "interim_data = {\n",
    "    'purpose_category': list(debt_data.keys()), \n",
    "    'debt_float': list(debt_data.values())\n",
    "}\n",
    "df_purpose_status = pd.DataFrame(data=interim_data)\n",
    "df_purpose_status['debt_percentage'] = pd.Series([\"{0:.2f}%\".format(val * 100) for val in df_purpose_status['debt_float']], index = df_purpose_status.index)\n",
    "\n",
    "df_purpose_status = df_purpose_status.sort_values(by='debt_float', ascending=False)\n",
    "df_purpose_status[['purpose_category', 'debt_percentage']].style.hide_index()"
   ]
  },
  {
   "cell_type": "markdown",
   "metadata": {},
   "source": [
    "***\n",
    "**Вывод**\n",
    "\n",
    "Клиенты чаще выплачивают кредит в срок, если деньги взяты на покупку / строительство недвижимости или на свадьбу.<br><br>\n",
    "***"
   ]
  },
  {
   "cell_type": "markdown",
   "metadata": {},
   "source": [
    "## Общий вывод"
   ]
  },
  {
   "cell_type": "markdown",
   "metadata": {
    "pycharm": {
     "name": "#%% md\n"
    }
   },
   "source": [
    "Первоначальные данные были подготовлены к анализу:\n",
    "- Переименованы столбцы\n",
    "- Заполнены пропуски значений\n",
    "- Данные приведены к подходящему для анализа типу\n",
    "- Все дубликаты обработаны\n",
    "- Данные сгруппированы по категориям цели кредита, уровню дохода\n",
    "\n",
    "В среднем процент кредитов, по которым были просроченные платежи — 8.09%\n",
    "\n",
    "Можно выделить следующие экстремумы в каждой группе:\n",
    "\n",
    "<b>Цель кредита</b>  \n",
    "- Наиболее надёжная группа заёмщиков:  \n",
    "   Люди, берущие кредит на операции с недвижимостью.  \n",
    "   Процент наличия просроченных платежей в данной группе — 7,12%  \n",
    "- Наименее надёжная группа заёмщиков:  \n",
    "   Люди, берущие кредит на покупку автомобиля  \n",
    "   Процент наличия просроченных платежей в данной группе — 9,34%  \n",
    "\n",
    "<b>Уровень дохода</b>  \n",
    "- Наиболее надёжная группа заёмщиков:  \n",
    "   Люди с наименьшим и наибольшим доходом.  \n",
    "   Процент наличия просроченных платежей в данной группе — 6,18% / 6,90%\n",
    "- Наименее надёжная группа заёмщиков:  \n",
    "   Люди со средним доходом.  \n",
    "   Процент наличия просроченных платежей в данной группе — 8,64%  \n",
    "\n",
    "<b>Семейное положение</b>  \n",
    "- Наиболее надёжная группа заёмщиков:  \n",
    "   Овдовевшие люди.  \n",
    "   Процент наличия просроченных платежей в данной группе — 6,56%  \n",
    "- Наименее надёжная группа заёмщиков:  \n",
    "   Одинокие люди, которые никогда не были женаты / замужем.  \n",
    "   Процент наличия просроченных платежей в данной группе — 9,74%  \n",
    "\n",
    "<b>Наличие детей</b>  \n",
    "- Наиболее надёжная группа заёмщиков:  \n",
    "   Люди, у которых нет детей.  \n",
    "   Процент наличия просроченных платежей в данной группе — 7.51%  \n",
    "   Клиенты, у которых пять детей, ни разу не выплачивали кредит с опозданием,  \n",
    "   но не включены в основной вывод из-за небольшой численности (0,04%).  \n",
    "- Наименее надёжная группа заёмщиков:  \n",
    "   Клиенты, у которых появляется ребёнок, вылачивают кредит не в срок чаще на 1,68%.  "
   ]
  }
 ],
 "metadata": {
  "ExecuteTimeLog": [
   {
    "duration": 1219,
    "start_time": "2022-01-14T13:36:53.176Z"
   },
   {
    "duration": 101,
    "start_time": "2022-01-14T13:37:00.170Z"
   },
   {
    "duration": 74,
    "start_time": "2022-01-14T13:37:38.873Z"
   },
   {
    "duration": 35,
    "start_time": "2022-01-14T13:38:29.085Z"
   },
   {
    "duration": 11,
    "start_time": "2022-01-14T13:48:20.908Z"
   },
   {
    "duration": 7,
    "start_time": "2022-01-14T13:48:45.504Z"
   },
   {
    "duration": 20,
    "start_time": "2022-01-14T14:15:24.651Z"
   },
   {
    "duration": 14,
    "start_time": "2022-01-14T14:16:07.576Z"
   },
   {
    "duration": 76,
    "start_time": "2022-01-14T14:16:09.645Z"
   },
   {
    "duration": 6,
    "start_time": "2022-01-14T14:17:36.456Z"
   },
   {
    "duration": 116,
    "start_time": "2022-01-14T14:19:05.947Z"
   },
   {
    "duration": 127,
    "start_time": "2022-01-14T14:19:49.414Z"
   },
   {
    "duration": 21,
    "start_time": "2022-01-14T14:26:04.093Z"
   },
   {
    "duration": 20,
    "start_time": "2022-01-14T14:27:02.395Z"
   },
   {
    "duration": 18,
    "start_time": "2022-01-14T14:44:10.296Z"
   },
   {
    "duration": 17,
    "start_time": "2022-01-14T14:49:27.908Z"
   },
   {
    "duration": 76,
    "start_time": "2022-01-14T17:04:34.406Z"
   },
   {
    "duration": 75,
    "start_time": "2022-01-14T17:04:36.278Z"
   },
   {
    "duration": 16,
    "start_time": "2022-01-14T17:04:37.053Z"
   },
   {
    "duration": 20,
    "start_time": "2022-01-14T17:04:39.022Z"
   },
   {
    "duration": 16,
    "start_time": "2022-01-14T17:11:37.837Z"
   },
   {
    "duration": 29,
    "start_time": "2022-01-14T17:13:49.972Z"
   },
   {
    "duration": 21,
    "start_time": "2022-01-14T17:23:50.297Z"
   },
   {
    "duration": 20,
    "start_time": "2022-01-14T17:23:52.400Z"
   },
   {
    "duration": 19,
    "start_time": "2022-01-14T17:24:37.749Z"
   },
   {
    "duration": 15,
    "start_time": "2022-01-14T17:29:59.913Z"
   },
   {
    "duration": 831,
    "start_time": "2022-01-14T17:30:27.976Z"
   },
   {
    "duration": 15,
    "start_time": "2022-01-14T17:30:28.809Z"
   },
   {
    "duration": 39,
    "start_time": "2022-01-14T17:30:28.827Z"
   },
   {
    "duration": 13,
    "start_time": "2022-01-14T17:30:31.562Z"
   },
   {
    "duration": 28,
    "start_time": "2022-01-14T17:30:33.050Z"
   },
   {
    "duration": 18,
    "start_time": "2022-01-14T17:30:48.641Z"
   },
   {
    "duration": 881,
    "start_time": "2022-01-14T17:31:00.320Z"
   },
   {
    "duration": 16,
    "start_time": "2022-01-14T17:31:01.203Z"
   },
   {
    "duration": 44,
    "start_time": "2022-01-14T17:31:01.221Z"
   },
   {
    "duration": 15,
    "start_time": "2022-01-14T17:31:21.271Z"
   },
   {
    "duration": 114,
    "start_time": "2022-01-14T17:31:43.804Z"
   },
   {
    "duration": 27,
    "start_time": "2022-01-14T17:31:49.499Z"
   },
   {
    "duration": 19,
    "start_time": "2022-01-14T17:32:12.716Z"
   },
   {
    "duration": 21,
    "start_time": "2022-01-14T17:32:57.771Z"
   },
   {
    "duration": 16,
    "start_time": "2022-01-14T17:36:52.987Z"
   },
   {
    "duration": 17,
    "start_time": "2022-01-14T17:37:06.685Z"
   },
   {
    "duration": 17,
    "start_time": "2022-01-14T17:37:12.893Z"
   },
   {
    "duration": 17,
    "start_time": "2022-01-14T17:37:18.621Z"
   },
   {
    "duration": 464,
    "start_time": "2022-01-14T17:37:23.735Z"
   },
   {
    "duration": 16,
    "start_time": "2022-01-14T17:37:30.480Z"
   },
   {
    "duration": 16,
    "start_time": "2022-01-14T17:37:48.642Z"
   },
   {
    "duration": 17,
    "start_time": "2022-01-14T17:37:54.539Z"
   },
   {
    "duration": 17,
    "start_time": "2022-01-14T17:38:05.388Z"
   },
   {
    "duration": 18,
    "start_time": "2022-01-14T17:38:10.675Z"
   },
   {
    "duration": 16,
    "start_time": "2022-01-14T17:41:18.624Z"
   },
   {
    "duration": 16,
    "start_time": "2022-01-14T17:41:26.559Z"
   },
   {
    "duration": 16,
    "start_time": "2022-01-14T17:41:39.459Z"
   },
   {
    "duration": 19,
    "start_time": "2022-01-14T17:49:18.396Z"
   },
   {
    "duration": 119,
    "start_time": "2022-01-14T17:49:32.805Z"
   },
   {
    "duration": 23,
    "start_time": "2022-01-14T17:49:37.420Z"
   },
   {
    "duration": 20,
    "start_time": "2022-01-14T17:49:52.672Z"
   },
   {
    "duration": 17,
    "start_time": "2022-01-14T17:51:17.096Z"
   },
   {
    "duration": 23,
    "start_time": "2022-01-14T17:51:29.481Z"
   },
   {
    "duration": 21,
    "start_time": "2022-01-14T17:51:43.786Z"
   },
   {
    "duration": 16,
    "start_time": "2022-01-14T17:52:01.387Z"
   },
   {
    "duration": 227,
    "start_time": "2022-01-14T17:52:20.861Z"
   },
   {
    "duration": 6,
    "start_time": "2022-01-14T17:52:24.550Z"
   },
   {
    "duration": 7,
    "start_time": "2022-01-14T17:52:38.223Z"
   },
   {
    "duration": 11,
    "start_time": "2022-01-14T17:57:01.118Z"
   },
   {
    "duration": 21,
    "start_time": "2022-01-14T18:02:03.771Z"
   },
   {
    "duration": 8,
    "start_time": "2022-01-14T18:02:40.120Z"
   },
   {
    "duration": 9,
    "start_time": "2022-01-14T18:03:06.812Z"
   },
   {
    "duration": 9,
    "start_time": "2022-01-14T18:07:34.828Z"
   },
   {
    "duration": 11,
    "start_time": "2022-01-14T18:08:20.592Z"
   },
   {
    "duration": 13,
    "start_time": "2022-01-14T18:10:33.550Z"
   },
   {
    "duration": 13,
    "start_time": "2022-01-14T18:10:34.495Z"
   },
   {
    "duration": 13,
    "start_time": "2022-01-14T18:10:35.142Z"
   },
   {
    "duration": 12,
    "start_time": "2022-01-14T18:10:35.592Z"
   },
   {
    "duration": 8,
    "start_time": "2022-01-14T18:11:04.555Z"
   },
   {
    "duration": 9,
    "start_time": "2022-01-14T18:11:05.652Z"
   },
   {
    "duration": 16,
    "start_time": "2022-01-14T18:11:06.083Z"
   },
   {
    "duration": 12,
    "start_time": "2022-01-14T18:11:06.742Z"
   },
   {
    "duration": 7,
    "start_time": "2022-01-14T18:12:00.547Z"
   },
   {
    "duration": 20,
    "start_time": "2022-01-14T18:12:13.795Z"
   },
   {
    "duration": 352,
    "start_time": "2022-01-14T18:15:39.691Z"
   },
   {
    "duration": 41,
    "start_time": "2022-01-14T18:16:24.799Z"
   },
   {
    "duration": 369,
    "start_time": "2022-01-14T18:18:19.453Z"
   },
   {
    "duration": 40,
    "start_time": "2022-01-14T18:18:30.445Z"
   },
   {
    "duration": 6,
    "start_time": "2022-01-14T18:21:50.788Z"
   },
   {
    "duration": 6,
    "start_time": "2022-01-14T18:21:52.404Z"
   },
   {
    "duration": 12,
    "start_time": "2022-01-14T18:21:52.820Z"
   },
   {
    "duration": 6,
    "start_time": "2022-01-14T18:23:34.061Z"
   },
   {
    "duration": 7,
    "start_time": "2022-01-14T18:23:39.260Z"
   },
   {
    "duration": 8,
    "start_time": "2022-01-14T18:23:48.383Z"
   },
   {
    "duration": 13,
    "start_time": "2022-01-14T18:24:16.263Z"
   },
   {
    "duration": 402,
    "start_time": "2022-01-14T18:24:39.345Z"
   },
   {
    "duration": 124,
    "start_time": "2022-01-14T18:26:20.187Z"
   },
   {
    "duration": 11,
    "start_time": "2022-01-14T18:26:25.617Z"
   },
   {
    "duration": 7,
    "start_time": "2022-01-14T18:27:12.632Z"
   },
   {
    "duration": 11,
    "start_time": "2022-01-14T18:27:19.080Z"
   },
   {
    "duration": 12,
    "start_time": "2022-01-14T18:29:20.542Z"
   },
   {
    "duration": 8785,
    "start_time": "2022-01-14T18:31:07.274Z"
   },
   {
    "duration": 18994,
    "start_time": "2022-01-14T18:38:22.677Z"
   },
   {
    "duration": 18426,
    "start_time": "2022-01-14T18:38:52.051Z"
   },
   {
    "duration": 20,
    "start_time": "2022-01-14T18:39:17.508Z"
   },
   {
    "duration": -34,
    "start_time": "2022-01-14T18:39:47.834Z"
   },
   {
    "duration": 35,
    "start_time": "2022-01-14T18:39:50.831Z"
   },
   {
    "duration": 21,
    "start_time": "2022-01-14T18:40:08.802Z"
   },
   {
    "duration": 27,
    "start_time": "2022-01-14T18:40:33.940Z"
   },
   {
    "duration": 9755,
    "start_time": "2022-01-14T18:40:37.740Z"
   },
   {
    "duration": 859,
    "start_time": "2022-01-14T18:41:07.555Z"
   },
   {
    "duration": 17,
    "start_time": "2022-01-14T18:41:09.826Z"
   },
   {
    "duration": 20,
    "start_time": "2022-01-14T18:41:12.013Z"
   },
   {
    "duration": 16,
    "start_time": "2022-01-14T18:41:14.310Z"
   },
   {
    "duration": 23,
    "start_time": "2022-01-14T18:41:17.823Z"
   },
   {
    "duration": 9,
    "start_time": "2022-01-14T18:41:19.447Z"
   },
   {
    "duration": 12,
    "start_time": "2022-01-14T18:41:23.896Z"
   },
   {
    "duration": 26,
    "start_time": "2022-01-14T18:41:25.545Z"
   },
   {
    "duration": 8830,
    "start_time": "2022-01-14T18:41:36.715Z"
   },
   {
    "duration": -46,
    "start_time": "2022-01-14T18:41:45.594Z"
   },
   {
    "duration": -49,
    "start_time": "2022-01-14T18:41:45.599Z"
   },
   {
    "duration": -49,
    "start_time": "2022-01-14T18:41:45.601Z"
   },
   {
    "duration": -50,
    "start_time": "2022-01-14T18:41:45.603Z"
   },
   {
    "duration": -50,
    "start_time": "2022-01-14T18:41:45.605Z"
   },
   {
    "duration": 8,
    "start_time": "2022-01-14T18:41:49.386Z"
   },
   {
    "duration": 906,
    "start_time": "2022-01-14T18:42:15.122Z"
   },
   {
    "duration": 16,
    "start_time": "2022-01-14T18:42:16.031Z"
   },
   {
    "duration": 21,
    "start_time": "2022-01-14T18:42:16.060Z"
   },
   {
    "duration": 15,
    "start_time": "2022-01-14T18:42:16.083Z"
   },
   {
    "duration": 20,
    "start_time": "2022-01-14T18:42:16.101Z"
   },
   {
    "duration": 8,
    "start_time": "2022-01-14T18:42:16.160Z"
   },
   {
    "duration": 13,
    "start_time": "2022-01-14T18:42:16.171Z"
   },
   {
    "duration": 33,
    "start_time": "2022-01-14T18:42:24.876Z"
   },
   {
    "duration": 5,
    "start_time": "2022-01-14T18:42:38.413Z"
   },
   {
    "duration": 4,
    "start_time": "2022-01-14T18:42:39.557Z"
   },
   {
    "duration": 6,
    "start_time": "2022-01-14T18:42:41.653Z"
   },
   {
    "duration": 12,
    "start_time": "2022-01-14T18:42:42.197Z"
   },
   {
    "duration": 10,
    "start_time": "2022-01-14T18:42:42.710Z"
   },
   {
    "duration": 10,
    "start_time": "2022-01-14T18:42:44.798Z"
   },
   {
    "duration": 21,
    "start_time": "2022-01-14T18:42:46.990Z"
   },
   {
    "duration": 20,
    "start_time": "2022-01-14T18:53:09.253Z"
   },
   {
    "duration": 26,
    "start_time": "2022-01-14T18:54:59.137Z"
   },
   {
    "duration": 28,
    "start_time": "2022-01-14T18:55:35.254Z"
   },
   {
    "duration": 11,
    "start_time": "2022-01-14T18:55:46.534Z"
   },
   {
    "duration": 6,
    "start_time": "2022-01-14T18:57:37.440Z"
   },
   {
    "duration": 11,
    "start_time": "2022-01-14T18:57:53.443Z"
   },
   {
    "duration": 8,
    "start_time": "2022-01-14T19:00:03.408Z"
   },
   {
    "duration": 948,
    "start_time": "2022-01-14T19:02:45.981Z"
   },
   {
    "duration": 28,
    "start_time": "2022-01-14T19:02:53.614Z"
   },
   {
    "duration": 27,
    "start_time": "2022-01-14T19:02:56.600Z"
   },
   {
    "duration": 3,
    "start_time": "2022-01-14T19:02:57.103Z"
   },
   {
    "duration": 8,
    "start_time": "2022-01-14T19:02:57.735Z"
   },
   {
    "duration": 10,
    "start_time": "2022-01-14T19:02:59.383Z"
   },
   {
    "duration": 4856,
    "start_time": "2022-01-14T19:07:53.229Z"
   },
   {
    "duration": 1761,
    "start_time": "2022-01-14T19:08:36.586Z"
   },
   {
    "duration": 1655,
    "start_time": "2022-01-14T19:08:47.681Z"
   },
   {
    "duration": 12,
    "start_time": "2022-01-14T19:09:31.158Z"
   },
   {
    "duration": 11,
    "start_time": "2022-01-14T19:11:45.757Z"
   },
   {
    "duration": 5625,
    "start_time": "2022-01-14T19:13:25.367Z"
   },
   {
    "duration": 31,
    "start_time": "2022-01-14T19:13:51.378Z"
   },
   {
    "duration": 31,
    "start_time": "2022-01-14T19:13:52.632Z"
   },
   {
    "duration": 28,
    "start_time": "2022-01-14T19:13:53.441Z"
   },
   {
    "duration": 3,
    "start_time": "2022-01-14T19:13:53.834Z"
   },
   {
    "duration": 11,
    "start_time": "2022-01-14T19:13:54.489Z"
   },
   {
    "duration": 35,
    "start_time": "2022-01-14T19:16:01.599Z"
   },
   {
    "duration": 44,
    "start_time": "2022-01-14T19:16:03.423Z"
   },
   {
    "duration": 884,
    "start_time": "2022-01-14T19:16:38.137Z"
   },
   {
    "duration": 16,
    "start_time": "2022-01-14T19:16:39.023Z"
   },
   {
    "duration": 20,
    "start_time": "2022-01-14T19:16:39.061Z"
   },
   {
    "duration": 76,
    "start_time": "2022-01-14T19:17:00.517Z"
   },
   {
    "duration": 14,
    "start_time": "2022-01-14T19:17:00.596Z"
   },
   {
    "duration": 19,
    "start_time": "2022-01-14T19:17:00.613Z"
   },
   {
    "duration": 907,
    "start_time": "2022-01-14T19:18:12.124Z"
   },
   {
    "duration": 25,
    "start_time": "2022-01-14T19:18:13.034Z"
   },
   {
    "duration": 20,
    "start_time": "2022-01-14T19:18:13.062Z"
   },
   {
    "duration": 15,
    "start_time": "2022-01-14T19:18:13.084Z"
   },
   {
    "duration": 21,
    "start_time": "2022-01-14T19:18:13.101Z"
   },
   {
    "duration": 42,
    "start_time": "2022-01-14T19:18:13.125Z"
   },
   {
    "duration": 13,
    "start_time": "2022-01-14T19:18:13.169Z"
   },
   {
    "duration": 12,
    "start_time": "2022-01-14T19:18:14.962Z"
   },
   {
    "duration": 15,
    "start_time": "2022-01-14T19:18:16.610Z"
   },
   {
    "duration": 29,
    "start_time": "2022-01-14T19:18:27.748Z"
   },
   {
    "duration": 9787,
    "start_time": "2022-01-14T19:18:59.895Z"
   },
   {
    "duration": 902,
    "start_time": "2022-01-14T19:19:25.513Z"
   },
   {
    "duration": 17,
    "start_time": "2022-01-14T19:19:26.418Z"
   },
   {
    "duration": 36,
    "start_time": "2022-01-14T19:19:26.439Z"
   },
   {
    "duration": 16,
    "start_time": "2022-01-14T19:19:26.479Z"
   },
   {
    "duration": 21,
    "start_time": "2022-01-14T19:19:26.498Z"
   },
   {
    "duration": 10,
    "start_time": "2022-01-14T19:19:26.560Z"
   },
   {
    "duration": 10,
    "start_time": "2022-01-14T19:19:26.573Z"
   },
   {
    "duration": 14,
    "start_time": "2022-01-14T19:19:26.586Z"
   },
   {
    "duration": 22,
    "start_time": "2022-01-14T19:19:30.845Z"
   },
   {
    "duration": 10,
    "start_time": "2022-01-14T19:19:31.413Z"
   },
   {
    "duration": 13,
    "start_time": "2022-01-14T19:19:32.150Z"
   },
   {
    "duration": 17,
    "start_time": "2022-01-14T19:19:32.884Z"
   },
   {
    "duration": 27,
    "start_time": "2022-01-14T19:19:34.037Z"
   },
   {
    "duration": 3,
    "start_time": "2022-01-14T19:19:38.430Z"
   },
   {
    "duration": 4,
    "start_time": "2022-01-14T19:19:39.300Z"
   },
   {
    "duration": 14,
    "start_time": "2022-01-14T19:19:39.703Z"
   },
   {
    "duration": 828,
    "start_time": "2022-01-14T19:20:50.284Z"
   },
   {
    "duration": 17,
    "start_time": "2022-01-14T19:20:51.115Z"
   },
   {
    "duration": 42,
    "start_time": "2022-01-14T19:20:51.135Z"
   },
   {
    "duration": 19,
    "start_time": "2022-01-14T19:20:51.181Z"
   },
   {
    "duration": 58,
    "start_time": "2022-01-14T19:20:51.203Z"
   },
   {
    "duration": 9,
    "start_time": "2022-01-14T19:20:51.263Z"
   },
   {
    "duration": 12,
    "start_time": "2022-01-14T19:20:51.274Z"
   },
   {
    "duration": 15,
    "start_time": "2022-01-14T19:21:00.495Z"
   },
   {
    "duration": 15,
    "start_time": "2022-01-14T19:21:03.024Z"
   },
   {
    "duration": 29,
    "start_time": "2022-01-14T19:21:04.088Z"
   },
   {
    "duration": 3,
    "start_time": "2022-01-14T19:21:04.640Z"
   },
   {
    "duration": 3,
    "start_time": "2022-01-14T19:21:11.360Z"
   },
   {
    "duration": 13,
    "start_time": "2022-01-14T19:21:11.705Z"
   },
   {
    "duration": 392,
    "start_time": "2022-01-14T19:32:44.587Z"
   },
   {
    "duration": 1243,
    "start_time": "2022-01-14T19:32:55.322Z"
   },
   {
    "duration": 15,
    "start_time": "2022-01-14T19:32:56.568Z"
   },
   {
    "duration": 28,
    "start_time": "2022-01-14T19:32:56.586Z"
   },
   {
    "duration": 50,
    "start_time": "2022-01-14T19:32:56.617Z"
   },
   {
    "duration": 30,
    "start_time": "2022-01-14T19:32:56.670Z"
   },
   {
    "duration": 9,
    "start_time": "2022-01-14T19:32:56.703Z"
   },
   {
    "duration": 47,
    "start_time": "2022-01-14T19:32:56.714Z"
   },
   {
    "duration": 36,
    "start_time": "2022-01-14T19:33:00.353Z"
   },
   {
    "duration": 829,
    "start_time": "2022-01-14T19:41:09.477Z"
   },
   {
    "duration": 23,
    "start_time": "2022-01-14T19:41:10.309Z"
   },
   {
    "duration": 45,
    "start_time": "2022-01-14T19:41:10.337Z"
   },
   {
    "duration": 20,
    "start_time": "2022-01-14T19:41:10.385Z"
   },
   {
    "duration": 21,
    "start_time": "2022-01-14T19:41:14.936Z"
   },
   {
    "duration": 18,
    "start_time": "2022-01-14T19:42:58.827Z"
   },
   {
    "duration": 54,
    "start_time": "2022-01-14T19:46:00.798Z"
   },
   {
    "duration": 15,
    "start_time": "2022-01-14T19:46:24.586Z"
   },
   {
    "duration": 34,
    "start_time": "2022-01-14T19:52:00.734Z"
   },
   {
    "duration": 8,
    "start_time": "2022-01-14T19:52:20.666Z"
   },
   {
    "duration": 7,
    "start_time": "2022-01-14T19:52:27.402Z"
   },
   {
    "duration": 7,
    "start_time": "2022-01-14T19:52:37.074Z"
   },
   {
    "duration": 6,
    "start_time": "2022-01-14T19:52:43.652Z"
   },
   {
    "duration": 7,
    "start_time": "2022-01-14T19:52:55.749Z"
   },
   {
    "duration": 65,
    "start_time": "2022-01-14T19:56:04.117Z"
   },
   {
    "duration": 10038,
    "start_time": "2022-01-14T19:57:21.983Z"
   },
   {
    "duration": 55,
    "start_time": "2022-01-14T19:57:43.949Z"
   },
   {
    "duration": 10103,
    "start_time": "2022-01-14T19:57:51.952Z"
   },
   {
    "duration": 45,
    "start_time": "2022-01-14T19:58:09.856Z"
   },
   {
    "duration": 10448,
    "start_time": "2022-01-14T19:58:22.578Z"
   },
   {
    "duration": 18,
    "start_time": "2022-01-14T19:58:40.972Z"
   },
   {
    "duration": 15,
    "start_time": "2022-01-14T20:00:36.336Z"
   },
   {
    "duration": 15,
    "start_time": "2022-01-14T20:00:41.887Z"
   },
   {
    "duration": 9,
    "start_time": "2022-01-14T20:00:54.802Z"
   },
   {
    "duration": 434,
    "start_time": "2022-01-14T20:06:06.360Z"
   },
   {
    "duration": 35,
    "start_time": "2022-01-14T20:15:11.489Z"
   },
   {
    "duration": 9142,
    "start_time": "2022-01-14T20:15:59.021Z"
   },
   {
    "duration": 10,
    "start_time": "2022-01-14T20:16:32.040Z"
   },
   {
    "duration": 9,
    "start_time": "2022-01-14T20:17:23.860Z"
   },
   {
    "duration": 870,
    "start_time": "2022-01-14T20:21:28.246Z"
   },
   {
    "duration": 15,
    "start_time": "2022-01-14T20:21:29.118Z"
   },
   {
    "duration": 35,
    "start_time": "2022-01-14T20:21:29.136Z"
   },
   {
    "duration": 17,
    "start_time": "2022-01-14T20:21:29.173Z"
   },
   {
    "duration": 19,
    "start_time": "2022-01-14T20:21:29.193Z"
   },
   {
    "duration": 11,
    "start_time": "2022-01-14T20:21:33.794Z"
   },
   {
    "duration": 461,
    "start_time": "2022-01-14T20:22:34.271Z"
   },
   {
    "duration": 394,
    "start_time": "2022-01-14T20:22:51.328Z"
   },
   {
    "duration": 381,
    "start_time": "2022-01-14T20:23:02.842Z"
   },
   {
    "duration": 10,
    "start_time": "2022-01-14T20:24:02.350Z"
   },
   {
    "duration": 940,
    "start_time": "2022-01-14T20:24:17.944Z"
   },
   {
    "duration": 973,
    "start_time": "2022-01-14T20:24:22.962Z"
   },
   {
    "duration": 1147,
    "start_time": "2022-01-14T20:24:26.465Z"
   },
   {
    "duration": 9,
    "start_time": "2022-01-14T20:24:31.577Z"
   },
   {
    "duration": 9,
    "start_time": "2022-01-14T20:24:44.684Z"
   },
   {
    "duration": 10,
    "start_time": "2022-01-14T20:24:49.772Z"
   },
   {
    "duration": 10,
    "start_time": "2022-01-14T20:27:39.239Z"
   },
   {
    "duration": 10,
    "start_time": "2022-01-14T20:28:01.297Z"
   },
   {
    "duration": 9,
    "start_time": "2022-01-14T20:28:48.533Z"
   },
   {
    "duration": 9,
    "start_time": "2022-01-14T20:29:44.461Z"
   },
   {
    "duration": 10,
    "start_time": "2022-01-14T20:30:02.943Z"
   },
   {
    "duration": 53,
    "start_time": "2022-01-14T20:30:26.488Z"
   },
   {
    "duration": 16,
    "start_time": "2022-01-14T20:30:31.400Z"
   },
   {
    "duration": 22,
    "start_time": "2022-01-14T20:30:57.195Z"
   },
   {
    "duration": 14,
    "start_time": "2022-01-14T20:31:52.096Z"
   },
   {
    "duration": 802,
    "start_time": "2022-01-14T20:33:08.297Z"
   },
   {
    "duration": 16,
    "start_time": "2022-01-14T20:33:09.101Z"
   },
   {
    "duration": 45,
    "start_time": "2022-01-14T20:33:09.120Z"
   },
   {
    "duration": 14,
    "start_time": "2022-01-14T20:33:09.167Z"
   },
   {
    "duration": 26,
    "start_time": "2022-01-14T20:33:09.184Z"
   },
   {
    "duration": 436,
    "start_time": "2022-01-14T20:33:16.254Z"
   },
   {
    "duration": 13,
    "start_time": "2022-01-14T20:33:26.079Z"
   },
   {
    "duration": 11,
    "start_time": "2022-01-14T20:33:30.225Z"
   },
   {
    "duration": 9,
    "start_time": "2022-01-14T20:33:37.681Z"
   },
   {
    "duration": 52,
    "start_time": "2022-01-14T20:33:41.833Z"
   },
   {
    "duration": 15,
    "start_time": "2022-01-14T20:33:44.881Z"
   },
   {
    "duration": 6,
    "start_time": "2022-01-14T20:33:45.322Z"
   },
   {
    "duration": 15,
    "start_time": "2022-01-14T20:33:46.345Z"
   },
   {
    "duration": 21,
    "start_time": "2022-01-14T20:33:49.219Z"
   },
   {
    "duration": 329,
    "start_time": "2022-01-16T16:32:42.729Z"
   },
   {
    "duration": 885,
    "start_time": "2022-01-16T16:33:22.127Z"
   },
   {
    "duration": 83,
    "start_time": "2022-01-16T16:33:23.920Z"
   },
   {
    "duration": 81,
    "start_time": "2022-01-16T16:33:24.905Z"
   },
   {
    "duration": 80,
    "start_time": "2022-01-16T16:33:26.369Z"
   },
   {
    "duration": 15,
    "start_time": "2022-01-16T16:33:28.610Z"
   },
   {
    "duration": 26,
    "start_time": "2022-01-16T16:33:30.866Z"
   },
   {
    "duration": 15,
    "start_time": "2022-01-16T16:33:33.530Z"
   },
   {
    "duration": 26,
    "start_time": "2022-01-16T16:33:36.372Z"
   },
   {
    "duration": 433,
    "start_time": "2022-01-16T16:33:36.634Z"
   },
   {
    "duration": 23,
    "start_time": "2022-01-16T16:36:53.273Z"
   },
   {
    "duration": 23,
    "start_time": "2022-01-16T16:37:06.680Z"
   },
   {
    "duration": 23,
    "start_time": "2022-01-16T16:37:07.473Z"
   },
   {
    "duration": 20,
    "start_time": "2022-01-16T16:37:07.937Z"
   },
   {
    "duration": 21,
    "start_time": "2022-01-16T16:37:08.737Z"
   },
   {
    "duration": 10,
    "start_time": "2022-01-16T16:37:12.089Z"
   },
   {
    "duration": 9,
    "start_time": "2022-01-16T16:37:20.689Z"
   },
   {
    "duration": 60,
    "start_time": "2022-01-16T16:37:25.042Z"
   },
   {
    "duration": 15,
    "start_time": "2022-01-16T16:37:26.882Z"
   },
   {
    "duration": 20,
    "start_time": "2022-01-16T16:37:43.580Z"
   },
   {
    "duration": 346,
    "start_time": "2022-01-16T16:38:27.966Z"
   },
   {
    "duration": 987,
    "start_time": "2022-01-16T16:38:33.711Z"
   },
   {
    "duration": 16,
    "start_time": "2022-01-16T16:38:35.908Z"
   },
   {
    "duration": 20,
    "start_time": "2022-01-16T16:38:39.227Z"
   },
   {
    "duration": 16,
    "start_time": "2022-01-16T16:38:41.435Z"
   },
   {
    "duration": 21,
    "start_time": "2022-01-16T16:38:42.636Z"
   },
   {
    "duration": 26,
    "start_time": "2022-01-16T16:38:44.468Z"
   },
   {
    "duration": 10,
    "start_time": "2022-01-16T16:38:51.188Z"
   },
   {
    "duration": 10,
    "start_time": "2022-01-16T16:38:54.813Z"
   },
   {
    "duration": 54,
    "start_time": "2022-01-16T16:38:56.397Z"
   },
   {
    "duration": 17,
    "start_time": "2022-01-16T16:38:57.701Z"
   },
   {
    "duration": 18,
    "start_time": "2022-01-16T16:39:25.632Z"
   },
   {
    "duration": 964,
    "start_time": "2022-01-16T16:40:33.850Z"
   },
   {
    "duration": 17,
    "start_time": "2022-01-16T16:40:34.817Z"
   },
   {
    "duration": 42,
    "start_time": "2022-01-16T16:40:34.838Z"
   },
   {
    "duration": 17,
    "start_time": "2022-01-16T16:40:34.884Z"
   },
   {
    "duration": 21,
    "start_time": "2022-01-16T16:40:34.904Z"
   },
   {
    "duration": 63,
    "start_time": "2022-01-16T16:40:34.927Z"
   },
   {
    "duration": 11,
    "start_time": "2022-01-16T16:40:34.992Z"
   },
   {
    "duration": 8,
    "start_time": "2022-01-16T16:40:35.006Z"
   },
   {
    "duration": 54,
    "start_time": "2022-01-16T16:40:39.007Z"
   },
   {
    "duration": 20,
    "start_time": "2022-01-16T16:40:42.272Z"
   },
   {
    "duration": 18,
    "start_time": "2022-01-16T16:40:42.897Z"
   },
   {
    "duration": 874,
    "start_time": "2022-01-16T16:41:33.286Z"
   },
   {
    "duration": 18,
    "start_time": "2022-01-16T16:41:41.736Z"
   },
   {
    "duration": 26,
    "start_time": "2022-01-16T16:41:44.259Z"
   },
   {
    "duration": 17,
    "start_time": "2022-01-16T16:41:46.396Z"
   },
   {
    "duration": 21,
    "start_time": "2022-01-16T16:41:47.180Z"
   },
   {
    "duration": 21,
    "start_time": "2022-01-16T16:41:47.980Z"
   },
   {
    "duration": 11,
    "start_time": "2022-01-16T16:41:49.773Z"
   },
   {
    "duration": 11,
    "start_time": "2022-01-16T16:41:50.252Z"
   },
   {
    "duration": 60,
    "start_time": "2022-01-16T16:41:51.156Z"
   },
   {
    "duration": 18,
    "start_time": "2022-01-16T16:41:51.875Z"
   },
   {
    "duration": 22,
    "start_time": "2022-01-16T16:41:56.535Z"
   },
   {
    "duration": 890,
    "start_time": "2022-01-16T16:42:49.872Z"
   },
   {
    "duration": 82,
    "start_time": "2022-01-16T16:43:13.433Z"
   },
   {
    "duration": 24,
    "start_time": "2022-01-16T16:43:13.974Z"
   },
   {
    "duration": 22,
    "start_time": "2022-01-16T16:43:15.991Z"
   },
   {
    "duration": 15,
    "start_time": "2022-01-16T16:43:18.382Z"
   },
   {
    "duration": 22,
    "start_time": "2022-01-16T16:43:19.575Z"
   },
   {
    "duration": 19,
    "start_time": "2022-01-16T16:43:25.111Z"
   },
   {
    "duration": 20,
    "start_time": "2022-01-16T16:43:31.385Z"
   },
   {
    "duration": 10,
    "start_time": "2022-01-16T16:43:47.609Z"
   },
   {
    "duration": 11,
    "start_time": "2022-01-16T16:43:49.482Z"
   },
   {
    "duration": 57,
    "start_time": "2022-01-16T16:43:50.490Z"
   },
   {
    "duration": 16,
    "start_time": "2022-01-16T16:43:54.554Z"
   },
   {
    "duration": 17,
    "start_time": "2022-01-16T16:43:55.426Z"
   },
   {
    "duration": 84,
    "start_time": "2022-01-16T16:50:54.551Z"
   },
   {
    "duration": 18,
    "start_time": "2022-01-16T16:51:02.393Z"
   },
   {
    "duration": 22,
    "start_time": "2022-01-16T16:53:13.075Z"
   },
   {
    "duration": 966,
    "start_time": "2022-01-16T17:10:05.482Z"
   },
   {
    "duration": 16,
    "start_time": "2022-01-16T17:10:08.030Z"
   },
   {
    "duration": 24,
    "start_time": "2022-01-16T17:10:10.367Z"
   },
   {
    "duration": 17,
    "start_time": "2022-01-16T17:10:17.430Z"
   },
   {
    "duration": 22,
    "start_time": "2022-01-16T17:10:23.216Z"
   },
   {
    "duration": 27,
    "start_time": "2022-01-16T17:10:34.562Z"
   },
   {
    "duration": 20,
    "start_time": "2022-01-16T17:10:43.610Z"
   },
   {
    "duration": 20,
    "start_time": "2022-01-16T17:11:11.597Z"
   },
   {
    "duration": 11,
    "start_time": "2022-01-16T17:12:23.069Z"
   },
   {
    "duration": 9,
    "start_time": "2022-01-16T17:12:25.996Z"
   },
   {
    "duration": 984,
    "start_time": "2022-01-16T17:14:04.553Z"
   },
   {
    "duration": 19,
    "start_time": "2022-01-16T17:14:06.773Z"
   },
   {
    "duration": 30,
    "start_time": "2022-01-16T17:14:07.884Z"
   },
   {
    "duration": 17,
    "start_time": "2022-01-16T17:14:11.477Z"
   },
   {
    "duration": 22,
    "start_time": "2022-01-16T17:14:12.020Z"
   },
   {
    "duration": 19,
    "start_time": "2022-01-16T17:14:12.541Z"
   },
   {
    "duration": 14,
    "start_time": "2022-01-16T17:14:12.957Z"
   },
   {
    "duration": 10,
    "start_time": "2022-01-16T17:14:13.404Z"
   },
   {
    "duration": 55,
    "start_time": "2022-01-16T17:14:13.837Z"
   },
   {
    "duration": 16,
    "start_time": "2022-01-16T17:14:14.292Z"
   },
   {
    "duration": 20,
    "start_time": "2022-01-16T17:14:14.565Z"
   },
   {
    "duration": 11,
    "start_time": "2022-01-16T17:15:38.382Z"
   },
   {
    "duration": 9,
    "start_time": "2022-01-16T17:15:39.614Z"
   },
   {
    "duration": 89,
    "start_time": "2022-01-16T17:15:54.848Z"
   },
   {
    "duration": 16,
    "start_time": "2022-01-16T17:16:01.448Z"
   },
   {
    "duration": 18,
    "start_time": "2022-01-16T17:16:02.817Z"
   },
   {
    "duration": 11,
    "start_time": "2022-01-16T17:23:39.786Z"
   },
   {
    "duration": 7,
    "start_time": "2022-01-16T17:23:57.891Z"
   },
   {
    "duration": 6,
    "start_time": "2022-01-16T17:24:00.348Z"
   },
   {
    "duration": 11,
    "start_time": "2022-01-16T17:24:04.277Z"
   },
   {
    "duration": 10,
    "start_time": "2022-01-16T17:24:30.533Z"
   },
   {
    "duration": 13,
    "start_time": "2022-01-16T17:24:46.881Z"
   },
   {
    "duration": 8,
    "start_time": "2022-01-16T17:24:49.842Z"
   },
   {
    "duration": 10,
    "start_time": "2022-01-16T17:24:58.443Z"
   },
   {
    "duration": 11,
    "start_time": "2022-01-16T17:25:09.500Z"
   },
   {
    "duration": 10,
    "start_time": "2022-01-16T17:25:29.039Z"
   },
   {
    "duration": 15,
    "start_time": "2022-01-16T17:26:05.424Z"
   },
   {
    "duration": 10,
    "start_time": "2022-01-16T17:26:27.603Z"
   },
   {
    "duration": 11,
    "start_time": "2022-01-16T17:26:34.813Z"
   },
   {
    "duration": 11,
    "start_time": "2022-01-16T17:26:45.420Z"
   },
   {
    "duration": 393,
    "start_time": "2022-01-16T17:37:33.435Z"
   },
   {
    "duration": 7411,
    "start_time": "2022-01-16T17:37:41.323Z"
   },
   {
    "duration": 5,
    "start_time": "2022-01-16T17:38:03.213Z"
   },
   {
    "duration": 5,
    "start_time": "2022-01-16T17:38:32.896Z"
   },
   {
    "duration": 5,
    "start_time": "2022-01-16T17:39:19.532Z"
   },
   {
    "duration": 5,
    "start_time": "2022-01-16T17:39:21.796Z"
   },
   {
    "duration": 7,
    "start_time": "2022-01-16T17:39:23.374Z"
   },
   {
    "duration": 18,
    "start_time": "2022-01-16T17:39:41.897Z"
   },
   {
    "duration": 15,
    "start_time": "2022-01-16T17:40:41.095Z"
   },
   {
    "duration": 296,
    "start_time": "2022-01-16T17:48:56.747Z"
   },
   {
    "duration": 23,
    "start_time": "2022-01-16T17:49:01.195Z"
   },
   {
    "duration": 29,
    "start_time": "2022-01-16T17:51:59.453Z"
   },
   {
    "duration": 24,
    "start_time": "2022-01-16T18:04:30.654Z"
   },
   {
    "duration": 25,
    "start_time": "2022-01-16T18:04:57.760Z"
   },
   {
    "duration": 25,
    "start_time": "2022-01-16T18:08:26.358Z"
   },
   {
    "duration": 23,
    "start_time": "2022-01-16T18:08:27.383Z"
   },
   {
    "duration": 45,
    "start_time": "2022-01-16T18:08:28.518Z"
   },
   {
    "duration": 22,
    "start_time": "2022-01-16T18:22:37.425Z"
   },
   {
    "duration": 27,
    "start_time": "2022-01-16T18:25:19.740Z"
   },
   {
    "duration": 48,
    "start_time": "2022-01-16T18:25:46.044Z"
   },
   {
    "duration": 23,
    "start_time": "2022-01-16T18:26:33.034Z"
   },
   {
    "duration": 43,
    "start_time": "2022-01-16T18:26:35.010Z"
   },
   {
    "duration": 842,
    "start_time": "2022-01-16T18:28:07.094Z"
   },
   {
    "duration": 28,
    "start_time": "2022-01-16T18:28:07.939Z"
   },
   {
    "duration": 21,
    "start_time": "2022-01-16T18:28:10.798Z"
   },
   {
    "duration": 17,
    "start_time": "2022-01-16T18:28:11.673Z"
   },
   {
    "duration": 22,
    "start_time": "2022-01-16T18:28:12.001Z"
   },
   {
    "duration": 21,
    "start_time": "2022-01-16T18:28:12.363Z"
   },
   {
    "duration": 10,
    "start_time": "2022-01-16T18:28:12.713Z"
   },
   {
    "duration": 11,
    "start_time": "2022-01-16T18:28:13.081Z"
   },
   {
    "duration": 57,
    "start_time": "2022-01-16T18:28:13.433Z"
   },
   {
    "duration": 15,
    "start_time": "2022-01-16T18:28:13.809Z"
   },
   {
    "duration": 17,
    "start_time": "2022-01-16T18:28:14.002Z"
   },
   {
    "duration": 10,
    "start_time": "2022-01-16T18:28:14.778Z"
   },
   {
    "duration": 5,
    "start_time": "2022-01-16T18:28:15.434Z"
   },
   {
    "duration": 5,
    "start_time": "2022-01-16T18:28:15.850Z"
   },
   {
    "duration": 18,
    "start_time": "2022-01-16T18:28:16.026Z"
   },
   {
    "duration": 24,
    "start_time": "2022-01-16T18:28:17.402Z"
   },
   {
    "duration": 24,
    "start_time": "2022-01-16T18:28:18.147Z"
   },
   {
    "duration": 46,
    "start_time": "2022-01-16T18:28:19.362Z"
   },
   {
    "duration": 11,
    "start_time": "2022-01-16T18:34:05.432Z"
   },
   {
    "duration": 5,
    "start_time": "2022-01-16T18:34:06.617Z"
   },
   {
    "duration": 367,
    "start_time": "2022-01-16T18:34:09.408Z"
   },
   {
    "duration": 4743,
    "start_time": "2022-01-16T18:34:17.648Z"
   },
   {
    "duration": 17,
    "start_time": "2022-01-16T18:34:23.833Z"
   },
   {
    "duration": -20,
    "start_time": "2022-01-16T18:37:10.473Z"
   },
   {
    "duration": -26,
    "start_time": "2022-01-16T18:37:10.481Z"
   },
   {
    "duration": 3639,
    "start_time": "2022-01-16T18:37:12.402Z"
   },
   {
    "duration": 3837,
    "start_time": "2022-01-16T18:37:17.156Z"
   },
   {
    "duration": 13,
    "start_time": "2022-01-16T18:37:21.405Z"
   },
   {
    "duration": 6,
    "start_time": "2022-01-16T18:45:36.648Z"
   },
   {
    "duration": 15,
    "start_time": "2022-01-16T18:45:37.977Z"
   },
   {
    "duration": 285,
    "start_time": "2022-01-16T18:45:39.129Z"
   },
   {
    "duration": 35,
    "start_time": "2022-01-16T18:45:43.515Z"
   },
   {
    "duration": 838,
    "start_time": "2022-01-16T18:48:57.496Z"
   },
   {
    "duration": 16,
    "start_time": "2022-01-16T18:48:58.336Z"
   },
   {
    "duration": 22,
    "start_time": "2022-01-16T18:48:58.367Z"
   },
   {
    "duration": 16,
    "start_time": "2022-01-16T18:48:58.392Z"
   },
   {
    "duration": 56,
    "start_time": "2022-01-16T18:48:58.411Z"
   },
   {
    "duration": 19,
    "start_time": "2022-01-16T18:48:58.470Z"
   },
   {
    "duration": 10,
    "start_time": "2022-01-16T18:48:58.492Z"
   },
   {
    "duration": 9,
    "start_time": "2022-01-16T18:48:58.506Z"
   },
   {
    "duration": 98,
    "start_time": "2022-01-16T18:48:58.518Z"
   },
   {
    "duration": 15,
    "start_time": "2022-01-16T18:48:58.619Z"
   },
   {
    "duration": 48,
    "start_time": "2022-01-16T18:48:58.637Z"
   },
   {
    "duration": 13,
    "start_time": "2022-01-16T18:48:58.689Z"
   },
   {
    "duration": 7,
    "start_time": "2022-01-16T18:48:58.705Z"
   },
   {
    "duration": 6,
    "start_time": "2022-01-16T18:48:58.715Z"
   },
   {
    "duration": 68,
    "start_time": "2022-01-16T18:48:58.724Z"
   },
   {
    "duration": 36,
    "start_time": "2022-01-16T18:48:58.795Z"
   },
   {
    "duration": 60,
    "start_time": "2022-01-16T18:48:58.835Z"
   },
   {
    "duration": 78,
    "start_time": "2022-01-16T18:48:58.899Z"
   },
   {
    "duration": 11,
    "start_time": "2022-01-16T18:48:58.981Z"
   },
   {
    "duration": 5,
    "start_time": "2022-01-16T18:48:58.995Z"
   },
   {
    "duration": 4936,
    "start_time": "2022-01-16T18:48:59.003Z"
   },
   {
    "duration": 7551,
    "start_time": "2022-01-16T18:49:03.942Z"
   },
   {
    "duration": -55,
    "start_time": "2022-01-16T18:49:11.553Z"
   },
   {
    "duration": -56,
    "start_time": "2022-01-16T18:49:11.556Z"
   },
   {
    "duration": 839,
    "start_time": "2022-01-16T18:49:44.225Z"
   },
   {
    "duration": 16,
    "start_time": "2022-01-16T18:49:45.067Z"
   },
   {
    "duration": 20,
    "start_time": "2022-01-16T18:49:45.086Z"
   },
   {
    "duration": 15,
    "start_time": "2022-01-16T18:49:45.109Z"
   },
   {
    "duration": 53,
    "start_time": "2022-01-16T18:49:45.127Z"
   },
   {
    "duration": 19,
    "start_time": "2022-01-16T18:49:45.183Z"
   },
   {
    "duration": 11,
    "start_time": "2022-01-16T18:49:45.205Z"
   },
   {
    "duration": 50,
    "start_time": "2022-01-16T18:49:45.219Z"
   },
   {
    "duration": 57,
    "start_time": "2022-01-16T18:49:45.273Z"
   },
   {
    "duration": 35,
    "start_time": "2022-01-16T18:49:45.333Z"
   },
   {
    "duration": 17,
    "start_time": "2022-01-16T18:49:45.371Z"
   },
   {
    "duration": 13,
    "start_time": "2022-01-16T18:49:45.390Z"
   },
   {
    "duration": 7,
    "start_time": "2022-01-16T18:49:45.405Z"
   },
   {
    "duration": 10,
    "start_time": "2022-01-16T18:49:45.414Z"
   },
   {
    "duration": 57,
    "start_time": "2022-01-16T18:49:45.426Z"
   },
   {
    "duration": 20,
    "start_time": "2022-01-16T18:49:45.486Z"
   },
   {
    "duration": 22,
    "start_time": "2022-01-16T18:49:45.509Z"
   },
   {
    "duration": 72,
    "start_time": "2022-01-16T18:49:45.533Z"
   },
   {
    "duration": 11,
    "start_time": "2022-01-16T18:49:45.607Z"
   },
   {
    "duration": 3,
    "start_time": "2022-01-16T18:49:45.620Z"
   },
   {
    "duration": 4865,
    "start_time": "2022-01-16T18:49:45.626Z"
   },
   {
    "duration": 13,
    "start_time": "2022-01-16T18:49:50.494Z"
   },
   {
    "duration": 5,
    "start_time": "2022-01-16T18:49:50.510Z"
   },
   {
    "duration": 50,
    "start_time": "2022-01-16T18:49:50.517Z"
   },
   {
    "duration": 15,
    "start_time": "2022-01-16T18:49:55.320Z"
   },
   {
    "duration": 37,
    "start_time": "2022-01-16T18:49:56.799Z"
   },
   {
    "duration": 1254,
    "start_time": "2022-01-16T19:02:02.837Z"
   },
   {
    "duration": 24,
    "start_time": "2022-01-16T19:02:04.095Z"
   },
   {
    "duration": 46,
    "start_time": "2022-01-16T19:02:04.123Z"
   },
   {
    "duration": 18,
    "start_time": "2022-01-16T19:02:04.172Z"
   },
   {
    "duration": 30,
    "start_time": "2022-01-16T19:02:04.194Z"
   },
   {
    "duration": 61,
    "start_time": "2022-01-16T19:02:04.227Z"
   },
   {
    "duration": 17,
    "start_time": "2022-01-16T19:02:04.292Z"
   },
   {
    "duration": 12,
    "start_time": "2022-01-16T19:02:04.315Z"
   },
   {
    "duration": 119,
    "start_time": "2022-01-16T19:02:04.331Z"
   },
   {
    "duration": 31,
    "start_time": "2022-01-16T19:02:04.453Z"
   },
   {
    "duration": 19,
    "start_time": "2022-01-16T19:02:04.488Z"
   },
   {
    "duration": 18,
    "start_time": "2022-01-16T19:02:04.511Z"
   },
   {
    "duration": 5,
    "start_time": "2022-01-16T19:02:04.568Z"
   },
   {
    "duration": 6,
    "start_time": "2022-01-16T19:02:04.576Z"
   },
   {
    "duration": 17,
    "start_time": "2022-01-16T19:02:04.585Z"
   },
   {
    "duration": 62,
    "start_time": "2022-01-16T19:02:04.605Z"
   },
   {
    "duration": 25,
    "start_time": "2022-01-16T19:02:04.670Z"
   },
   {
    "duration": 76,
    "start_time": "2022-01-16T19:02:04.697Z"
   },
   {
    "duration": 6,
    "start_time": "2022-01-16T19:02:04.775Z"
   },
   {
    "duration": 11,
    "start_time": "2022-01-16T19:02:04.784Z"
   },
   {
    "duration": 5130,
    "start_time": "2022-01-16T19:02:04.797Z"
   },
   {
    "duration": 4300,
    "start_time": "2022-01-16T19:02:13.526Z"
   },
   {
    "duration": 13,
    "start_time": "2022-01-16T19:02:18.527Z"
   },
   {
    "duration": 7,
    "start_time": "2022-01-16T19:02:21.351Z"
   },
   {
    "duration": 15,
    "start_time": "2022-01-16T19:02:22.880Z"
   },
   {
    "duration": 20,
    "start_time": "2022-01-16T19:02:23.471Z"
   },
   {
    "duration": 836,
    "start_time": "2022-01-16T19:10:27.479Z"
   },
   {
    "duration": 16,
    "start_time": "2022-01-16T19:10:28.318Z"
   },
   {
    "duration": 37,
    "start_time": "2022-01-16T19:10:28.337Z"
   },
   {
    "duration": 16,
    "start_time": "2022-01-16T19:10:28.377Z"
   },
   {
    "duration": 21,
    "start_time": "2022-01-16T19:10:28.396Z"
   },
   {
    "duration": 51,
    "start_time": "2022-01-16T19:10:28.420Z"
   },
   {
    "duration": 11,
    "start_time": "2022-01-16T19:10:28.474Z"
   },
   {
    "duration": 10,
    "start_time": "2022-01-16T19:10:28.491Z"
   },
   {
    "duration": 99,
    "start_time": "2022-01-16T19:10:28.504Z"
   },
   {
    "duration": 16,
    "start_time": "2022-01-16T19:10:28.606Z"
   },
   {
    "duration": 44,
    "start_time": "2022-01-16T19:10:28.625Z"
   },
   {
    "duration": 13,
    "start_time": "2022-01-16T19:10:28.671Z"
   },
   {
    "duration": 5,
    "start_time": "2022-01-16T19:10:28.687Z"
   },
   {
    "duration": 8,
    "start_time": "2022-01-16T19:10:28.694Z"
   },
   {
    "duration": 19,
    "start_time": "2022-01-16T19:10:28.704Z"
   },
   {
    "duration": 66,
    "start_time": "2022-01-16T19:10:28.725Z"
   },
   {
    "duration": 25,
    "start_time": "2022-01-16T19:10:28.793Z"
   },
   {
    "duration": 82,
    "start_time": "2022-01-16T19:10:28.820Z"
   },
   {
    "duration": 9,
    "start_time": "2022-01-16T19:10:28.904Z"
   },
   {
    "duration": 4,
    "start_time": "2022-01-16T19:10:28.915Z"
   },
   {
    "duration": 4842,
    "start_time": "2022-01-16T19:10:32.691Z"
   },
   {
    "duration": 14,
    "start_time": "2022-01-16T19:10:38.411Z"
   },
   {
    "duration": 4,
    "start_time": "2022-01-16T19:11:49.955Z"
   },
   {
    "duration": 12598,
    "start_time": "2022-01-16T19:11:51.826Z"
   },
   {
    "duration": 4,
    "start_time": "2022-01-16T19:13:03.403Z"
   },
   {
    "duration": 13702,
    "start_time": "2022-01-16T19:13:04.605Z"
   },
   {
    "duration": 12,
    "start_time": "2022-01-16T19:13:18.310Z"
   },
   {
    "duration": 5,
    "start_time": "2022-01-16T19:13:53.097Z"
   },
   {
    "duration": 5,
    "start_time": "2022-01-16T19:13:55.367Z"
   },
   {
    "duration": 13617,
    "start_time": "2022-01-16T19:13:56.505Z"
   },
   {
    "duration": 12,
    "start_time": "2022-01-16T19:14:10.125Z"
   },
   {
    "duration": 3,
    "start_time": "2022-01-16T19:14:18.244Z"
   },
   {
    "duration": 4360,
    "start_time": "2022-01-16T19:14:19.077Z"
   },
   {
    "duration": 28,
    "start_time": "2022-01-16T19:14:23.439Z"
   },
   {
    "duration": 5,
    "start_time": "2022-01-16T19:14:54.193Z"
   },
   {
    "duration": 4279,
    "start_time": "2022-01-16T19:14:55.071Z"
   },
   {
    "duration": 20,
    "start_time": "2022-01-16T19:14:59.352Z"
   },
   {
    "duration": 4,
    "start_time": "2022-01-16T19:15:07.713Z"
   },
   {
    "duration": 4036,
    "start_time": "2022-01-16T19:15:08.671Z"
   },
   {
    "duration": 10,
    "start_time": "2022-01-16T19:15:12.710Z"
   },
   {
    "duration": 6,
    "start_time": "2022-01-16T19:15:36.355Z"
   },
   {
    "duration": 14,
    "start_time": "2022-01-16T19:15:36.907Z"
   },
   {
    "duration": 20,
    "start_time": "2022-01-16T19:15:37.523Z"
   },
   {
    "duration": 34,
    "start_time": "2022-01-16T19:18:56.598Z"
   },
   {
    "duration": 27,
    "start_time": "2022-01-16T19:24:42.891Z"
   },
   {
    "duration": 33,
    "start_time": "2022-01-16T19:24:47.014Z"
   },
   {
    "duration": 7,
    "start_time": "2022-01-16T19:25:27.643Z"
   },
   {
    "duration": 5,
    "start_time": "2022-01-16T19:27:06.566Z"
   },
   {
    "duration": 521,
    "start_time": "2022-01-16T19:29:05.813Z"
   },
   {
    "duration": 30,
    "start_time": "2022-01-16T19:29:15.075Z"
   },
   {
    "duration": 5,
    "start_time": "2022-01-16T19:29:15.931Z"
   },
   {
    "duration": 8,
    "start_time": "2022-01-16T19:31:50.028Z"
   },
   {
    "duration": 7,
    "start_time": "2022-01-16T19:32:00.893Z"
   },
   {
    "duration": 8,
    "start_time": "2022-01-16T19:33:15.591Z"
   },
   {
    "duration": 22,
    "start_time": "2022-01-16T19:33:59.942Z"
   },
   {
    "duration": 16,
    "start_time": "2022-01-16T19:34:00.602Z"
   },
   {
    "duration": 6,
    "start_time": "2022-01-16T19:34:03.065Z"
   },
   {
    "duration": 373,
    "start_time": "2022-01-16T19:40:48.854Z"
   },
   {
    "duration": 12,
    "start_time": "2022-01-16T19:40:56.827Z"
   },
   {
    "duration": 31,
    "start_time": "2022-01-16T19:41:13.703Z"
   },
   {
    "duration": 11,
    "start_time": "2022-01-16T19:42:05.103Z"
   },
   {
    "duration": 12,
    "start_time": "2022-01-16T19:42:13.383Z"
   },
   {
    "duration": 11,
    "start_time": "2022-01-16T19:42:36.232Z"
   },
   {
    "duration": 14,
    "start_time": "2022-01-16T19:43:30.537Z"
   },
   {
    "duration": 30,
    "start_time": "2022-01-16T19:44:58.623Z"
   },
   {
    "duration": 11,
    "start_time": "2022-01-16T19:45:11.473Z"
   },
   {
    "duration": 12,
    "start_time": "2022-01-16T19:45:35.126Z"
   },
   {
    "duration": 6,
    "start_time": "2022-01-16T19:45:50.822Z"
   },
   {
    "duration": 10,
    "start_time": "2022-01-16T19:45:56.277Z"
   },
   {
    "duration": 5,
    "start_time": "2022-01-16T19:45:57.350Z"
   },
   {
    "duration": 325,
    "start_time": "2022-01-16T19:46:35.026Z"
   },
   {
    "duration": 29,
    "start_time": "2022-01-16T19:46:42.971Z"
   },
   {
    "duration": 26,
    "start_time": "2022-01-16T19:47:06.997Z"
   },
   {
    "duration": 31,
    "start_time": "2022-01-16T19:47:29.648Z"
   },
   {
    "duration": 6,
    "start_time": "2022-01-16T19:48:23.638Z"
   },
   {
    "duration": 104,
    "start_time": "2022-01-16T19:53:39.888Z"
   },
   {
    "duration": 309,
    "start_time": "2022-01-16T19:54:45.471Z"
   },
   {
    "duration": 282,
    "start_time": "2022-01-16T19:55:12.946Z"
   },
   {
    "duration": 6,
    "start_time": "2022-01-16T19:55:20.049Z"
   },
   {
    "duration": 6,
    "start_time": "2022-01-16T19:55:28.964Z"
   },
   {
    "duration": 336,
    "start_time": "2022-01-16T19:55:51.326Z"
   },
   {
    "duration": 94,
    "start_time": "2022-01-16T19:56:07.471Z"
   },
   {
    "duration": 6,
    "start_time": "2022-01-16T19:56:31.873Z"
   },
   {
    "duration": 6,
    "start_time": "2022-01-16T19:56:51.277Z"
   },
   {
    "duration": 279,
    "start_time": "2022-01-16T19:57:17.503Z"
   },
   {
    "duration": 6,
    "start_time": "2022-01-16T19:57:23.511Z"
   },
   {
    "duration": 289,
    "start_time": "2022-01-16T19:57:51.331Z"
   },
   {
    "duration": 287,
    "start_time": "2022-01-16T20:01:33.161Z"
   },
   {
    "duration": 287,
    "start_time": "2022-01-16T20:04:37.414Z"
   },
   {
    "duration": 10,
    "start_time": "2022-01-16T20:04:47.696Z"
   },
   {
    "duration": 7,
    "start_time": "2022-01-16T20:05:51.052Z"
   },
   {
    "duration": 10,
    "start_time": "2022-01-16T20:07:22.837Z"
   },
   {
    "duration": 9,
    "start_time": "2022-01-16T20:07:37.360Z"
   },
   {
    "duration": 11,
    "start_time": "2022-01-16T20:08:03.620Z"
   },
   {
    "duration": 293,
    "start_time": "2022-01-16T20:08:50.904Z"
   },
   {
    "duration": 11,
    "start_time": "2022-01-16T20:09:07.737Z"
   },
   {
    "duration": 1022,
    "start_time": "2022-01-16T20:09:29.810Z"
   },
   {
    "duration": 5,
    "start_time": "2022-01-16T20:09:38.749Z"
   },
   {
    "duration": 14,
    "start_time": "2022-01-16T20:09:46.319Z"
   },
   {
    "duration": 15,
    "start_time": "2022-01-16T20:09:59.141Z"
   },
   {
    "duration": 14,
    "start_time": "2022-01-16T20:10:03.192Z"
   },
   {
    "duration": 14,
    "start_time": "2022-01-16T20:10:19.577Z"
   },
   {
    "duration": 8,
    "start_time": "2022-01-16T20:10:24.811Z"
   },
   {
    "duration": 12,
    "start_time": "2022-01-16T20:13:12.419Z"
   },
   {
    "duration": 11,
    "start_time": "2022-01-16T20:13:14.244Z"
   },
   {
    "duration": 17,
    "start_time": "2022-01-16T20:14:17.730Z"
   },
   {
    "duration": 8,
    "start_time": "2022-01-16T20:15:38.436Z"
   },
   {
    "duration": 291,
    "start_time": "2022-01-16T20:15:49.884Z"
   },
   {
    "duration": 8,
    "start_time": "2022-01-16T20:16:25.695Z"
   },
   {
    "duration": 719,
    "start_time": "2022-01-16T20:16:41.361Z"
   },
   {
    "duration": 11,
    "start_time": "2022-01-16T20:16:47.978Z"
   },
   {
    "duration": 12,
    "start_time": "2022-01-16T20:17:49.523Z"
   },
   {
    "duration": 11,
    "start_time": "2022-01-16T20:17:52.577Z"
   },
   {
    "duration": 11,
    "start_time": "2022-01-16T20:18:36.405Z"
   },
   {
    "duration": 11,
    "start_time": "2022-01-16T20:18:37.118Z"
   },
   {
    "duration": 11,
    "start_time": "2022-01-16T20:19:36.203Z"
   },
   {
    "duration": 9,
    "start_time": "2022-01-16T20:19:44.734Z"
   },
   {
    "duration": 338,
    "start_time": "2022-01-16T20:22:22.605Z"
   },
   {
    "duration": 309,
    "start_time": "2022-01-16T20:22:44.600Z"
   },
   {
    "duration": 296,
    "start_time": "2022-01-16T20:23:11.965Z"
   },
   {
    "duration": 391,
    "start_time": "2022-01-16T20:23:33.157Z"
   },
   {
    "duration": 306,
    "start_time": "2022-01-16T20:24:04.153Z"
   },
   {
    "duration": 308,
    "start_time": "2022-01-16T20:24:15.724Z"
   },
   {
    "duration": 114,
    "start_time": "2022-01-16T20:24:34.499Z"
   },
   {
    "duration": 301,
    "start_time": "2022-01-16T20:24:54.263Z"
   },
   {
    "duration": 297,
    "start_time": "2022-01-16T20:25:19.507Z"
   },
   {
    "duration": 11,
    "start_time": "2022-01-16T20:25:43.427Z"
   },
   {
    "duration": 102,
    "start_time": "2022-01-16T20:25:56.220Z"
   },
   {
    "duration": 407,
    "start_time": "2022-01-16T20:26:02.061Z"
   },
   {
    "duration": 6,
    "start_time": "2022-01-16T20:26:11.452Z"
   },
   {
    "duration": 297,
    "start_time": "2022-01-16T20:26:28.951Z"
   },
   {
    "duration": 5,
    "start_time": "2022-01-16T20:27:27.005Z"
   },
   {
    "duration": 6,
    "start_time": "2022-01-16T20:27:40.550Z"
   },
   {
    "duration": 93,
    "start_time": "2022-01-16T20:29:59.302Z"
   },
   {
    "duration": 89,
    "start_time": "2022-01-16T20:30:17.793Z"
   },
   {
    "duration": 110,
    "start_time": "2022-01-16T20:31:00.699Z"
   },
   {
    "duration": 8,
    "start_time": "2022-01-16T20:31:08.685Z"
   },
   {
    "duration": 360,
    "start_time": "2022-01-16T20:31:50.387Z"
   },
   {
    "duration": 100,
    "start_time": "2022-01-16T20:32:21.956Z"
   },
   {
    "duration": 6,
    "start_time": "2022-01-16T20:32:32.109Z"
   },
   {
    "duration": 13,
    "start_time": "2022-01-16T20:32:53.664Z"
   },
   {
    "duration": 15,
    "start_time": "2022-01-16T20:46:36.046Z"
   },
   {
    "duration": 16,
    "start_time": "2022-01-16T20:46:56.528Z"
   },
   {
    "duration": 297,
    "start_time": "2022-01-16T20:47:06.418Z"
   },
   {
    "duration": 273,
    "start_time": "2022-01-16T20:48:06.944Z"
   },
   {
    "duration": 6,
    "start_time": "2022-01-16T20:48:12.778Z"
   },
   {
    "duration": 17,
    "start_time": "2022-01-16T20:49:01.465Z"
   },
   {
    "duration": 11,
    "start_time": "2022-01-16T20:49:10.600Z"
   },
   {
    "duration": 11,
    "start_time": "2022-01-16T20:49:16.000Z"
   },
   {
    "duration": 10,
    "start_time": "2022-01-16T20:49:20.601Z"
   },
   {
    "duration": 11,
    "start_time": "2022-01-16T20:51:21.544Z"
   },
   {
    "duration": 563,
    "start_time": "2022-01-16T20:51:32.615Z"
   },
   {
    "duration": 514,
    "start_time": "2022-01-16T20:51:39.616Z"
   },
   {
    "duration": 595,
    "start_time": "2022-01-16T20:52:08.538Z"
   },
   {
    "duration": 827,
    "start_time": "2022-01-16T20:53:46.296Z"
   },
   {
    "duration": 16,
    "start_time": "2022-01-16T20:53:47.126Z"
   },
   {
    "duration": 32,
    "start_time": "2022-01-16T20:53:47.145Z"
   },
   {
    "duration": 16,
    "start_time": "2022-01-16T20:53:47.180Z"
   },
   {
    "duration": 21,
    "start_time": "2022-01-16T20:53:47.199Z"
   },
   {
    "duration": 55,
    "start_time": "2022-01-16T20:53:47.222Z"
   },
   {
    "duration": 16,
    "start_time": "2022-01-16T20:53:47.281Z"
   },
   {
    "duration": 10,
    "start_time": "2022-01-16T20:53:47.301Z"
   },
   {
    "duration": 87,
    "start_time": "2022-01-16T20:53:47.314Z"
   },
   {
    "duration": 16,
    "start_time": "2022-01-16T20:53:47.404Z"
   },
   {
    "duration": 47,
    "start_time": "2022-01-16T20:53:47.422Z"
   },
   {
    "duration": 14,
    "start_time": "2022-01-16T20:53:47.472Z"
   },
   {
    "duration": 6,
    "start_time": "2022-01-16T20:53:47.488Z"
   },
   {
    "duration": 7,
    "start_time": "2022-01-16T20:53:47.496Z"
   },
   {
    "duration": 60,
    "start_time": "2022-01-16T20:53:47.506Z"
   },
   {
    "duration": 24,
    "start_time": "2022-01-16T20:53:47.569Z"
   },
   {
    "duration": 41,
    "start_time": "2022-01-16T20:53:47.596Z"
   },
   {
    "duration": 92,
    "start_time": "2022-01-16T20:53:47.640Z"
   },
   {
    "duration": 34,
    "start_time": "2022-01-16T20:53:47.735Z"
   },
   {
    "duration": 6,
    "start_time": "2022-01-16T20:53:47.772Z"
   },
   {
    "duration": 5339,
    "start_time": "2022-01-16T20:53:47.781Z"
   },
   {
    "duration": 16,
    "start_time": "2022-01-16T20:53:53.124Z"
   },
   {
    "duration": 5,
    "start_time": "2022-01-16T20:53:53.167Z"
   },
   {
    "duration": 38,
    "start_time": "2022-01-16T20:53:53.175Z"
   },
   {
    "duration": 68,
    "start_time": "2022-01-16T20:53:53.216Z"
   },
   {
    "duration": 10,
    "start_time": "2022-01-16T20:53:53.287Z"
   },
   {
    "duration": 11,
    "start_time": "2022-01-16T20:53:53.301Z"
   },
   {
    "duration": 7,
    "start_time": "2022-01-16T20:53:57.306Z"
   },
   {
    "duration": 7,
    "start_time": "2022-01-16T20:54:01.041Z"
   },
   {
    "duration": 742,
    "start_time": "2022-01-16T20:54:03.274Z"
   },
   {
    "duration": 6,
    "start_time": "2022-01-16T20:54:06.667Z"
   },
   {
    "duration": 8,
    "start_time": "2022-01-16T20:54:14.587Z"
   },
   {
    "duration": 862,
    "start_time": "2022-01-16T20:57:02.279Z"
   },
   {
    "duration": 25,
    "start_time": "2022-01-16T20:57:03.144Z"
   },
   {
    "duration": 22,
    "start_time": "2022-01-16T20:57:03.173Z"
   },
   {
    "duration": 17,
    "start_time": "2022-01-16T20:57:03.199Z"
   },
   {
    "duration": 63,
    "start_time": "2022-01-16T20:57:03.219Z"
   },
   {
    "duration": 21,
    "start_time": "2022-01-16T20:57:03.285Z"
   },
   {
    "duration": 13,
    "start_time": "2022-01-16T20:57:03.309Z"
   },
   {
    "duration": 50,
    "start_time": "2022-01-16T20:57:03.324Z"
   },
   {
    "duration": 58,
    "start_time": "2022-01-16T20:57:03.378Z"
   },
   {
    "duration": 34,
    "start_time": "2022-01-16T20:57:03.439Z"
   },
   {
    "duration": 19,
    "start_time": "2022-01-16T20:57:03.475Z"
   },
   {
    "duration": 25,
    "start_time": "2022-01-16T20:57:03.496Z"
   },
   {
    "duration": 12,
    "start_time": "2022-01-16T20:57:03.523Z"
   },
   {
    "duration": 31,
    "start_time": "2022-01-16T20:57:03.537Z"
   },
   {
    "duration": 21,
    "start_time": "2022-01-16T20:57:03.571Z"
   },
   {
    "duration": 23,
    "start_time": "2022-01-16T20:57:03.595Z"
   },
   {
    "duration": 48,
    "start_time": "2022-01-16T20:57:03.620Z"
   },
   {
    "duration": 46,
    "start_time": "2022-01-16T20:57:03.671Z"
   },
   {
    "duration": 9,
    "start_time": "2022-01-16T20:57:03.720Z"
   },
   {
    "duration": 20,
    "start_time": "2022-01-16T20:57:03.731Z"
   },
   {
    "duration": 4969,
    "start_time": "2022-01-16T20:57:03.753Z"
   },
   {
    "duration": 14,
    "start_time": "2022-01-16T20:57:08.725Z"
   },
   {
    "duration": 27,
    "start_time": "2022-01-16T20:57:08.742Z"
   },
   {
    "duration": 35,
    "start_time": "2022-01-16T20:57:08.773Z"
   },
   {
    "duration": 63,
    "start_time": "2022-01-16T20:57:08.811Z"
   },
   {
    "duration": 11,
    "start_time": "2022-01-16T20:57:08.877Z"
   },
   {
    "duration": 8,
    "start_time": "2022-01-16T20:57:08.893Z"
   },
   {
    "duration": 6,
    "start_time": "2022-01-16T20:57:11.486Z"
   },
   {
    "duration": 735,
    "start_time": "2022-01-16T20:57:13.317Z"
   },
   {
    "duration": 900,
    "start_time": "2022-01-16T20:58:27.333Z"
   },
   {
    "duration": 18,
    "start_time": "2022-01-16T20:58:28.236Z"
   },
   {
    "duration": 22,
    "start_time": "2022-01-16T20:58:28.268Z"
   },
   {
    "duration": 15,
    "start_time": "2022-01-16T20:58:28.293Z"
   },
   {
    "duration": 68,
    "start_time": "2022-01-16T20:58:28.312Z"
   },
   {
    "duration": 29,
    "start_time": "2022-01-16T20:58:28.385Z"
   },
   {
    "duration": 15,
    "start_time": "2022-01-16T20:58:28.417Z"
   },
   {
    "duration": 38,
    "start_time": "2022-01-16T20:58:28.437Z"
   },
   {
    "duration": 59,
    "start_time": "2022-01-16T20:58:28.480Z"
   },
   {
    "duration": 41,
    "start_time": "2022-01-16T20:58:28.541Z"
   },
   {
    "duration": 20,
    "start_time": "2022-01-16T20:58:28.584Z"
   },
   {
    "duration": 13,
    "start_time": "2022-01-16T20:58:28.607Z"
   },
   {
    "duration": 7,
    "start_time": "2022-01-16T20:58:28.668Z"
   },
   {
    "duration": 26,
    "start_time": "2022-01-16T20:58:28.679Z"
   },
   {
    "duration": 32,
    "start_time": "2022-01-16T20:58:28.708Z"
   },
   {
    "duration": 49,
    "start_time": "2022-01-16T20:58:28.744Z"
   },
   {
    "duration": 32,
    "start_time": "2022-01-16T20:58:28.796Z"
   },
   {
    "duration": 74,
    "start_time": "2022-01-16T20:58:28.832Z"
   },
   {
    "duration": 11,
    "start_time": "2022-01-16T20:58:28.909Z"
   },
   {
    "duration": 6,
    "start_time": "2022-01-16T20:58:28.923Z"
   },
   {
    "duration": 5783,
    "start_time": "2022-01-16T20:58:28.932Z"
   },
   {
    "duration": 21,
    "start_time": "2022-01-16T20:58:34.719Z"
   },
   {
    "duration": 7,
    "start_time": "2022-01-16T20:58:34.768Z"
   },
   {
    "duration": 60,
    "start_time": "2022-01-16T20:58:34.779Z"
   },
   {
    "duration": 70,
    "start_time": "2022-01-16T20:58:34.842Z"
   },
   {
    "duration": 18,
    "start_time": "2022-01-16T20:58:34.916Z"
   },
   {
    "duration": 34,
    "start_time": "2022-01-16T20:58:34.937Z"
   },
   {
    "duration": 7,
    "start_time": "2022-01-16T20:58:36.443Z"
   },
   {
    "duration": 856,
    "start_time": "2022-01-16T20:58:37.146Z"
   },
   {
    "duration": 14,
    "start_time": "2022-01-16T21:02:36.364Z"
   },
   {
    "duration": -35,
    "start_time": "2022-01-16T21:03:13.724Z"
   },
   {
    "duration": 7,
    "start_time": "2022-01-16T21:03:24.536Z"
   },
   {
    "duration": 8,
    "start_time": "2022-01-16T21:03:36.124Z"
   },
   {
    "duration": 318,
    "start_time": "2022-01-16T21:04:05.943Z"
   },
   {
    "duration": 317,
    "start_time": "2022-01-16T21:04:28.992Z"
   },
   {
    "duration": 11,
    "start_time": "2022-01-16T21:04:45.690Z"
   },
   {
    "duration": 9,
    "start_time": "2022-01-16T21:04:58.508Z"
   },
   {
    "duration": 7,
    "start_time": "2022-01-16T21:05:08.582Z"
   },
   {
    "duration": 6,
    "start_time": "2022-01-16T21:05:37.832Z"
   },
   {
    "duration": 15,
    "start_time": "2022-01-16T21:06:27.149Z"
   },
   {
    "duration": 7,
    "start_time": "2022-01-16T21:06:31.917Z"
   },
   {
    "duration": 8,
    "start_time": "2022-01-16T21:06:37.815Z"
   },
   {
    "duration": 850,
    "start_time": "2022-01-16T21:09:48.490Z"
   },
   {
    "duration": 24,
    "start_time": "2022-01-16T21:09:49.343Z"
   },
   {
    "duration": 21,
    "start_time": "2022-01-16T21:09:49.370Z"
   },
   {
    "duration": 17,
    "start_time": "2022-01-16T21:09:49.393Z"
   },
   {
    "duration": 58,
    "start_time": "2022-01-16T21:09:49.412Z"
   },
   {
    "duration": 21,
    "start_time": "2022-01-16T21:09:49.473Z"
   },
   {
    "duration": 11,
    "start_time": "2022-01-16T21:09:49.497Z"
   },
   {
    "duration": 10,
    "start_time": "2022-01-16T21:09:49.511Z"
   },
   {
    "duration": 95,
    "start_time": "2022-01-16T21:09:49.525Z"
   },
   {
    "duration": 15,
    "start_time": "2022-01-16T21:09:49.623Z"
   },
   {
    "duration": 44,
    "start_time": "2022-01-16T21:09:49.640Z"
   },
   {
    "duration": 14,
    "start_time": "2022-01-16T21:09:49.687Z"
   },
   {
    "duration": 7,
    "start_time": "2022-01-16T21:09:49.704Z"
   },
   {
    "duration": 7,
    "start_time": "2022-01-16T21:09:49.713Z"
   },
   {
    "duration": 16,
    "start_time": "2022-01-16T21:09:49.768Z"
   },
   {
    "duration": 22,
    "start_time": "2022-01-16T21:09:49.787Z"
   },
   {
    "duration": 56,
    "start_time": "2022-01-16T21:09:49.811Z"
   },
   {
    "duration": 44,
    "start_time": "2022-01-16T21:09:49.870Z"
   },
   {
    "duration": 9,
    "start_time": "2022-01-16T21:09:49.917Z"
   },
   {
    "duration": 4,
    "start_time": "2022-01-16T21:09:49.929Z"
   },
   {
    "duration": 5059,
    "start_time": "2022-01-16T21:09:49.935Z"
   },
   {
    "duration": 15,
    "start_time": "2022-01-16T21:09:54.997Z"
   },
   {
    "duration": 6,
    "start_time": "2022-01-16T21:09:55.015Z"
   },
   {
    "duration": 66,
    "start_time": "2022-01-16T21:09:55.024Z"
   },
   {
    "duration": 39,
    "start_time": "2022-01-16T21:09:55.093Z"
   },
   {
    "duration": 35,
    "start_time": "2022-01-16T21:09:55.135Z"
   },
   {
    "duration": 8,
    "start_time": "2022-01-16T21:09:55.176Z"
   },
   {
    "duration": 5,
    "start_time": "2022-01-16T21:09:57.003Z"
   },
   {
    "duration": 890,
    "start_time": "2022-01-16T21:09:58.580Z"
   },
   {
    "duration": 9,
    "start_time": "2022-01-16T21:10:02.596Z"
   },
   {
    "duration": 379,
    "start_time": "2022-01-16T21:10:51.890Z"
   },
   {
    "duration": 7,
    "start_time": "2022-01-16T21:11:05.860Z"
   },
   {
    "duration": 6,
    "start_time": "2022-01-16T21:11:20.956Z"
   },
   {
    "duration": 288,
    "start_time": "2022-01-16T21:11:48.746Z"
   },
   {
    "duration": 337,
    "start_time": "2022-01-16T21:12:16.349Z"
   },
   {
    "duration": 5,
    "start_time": "2022-01-16T21:12:35.710Z"
   },
   {
    "duration": 6,
    "start_time": "2022-01-16T21:14:21.088Z"
   },
   {
    "duration": 867,
    "start_time": "2022-01-16T21:24:35.145Z"
   },
   {
    "duration": 16,
    "start_time": "2022-01-16T21:24:36.015Z"
   },
   {
    "duration": 40,
    "start_time": "2022-01-16T21:24:36.034Z"
   },
   {
    "duration": 16,
    "start_time": "2022-01-16T21:24:36.077Z"
   },
   {
    "duration": 25,
    "start_time": "2022-01-16T21:24:36.095Z"
   },
   {
    "duration": 52,
    "start_time": "2022-01-16T21:24:36.123Z"
   },
   {
    "duration": 9,
    "start_time": "2022-01-16T21:24:36.178Z"
   },
   {
    "duration": 9,
    "start_time": "2022-01-16T21:24:36.191Z"
   },
   {
    "duration": 88,
    "start_time": "2022-01-16T21:24:36.202Z"
   },
   {
    "duration": 15,
    "start_time": "2022-01-16T21:24:36.292Z"
   },
   {
    "duration": 18,
    "start_time": "2022-01-16T21:24:36.309Z"
   },
   {
    "duration": 42,
    "start_time": "2022-01-16T21:24:36.329Z"
   },
   {
    "duration": 6,
    "start_time": "2022-01-16T21:24:36.373Z"
   },
   {
    "duration": 5,
    "start_time": "2022-01-16T21:24:36.382Z"
   },
   {
    "duration": 18,
    "start_time": "2022-01-16T21:24:36.390Z"
   },
   {
    "duration": 21,
    "start_time": "2022-01-16T21:24:36.411Z"
   },
   {
    "duration": 24,
    "start_time": "2022-01-16T21:24:36.468Z"
   },
   {
    "duration": 47,
    "start_time": "2022-01-16T21:24:36.494Z"
   },
   {
    "duration": 9,
    "start_time": "2022-01-16T21:24:36.568Z"
   },
   {
    "duration": 4,
    "start_time": "2022-01-16T21:24:36.580Z"
   },
   {
    "duration": 4661,
    "start_time": "2022-01-16T21:24:36.587Z"
   },
   {
    "duration": 23,
    "start_time": "2022-01-16T21:24:41.251Z"
   },
   {
    "duration": 4,
    "start_time": "2022-01-16T21:24:41.279Z"
   },
   {
    "duration": 41,
    "start_time": "2022-01-16T21:24:41.285Z"
   },
   {
    "duration": 741,
    "start_time": "2022-01-16T21:24:43.661Z"
   },
   {
    "duration": 8,
    "start_time": "2022-01-16T21:24:46.799Z"
   },
   {
    "duration": 364,
    "start_time": "2022-01-16T21:27:40.496Z"
   },
   {
    "duration": 7,
    "start_time": "2022-01-16T21:27:57.033Z"
   },
   {
    "duration": 5,
    "start_time": "2022-01-16T21:28:00.114Z"
   },
   {
    "duration": 5,
    "start_time": "2022-01-16T21:28:19.189Z"
   },
   {
    "duration": 5,
    "start_time": "2022-01-16T21:30:06.912Z"
   },
   {
    "duration": 5,
    "start_time": "2022-01-16T21:32:07.208Z"
   },
   {
    "duration": 6,
    "start_time": "2022-01-16T21:33:17.293Z"
   },
   {
    "duration": 6,
    "start_time": "2022-01-16T21:38:13.621Z"
   },
   {
    "duration": 5,
    "start_time": "2022-01-16T21:38:54.104Z"
   },
   {
    "duration": 6,
    "start_time": "2022-01-16T21:39:04.665Z"
   },
   {
    "duration": 5,
    "start_time": "2022-01-16T21:39:26.684Z"
   },
   {
    "duration": 6,
    "start_time": "2022-01-16T21:39:40.325Z"
   },
   {
    "duration": 324,
    "start_time": "2022-01-16T21:44:26.235Z"
   },
   {
    "duration": 35,
    "start_time": "2022-01-16T21:44:41.487Z"
   },
   {
    "duration": 13,
    "start_time": "2022-01-16T21:45:44.811Z"
   },
   {
    "duration": 28,
    "start_time": "2022-01-16T21:46:45.987Z"
   },
   {
    "duration": 9,
    "start_time": "2022-01-16T21:47:08.357Z"
   },
   {
    "duration": 35,
    "start_time": "2022-01-16T21:48:42.855Z"
   },
   {
    "duration": 33,
    "start_time": "2022-01-16T21:48:54.122Z"
   },
   {
    "duration": 33,
    "start_time": "2022-01-16T21:49:08.315Z"
   },
   {
    "duration": 34,
    "start_time": "2022-01-16T21:58:08.643Z"
   },
   {
    "duration": 6,
    "start_time": "2022-01-16T21:58:09.299Z"
   },
   {
    "duration": 5,
    "start_time": "2022-01-16T21:58:11.099Z"
   },
   {
    "duration": 35,
    "start_time": "2022-01-16T22:00:48.891Z"
   },
   {
    "duration": 35,
    "start_time": "2022-01-16T22:01:17.167Z"
   },
   {
    "duration": 46,
    "start_time": "2022-01-16T22:01:39.355Z"
   },
   {
    "duration": 31,
    "start_time": "2022-01-16T22:01:54.357Z"
   },
   {
    "duration": 32,
    "start_time": "2022-01-16T22:02:09.726Z"
   },
   {
    "duration": 44,
    "start_time": "2022-01-16T22:02:24.041Z"
   },
   {
    "duration": 865,
    "start_time": "2022-01-16T22:03:40.732Z"
   },
   {
    "duration": 16,
    "start_time": "2022-01-16T22:03:41.600Z"
   },
   {
    "duration": 20,
    "start_time": "2022-01-16T22:03:41.619Z"
   },
   {
    "duration": 16,
    "start_time": "2022-01-16T22:03:41.668Z"
   },
   {
    "duration": 21,
    "start_time": "2022-01-16T22:03:41.687Z"
   },
   {
    "duration": 20,
    "start_time": "2022-01-16T22:03:41.710Z"
   },
   {
    "duration": 11,
    "start_time": "2022-01-16T22:03:41.768Z"
   },
   {
    "duration": 9,
    "start_time": "2022-01-16T22:03:41.783Z"
   },
   {
    "duration": 85,
    "start_time": "2022-01-16T22:03:41.795Z"
   },
   {
    "duration": 15,
    "start_time": "2022-01-16T22:03:41.883Z"
   },
   {
    "duration": 18,
    "start_time": "2022-01-16T22:03:41.900Z"
   },
   {
    "duration": 46,
    "start_time": "2022-01-16T22:03:41.920Z"
   },
   {
    "duration": 5,
    "start_time": "2022-01-16T22:03:41.968Z"
   },
   {
    "duration": 7,
    "start_time": "2022-01-16T22:03:41.975Z"
   },
   {
    "duration": 17,
    "start_time": "2022-01-16T22:03:41.984Z"
   },
   {
    "duration": 21,
    "start_time": "2022-01-16T22:03:42.003Z"
   },
   {
    "duration": 61,
    "start_time": "2022-01-16T22:03:42.027Z"
   },
   {
    "duration": 45,
    "start_time": "2022-01-16T22:03:42.091Z"
   },
   {
    "duration": 29,
    "start_time": "2022-01-16T22:03:42.139Z"
   },
   {
    "duration": 4,
    "start_time": "2022-01-16T22:03:42.171Z"
   },
   {
    "duration": 4672,
    "start_time": "2022-01-16T22:03:42.178Z"
   },
   {
    "duration": 26,
    "start_time": "2022-01-16T22:03:46.853Z"
   },
   {
    "duration": 5,
    "start_time": "2022-01-16T22:03:46.884Z"
   },
   {
    "duration": 33,
    "start_time": "2022-01-16T22:03:46.891Z"
   },
   {
    "duration": 437,
    "start_time": "2022-01-16T22:03:46.926Z"
   },
   {
    "duration": -54,
    "start_time": "2022-01-16T22:03:47.420Z"
   },
   {
    "duration": -56,
    "start_time": "2022-01-16T22:03:47.423Z"
   },
   {
    "duration": 29,
    "start_time": "2022-01-16T22:03:51.409Z"
   },
   {
    "duration": 10,
    "start_time": "2022-01-16T22:03:52.226Z"
   },
   {
    "duration": 402,
    "start_time": "2022-01-16T22:03:53.409Z"
   },
   {
    "duration": 1402,
    "start_time": "2022-01-16T22:04:54.968Z"
   },
   {
    "duration": 304,
    "start_time": "2022-01-16T22:05:00.322Z"
   },
   {
    "duration": 6,
    "start_time": "2022-01-16T22:05:14.471Z"
   },
   {
    "duration": 6,
    "start_time": "2022-01-16T22:05:17.995Z"
   },
   {
    "duration": 889,
    "start_time": "2022-01-16T22:05:46.030Z"
   },
   {
    "duration": 15,
    "start_time": "2022-01-16T22:05:46.922Z"
   },
   {
    "duration": 42,
    "start_time": "2022-01-16T22:05:46.940Z"
   },
   {
    "duration": 16,
    "start_time": "2022-01-16T22:05:46.984Z"
   },
   {
    "duration": 24,
    "start_time": "2022-01-16T22:05:47.002Z"
   },
   {
    "duration": 49,
    "start_time": "2022-01-16T22:05:47.028Z"
   },
   {
    "duration": 11,
    "start_time": "2022-01-16T22:05:47.080Z"
   },
   {
    "duration": 9,
    "start_time": "2022-01-16T22:05:47.095Z"
   },
   {
    "duration": 85,
    "start_time": "2022-01-16T22:05:47.107Z"
   },
   {
    "duration": 14,
    "start_time": "2022-01-16T22:05:47.195Z"
   },
   {
    "duration": 23,
    "start_time": "2022-01-16T22:05:47.212Z"
   },
   {
    "duration": 36,
    "start_time": "2022-01-16T22:05:47.238Z"
   },
   {
    "duration": 5,
    "start_time": "2022-01-16T22:05:47.277Z"
   },
   {
    "duration": 22,
    "start_time": "2022-01-16T22:05:47.284Z"
   },
   {
    "duration": 27,
    "start_time": "2022-01-16T22:05:47.308Z"
   },
   {
    "duration": 36,
    "start_time": "2022-01-16T22:05:47.337Z"
   },
   {
    "duration": 24,
    "start_time": "2022-01-16T22:05:47.376Z"
   },
   {
    "duration": 73,
    "start_time": "2022-01-16T22:05:47.402Z"
   },
   {
    "duration": 10,
    "start_time": "2022-01-16T22:05:47.477Z"
   },
   {
    "duration": 4,
    "start_time": "2022-01-16T22:05:47.489Z"
   },
   {
    "duration": 4716,
    "start_time": "2022-01-16T22:05:47.496Z"
   },
   {
    "duration": 13,
    "start_time": "2022-01-16T22:05:52.215Z"
   },
   {
    "duration": 5,
    "start_time": "2022-01-16T22:05:52.233Z"
   },
   {
    "duration": 48,
    "start_time": "2022-01-16T22:05:52.241Z"
   },
   {
    "duration": 748,
    "start_time": "2022-01-16T22:05:52.292Z"
   },
   {
    "duration": 6,
    "start_time": "2022-01-16T22:05:53.043Z"
   },
   {
    "duration": 18,
    "start_time": "2022-01-16T22:05:53.052Z"
   },
   {
    "duration": 32,
    "start_time": "2022-01-16T22:06:07.704Z"
   },
   {
    "duration": 10,
    "start_time": "2022-01-16T22:06:08.760Z"
   },
   {
    "duration": 33,
    "start_time": "2022-01-16T22:06:10.513Z"
   },
   {
    "duration": 439,
    "start_time": "2022-01-16T22:08:33.503Z"
   },
   {
    "duration": 38,
    "start_time": "2022-01-16T22:08:49.762Z"
   },
   {
    "duration": 36,
    "start_time": "2022-01-16T22:09:01.723Z"
   },
   {
    "duration": 33,
    "start_time": "2022-01-16T22:09:04.947Z"
   },
   {
    "duration": 35,
    "start_time": "2022-01-16T22:09:36.774Z"
   },
   {
    "duration": 313,
    "start_time": "2022-01-16T22:09:48.199Z"
   },
   {
    "duration": 38,
    "start_time": "2022-01-16T22:09:56.800Z"
   },
   {
    "duration": 36,
    "start_time": "2022-01-16T22:10:14.883Z"
   },
   {
    "duration": 35,
    "start_time": "2022-01-16T22:10:33.564Z"
   },
   {
    "duration": 10,
    "start_time": "2022-01-16T22:10:43.173Z"
   },
   {
    "duration": 9,
    "start_time": "2022-01-16T22:10:57.798Z"
   },
   {
    "duration": 10,
    "start_time": "2022-01-16T22:11:52.885Z"
   },
   {
    "duration": 9,
    "start_time": "2022-01-16T22:12:05.463Z"
   },
   {
    "duration": 6,
    "start_time": "2022-01-16T22:12:33.257Z"
   },
   {
    "duration": 12,
    "start_time": "2022-01-16T22:12:43.569Z"
   },
   {
    "duration": 10,
    "start_time": "2022-01-16T22:13:10.189Z"
   },
   {
    "duration": 39,
    "start_time": "2022-01-16T22:13:34.856Z"
   },
   {
    "duration": 34,
    "start_time": "2022-01-16T22:15:41.589Z"
   },
   {
    "duration": 8,
    "start_time": "2022-01-17T00:02:11.806Z"
   },
   {
    "duration": 6,
    "start_time": "2022-01-17T00:02:24.617Z"
   },
   {
    "duration": 7,
    "start_time": "2022-01-17T00:02:30.817Z"
   },
   {
    "duration": 6816,
    "start_time": "2022-01-17T00:10:29.821Z"
   },
   {
    "duration": 130514,
    "start_time": "2022-01-17T00:10:56.643Z"
   },
   {
    "duration": 2032,
    "start_time": "2022-01-17T00:19:27.716Z"
   },
   {
    "duration": 2997,
    "start_time": "2022-01-17T00:19:31.989Z"
   },
   {
    "duration": 758,
    "start_time": "2022-01-17T00:20:27.332Z"
   },
   {
    "duration": 748,
    "start_time": "2022-01-17T00:20:47.205Z"
   },
   {
    "duration": 756,
    "start_time": "2022-01-17T00:20:53.702Z"
   },
   {
    "duration": 2094,
    "start_time": "2022-01-17T00:21:35.274Z"
   },
   {
    "duration": 1783,
    "start_time": "2022-01-17T00:21:56.173Z"
   },
   {
    "duration": 746,
    "start_time": "2022-01-17T00:22:20.559Z"
   },
   {
    "duration": 5697,
    "start_time": "2022-01-17T00:23:04.436Z"
   },
   {
    "duration": 1591,
    "start_time": "2022-01-17T00:23:11.389Z"
   },
   {
    "duration": 2550,
    "start_time": "2022-01-17T00:23:22.949Z"
   },
   {
    "duration": 1985,
    "start_time": "2022-01-17T00:24:21.987Z"
   },
   {
    "duration": 2103,
    "start_time": "2022-01-17T00:24:23.974Z"
   },
   {
    "duration": 2952,
    "start_time": "2022-01-17T00:24:26.080Z"
   },
   {
    "duration": 343,
    "start_time": "2022-01-17T00:26:51.997Z"
   },
   {
    "duration": 384,
    "start_time": "2022-01-17T00:29:20.283Z"
   },
   {
    "duration": 385,
    "start_time": "2022-01-17T00:29:27.540Z"
   },
   {
    "duration": 374,
    "start_time": "2022-01-17T00:29:35.638Z"
   },
   {
    "duration": 525,
    "start_time": "2022-01-17T00:29:52.032Z"
   },
   {
    "duration": 387,
    "start_time": "2022-01-17T00:30:01.448Z"
   },
   {
    "duration": 236,
    "start_time": "2022-01-17T00:30:07.371Z"
   },
   {
    "duration": 378,
    "start_time": "2022-01-17T00:30:12.507Z"
   },
   {
    "duration": 518,
    "start_time": "2022-01-17T00:30:57.984Z"
   },
   {
    "duration": 3288,
    "start_time": "2022-01-17T00:31:07.888Z"
   },
   {
    "duration": 595,
    "start_time": "2022-01-17T00:31:16.176Z"
   },
   {
    "duration": 383,
    "start_time": "2022-01-17T00:31:26.194Z"
   },
   {
    "duration": 715,
    "start_time": "2022-01-17T00:31:31.898Z"
   },
   {
    "duration": 528,
    "start_time": "2022-01-17T00:32:23.214Z"
   },
   {
    "duration": 522,
    "start_time": "2022-01-17T00:32:31.391Z"
   },
   {
    "duration": 282,
    "start_time": "2022-01-17T00:34:29.508Z"
   },
   {
    "duration": 31,
    "start_time": "2022-01-17T00:36:12.159Z"
   },
   {
    "duration": 559,
    "start_time": "2022-01-17T00:38:49.991Z"
   },
   {
    "duration": 630,
    "start_time": "2022-01-17T00:38:56.457Z"
   },
   {
    "duration": 526,
    "start_time": "2022-01-17T00:39:15.070Z"
   },
   {
    "duration": 3202,
    "start_time": "2022-01-17T00:41:20.474Z"
   },
   {
    "duration": 3453,
    "start_time": "2022-01-17T00:43:02.514Z"
   },
   {
    "duration": 518,
    "start_time": "2022-01-17T00:43:09.179Z"
   },
   {
    "duration": 284,
    "start_time": "2022-01-17T00:43:53.672Z"
   },
   {
    "duration": 727,
    "start_time": "2022-01-17T00:45:08.857Z"
   },
   {
    "duration": 7,
    "start_time": "2022-01-17T00:53:05.267Z"
   },
   {
    "duration": 3176,
    "start_time": "2022-01-17T00:53:06.066Z"
   },
   {
    "duration": 33,
    "start_time": "2022-01-17T00:53:12.484Z"
   },
   {
    "duration": 34,
    "start_time": "2022-01-17T00:53:48.886Z"
   },
   {
    "duration": 847,
    "start_time": "2022-01-17T00:55:04.174Z"
   },
   {
    "duration": 19,
    "start_time": "2022-01-17T00:55:05.024Z"
   },
   {
    "duration": 39,
    "start_time": "2022-01-17T00:55:05.046Z"
   },
   {
    "duration": 16,
    "start_time": "2022-01-17T00:55:05.088Z"
   },
   {
    "duration": 19,
    "start_time": "2022-01-17T00:55:05.107Z"
   },
   {
    "duration": 54,
    "start_time": "2022-01-17T00:55:05.129Z"
   },
   {
    "duration": 20,
    "start_time": "2022-01-17T00:55:05.185Z"
   },
   {
    "duration": 9,
    "start_time": "2022-01-17T00:55:05.207Z"
   },
   {
    "duration": 85,
    "start_time": "2022-01-17T00:55:05.221Z"
   },
   {
    "duration": 17,
    "start_time": "2022-01-17T00:55:05.309Z"
   },
   {
    "duration": 43,
    "start_time": "2022-01-17T00:55:05.329Z"
   },
   {
    "duration": 14,
    "start_time": "2022-01-17T00:55:05.376Z"
   },
   {
    "duration": 6,
    "start_time": "2022-01-17T00:55:05.393Z"
   },
   {
    "duration": 15,
    "start_time": "2022-01-17T00:55:05.402Z"
   },
   {
    "duration": 54,
    "start_time": "2022-01-17T00:55:05.419Z"
   },
   {
    "duration": 24,
    "start_time": "2022-01-17T00:55:05.476Z"
   },
   {
    "duration": 48,
    "start_time": "2022-01-17T00:55:05.503Z"
   },
   {
    "duration": 55,
    "start_time": "2022-01-17T00:55:05.554Z"
   },
   {
    "duration": 9,
    "start_time": "2022-01-17T00:55:05.612Z"
   },
   {
    "duration": 4,
    "start_time": "2022-01-17T00:55:05.624Z"
   },
   {
    "duration": 4520,
    "start_time": "2022-01-17T00:55:05.631Z"
   },
   {
    "duration": 24,
    "start_time": "2022-01-17T00:55:10.154Z"
   },
   {
    "duration": 7,
    "start_time": "2022-01-17T00:55:10.181Z"
   },
   {
    "duration": 34,
    "start_time": "2022-01-17T00:55:10.191Z"
   },
   {
    "duration": 764,
    "start_time": "2022-01-17T00:55:10.228Z"
   },
   {
    "duration": 6,
    "start_time": "2022-01-17T00:55:10.995Z"
   },
   {
    "duration": 11,
    "start_time": "2022-01-17T00:55:11.006Z"
   },
   {
    "duration": 65,
    "start_time": "2022-01-17T00:55:11.019Z"
   },
   {
    "duration": 5,
    "start_time": "2022-01-17T00:55:13.715Z"
   },
   {
    "duration": 405,
    "start_time": "2022-01-17T00:55:14.596Z"
   },
   {
    "duration": 419,
    "start_time": "2022-01-17T00:55:59.490Z"
   },
   {
    "duration": 561,
    "start_time": "2022-01-17T00:56:19.606Z"
   },
   {
    "duration": 95,
    "start_time": "2022-01-17T00:56:44.216Z"
   },
   {
    "duration": 111,
    "start_time": "2022-01-17T00:56:50.481Z"
   },
   {
    "duration": 403,
    "start_time": "2022-01-17T00:56:56.400Z"
   },
   {
    "duration": 474,
    "start_time": "2022-01-17T00:57:45.022Z"
   },
   {
    "duration": 435,
    "start_time": "2022-01-17T00:58:27.409Z"
   },
   {
    "duration": 36,
    "start_time": "2022-01-17T01:00:40.873Z"
   },
   {
    "duration": 32,
    "start_time": "2022-01-17T01:00:56.409Z"
   },
   {
    "duration": 45,
    "start_time": "2022-01-17T01:01:20.267Z"
   },
   {
    "duration": 37,
    "start_time": "2022-01-17T01:01:37.853Z"
   },
   {
    "duration": 34,
    "start_time": "2022-01-17T01:01:51.519Z"
   },
   {
    "duration": 35,
    "start_time": "2022-01-17T01:02:12.393Z"
   },
   {
    "duration": 301,
    "start_time": "2022-01-17T14:12:39.973Z"
   },
   {
    "duration": 684,
    "start_time": "2022-01-17T14:12:52.995Z"
   },
   {
    "duration": 12,
    "start_time": "2022-01-17T14:12:53.681Z"
   },
   {
    "duration": 15,
    "start_time": "2022-01-17T14:12:53.696Z"
   },
   {
    "duration": 11,
    "start_time": "2022-01-17T14:12:53.714Z"
   },
   {
    "duration": 16,
    "start_time": "2022-01-17T14:12:53.727Z"
   },
   {
    "duration": 13,
    "start_time": "2022-01-17T14:12:53.745Z"
   },
   {
    "duration": 40,
    "start_time": "2022-01-17T14:12:53.759Z"
   },
   {
    "duration": 6,
    "start_time": "2022-01-17T14:12:53.801Z"
   },
   {
    "duration": 37,
    "start_time": "2022-01-17T14:12:53.811Z"
   },
   {
    "duration": 12,
    "start_time": "2022-01-17T14:12:53.851Z"
   },
   {
    "duration": 39,
    "start_time": "2022-01-17T14:12:53.866Z"
   },
   {
    "duration": 9,
    "start_time": "2022-01-17T14:12:53.907Z"
   },
   {
    "duration": 3,
    "start_time": "2022-01-17T14:12:53.918Z"
   },
   {
    "duration": 5,
    "start_time": "2022-01-17T14:12:53.923Z"
   },
   {
    "duration": 15,
    "start_time": "2022-01-17T14:12:53.929Z"
   },
   {
    "duration": 15,
    "start_time": "2022-01-17T14:12:53.946Z"
   },
   {
    "duration": 51,
    "start_time": "2022-01-17T14:12:53.962Z"
   },
   {
    "duration": 31,
    "start_time": "2022-01-17T14:12:54.014Z"
   },
   {
    "duration": 4,
    "start_time": "2022-01-17T14:12:54.046Z"
   },
   {
    "duration": 3,
    "start_time": "2022-01-17T14:12:54.052Z"
   },
   {
    "duration": 3520,
    "start_time": "2022-01-17T14:12:54.057Z"
   },
   {
    "duration": 20,
    "start_time": "2022-01-17T14:12:57.580Z"
   },
   {
    "duration": 4,
    "start_time": "2022-01-17T14:12:57.601Z"
   },
   {
    "duration": 25,
    "start_time": "2022-01-17T14:12:57.607Z"
   },
   {
    "duration": 447,
    "start_time": "2022-01-17T14:12:57.634Z"
   },
   {
    "duration": 5,
    "start_time": "2022-01-17T14:12:58.083Z"
   },
   {
    "duration": 5,
    "start_time": "2022-01-17T14:12:58.091Z"
   },
   {
    "duration": 28,
    "start_time": "2022-01-17T14:12:58.098Z"
   },
   {
    "duration": 3,
    "start_time": "2022-01-17T14:12:58.128Z"
   },
   {
    "duration": 278,
    "start_time": "2022-01-17T14:12:58.133Z"
   },
   {
    "duration": 85,
    "start_time": "2022-01-17T14:12:58.413Z"
   },
   {
    "duration": 26,
    "start_time": "2022-01-17T14:13:01.732Z"
   },
   {
    "duration": 23,
    "start_time": "2022-01-17T14:13:04.012Z"
   },
   {
    "duration": 677,
    "start_time": "2022-01-17T15:12:26.284Z"
   },
   {
    "duration": 10,
    "start_time": "2022-01-17T15:12:26.963Z"
   },
   {
    "duration": 12,
    "start_time": "2022-01-17T15:12:26.975Z"
   },
   {
    "duration": 15,
    "start_time": "2022-01-17T15:12:26.989Z"
   },
   {
    "duration": 13,
    "start_time": "2022-01-17T15:12:27.006Z"
   },
   {
    "duration": 11,
    "start_time": "2022-01-17T15:12:27.020Z"
   },
   {
    "duration": 6,
    "start_time": "2022-01-17T15:12:27.033Z"
   },
   {
    "duration": 5,
    "start_time": "2022-01-17T15:12:27.041Z"
   },
   {
    "duration": 62,
    "start_time": "2022-01-17T15:12:27.048Z"
   },
   {
    "duration": 11,
    "start_time": "2022-01-17T15:12:27.112Z"
   },
   {
    "duration": 12,
    "start_time": "2022-01-17T15:12:27.124Z"
   },
   {
    "duration": 7,
    "start_time": "2022-01-17T15:12:27.139Z"
   },
   {
    "duration": 4,
    "start_time": "2022-01-17T15:12:27.148Z"
   },
   {
    "duration": 5,
    "start_time": "2022-01-17T15:12:27.153Z"
   },
   {
    "duration": 47,
    "start_time": "2022-01-17T15:12:27.160Z"
   },
   {
    "duration": 16,
    "start_time": "2022-01-17T15:12:27.209Z"
   },
   {
    "duration": 17,
    "start_time": "2022-01-17T15:12:27.227Z"
   },
   {
    "duration": 15,
    "start_time": "2022-01-17T15:12:29.334Z"
   },
   {
    "duration": 16,
    "start_time": "2022-01-17T15:12:29.910Z"
   },
   {
    "duration": 16,
    "start_time": "2022-01-17T15:12:39.081Z"
   },
   {
    "duration": 15,
    "start_time": "2022-01-17T15:12:49.249Z"
   },
   {
    "duration": 28,
    "start_time": "2022-01-17T15:13:28.813Z"
   },
   {
    "duration": 28,
    "start_time": "2022-01-17T15:13:54.136Z"
   },
   {
    "duration": 29,
    "start_time": "2022-01-17T15:14:10.835Z"
   },
   {
    "duration": 4,
    "start_time": "2022-01-17T15:15:14.976Z"
   },
   {
    "duration": 320,
    "start_time": "2022-01-17T15:15:18.962Z"
   },
   {
    "duration": 4,
    "start_time": "2022-01-17T15:15:21.954Z"
   },
   {
    "duration": 5,
    "start_time": "2022-01-17T15:15:28.315Z"
   },
   {
    "duration": 24,
    "start_time": "2022-01-17T15:16:02.567Z"
   },
   {
    "duration": 24,
    "start_time": "2022-01-17T15:16:10.808Z"
   },
   {
    "duration": 23,
    "start_time": "2022-01-17T15:16:15.708Z"
   },
   {
    "duration": 506,
    "start_time": "2022-01-17T15:19:19.563Z"
   },
   {
    "duration": 450,
    "start_time": "2022-01-17T15:20:26.722Z"
   },
   {
    "duration": 273,
    "start_time": "2022-01-17T15:21:05.470Z"
   },
   {
    "duration": 308,
    "start_time": "2022-01-17T15:21:10.543Z"
   },
   {
    "duration": 357,
    "start_time": "2022-01-17T15:21:22.633Z"
   },
   {
    "duration": 215,
    "start_time": "2022-01-17T15:22:14.101Z"
   },
   {
    "duration": 309,
    "start_time": "2022-01-17T15:22:15.412Z"
   },
   {
    "duration": 1582,
    "start_time": "2022-01-17T15:22:27.543Z"
   },
   {
    "duration": 1360,
    "start_time": "2022-01-17T15:22:48.280Z"
   },
   {
    "duration": 1230,
    "start_time": "2022-01-17T15:23:07.699Z"
   },
   {
    "duration": 1244,
    "start_time": "2022-01-17T15:23:52.657Z"
   },
   {
    "duration": 514,
    "start_time": "2022-01-17T15:30:08.626Z"
   },
   {
    "duration": 1117,
    "start_time": "2022-01-17T15:30:19.481Z"
   },
   {
    "duration": 1116,
    "start_time": "2022-01-17T15:30:48.782Z"
   },
   {
    "duration": 1099,
    "start_time": "2022-01-17T15:31:11.022Z"
   },
   {
    "duration": 1125,
    "start_time": "2022-01-17T15:32:02.699Z"
   },
   {
    "duration": 1135,
    "start_time": "2022-01-17T15:32:11.582Z"
   },
   {
    "duration": 1079,
    "start_time": "2022-01-17T15:32:20.886Z"
   },
   {
    "duration": 1155,
    "start_time": "2022-01-17T15:32:24.855Z"
   },
   {
    "duration": 1088,
    "start_time": "2022-01-17T15:32:33.727Z"
   },
   {
    "duration": 1201,
    "start_time": "2022-01-17T15:32:40.521Z"
   },
   {
    "duration": 1058,
    "start_time": "2022-01-17T15:32:45.945Z"
   },
   {
    "duration": 1080,
    "start_time": "2022-01-17T15:32:50.929Z"
   },
   {
    "duration": 296,
    "start_time": "2022-01-17T15:32:55.346Z"
   },
   {
    "duration": 264,
    "start_time": "2022-01-17T15:32:58.459Z"
   },
   {
    "duration": 265,
    "start_time": "2022-01-17T15:33:02.211Z"
   },
   {
    "duration": 1211,
    "start_time": "2022-01-17T15:33:05.739Z"
   },
   {
    "duration": 19,
    "start_time": "2022-01-17T15:35:19.371Z"
   },
   {
    "duration": 23,
    "start_time": "2022-01-17T15:35:50.809Z"
   },
   {
    "duration": 16,
    "start_time": "2022-01-17T15:36:14.616Z"
   },
   {
    "duration": 12,
    "start_time": "2022-01-17T15:59:44.935Z"
   },
   {
    "duration": 98,
    "start_time": "2022-01-17T16:01:04.620Z"
   },
   {
    "duration": 13,
    "start_time": "2022-01-17T16:01:07.869Z"
   },
   {
    "duration": 14,
    "start_time": "2022-01-17T16:04:54.462Z"
   },
   {
    "duration": 10,
    "start_time": "2022-01-17T16:05:24.731Z"
   },
   {
    "duration": 16,
    "start_time": "2022-01-17T16:05:28.313Z"
   },
   {
    "duration": 15,
    "start_time": "2022-01-17T16:06:33.225Z"
   },
   {
    "duration": 15,
    "start_time": "2022-01-17T16:07:02.842Z"
   },
   {
    "duration": 17,
    "start_time": "2022-01-17T16:07:33.825Z"
   },
   {
    "duration": 15,
    "start_time": "2022-01-17T16:07:50.984Z"
   },
   {
    "duration": 14,
    "start_time": "2022-01-17T16:08:22.500Z"
   },
   {
    "duration": 12,
    "start_time": "2022-01-17T16:08:39.535Z"
   },
   {
    "duration": 3368,
    "start_time": "2022-01-17T16:08:43.542Z"
   },
   {
    "duration": 3533,
    "start_time": "2022-01-17T16:08:52.744Z"
   },
   {
    "duration": 15,
    "start_time": "2022-01-17T16:09:07.856Z"
   },
   {
    "duration": 15,
    "start_time": "2022-01-17T16:10:17.977Z"
   },
   {
    "duration": 13,
    "start_time": "2022-01-17T16:10:35.841Z"
   },
   {
    "duration": 17,
    "start_time": "2022-01-17T16:11:14.902Z"
   },
   {
    "duration": 18,
    "start_time": "2022-01-17T16:11:30.054Z"
   },
   {
    "duration": 18,
    "start_time": "2022-01-17T16:11:33.808Z"
   },
   {
    "duration": 19,
    "start_time": "2022-01-17T16:11:51.043Z"
   },
   {
    "duration": 19,
    "start_time": "2022-01-17T16:12:02.181Z"
   },
   {
    "duration": 24,
    "start_time": "2022-01-17T17:54:42.235Z"
   },
   {
    "duration": 16,
    "start_time": "2022-01-17T17:55:07.856Z"
   },
   {
    "duration": 18,
    "start_time": "2022-01-17T17:55:27.142Z"
   },
   {
    "duration": 19,
    "start_time": "2022-01-17T18:01:48.222Z"
   },
   {
    "duration": 21,
    "start_time": "2022-01-17T18:02:09.673Z"
   },
   {
    "duration": 1232,
    "start_time": "2022-01-17T18:03:16.168Z"
   },
   {
    "duration": 1019,
    "start_time": "2022-01-17T18:03:40.874Z"
   },
   {
    "duration": 41,
    "start_time": "2022-01-17T18:05:21.620Z"
   },
   {
    "duration": 21,
    "start_time": "2022-01-17T18:06:00.162Z"
   },
   {
    "duration": 21,
    "start_time": "2022-01-17T18:06:10.428Z"
   },
   {
    "duration": 36,
    "start_time": "2022-01-17T18:06:12.907Z"
   },
   {
    "duration": 694,
    "start_time": "2022-01-17T18:06:39.082Z"
   },
   {
    "duration": 10,
    "start_time": "2022-01-17T18:06:39.778Z"
   },
   {
    "duration": 27,
    "start_time": "2022-01-17T18:06:39.791Z"
   },
   {
    "duration": 11,
    "start_time": "2022-01-17T18:06:39.821Z"
   },
   {
    "duration": 33,
    "start_time": "2022-01-17T18:06:39.834Z"
   },
   {
    "duration": 17,
    "start_time": "2022-01-17T18:06:39.868Z"
   },
   {
    "duration": 31,
    "start_time": "2022-01-17T18:06:39.886Z"
   },
   {
    "duration": 18,
    "start_time": "2022-01-17T18:06:39.919Z"
   },
   {
    "duration": 60,
    "start_time": "2022-01-17T18:06:39.938Z"
   },
   {
    "duration": 13,
    "start_time": "2022-01-17T18:06:40.001Z"
   },
   {
    "duration": 21,
    "start_time": "2022-01-17T18:06:40.017Z"
   },
   {
    "duration": 22,
    "start_time": "2022-01-17T18:06:40.040Z"
   },
   {
    "duration": 16,
    "start_time": "2022-01-17T18:06:40.064Z"
   },
   {
    "duration": 18,
    "start_time": "2022-01-17T18:06:40.081Z"
   },
   {
    "duration": 26,
    "start_time": "2022-01-17T18:06:40.101Z"
   },
   {
    "duration": 19,
    "start_time": "2022-01-17T18:06:42.222Z"
   },
   {
    "duration": 24,
    "start_time": "2022-01-17T18:06:43.255Z"
   },
   {
    "duration": 42,
    "start_time": "2022-01-17T18:06:44.007Z"
   },
   {
    "duration": 15,
    "start_time": "2022-01-17T18:06:50.687Z"
   },
   {
    "duration": 1192,
    "start_time": "2022-01-17T18:06:53.312Z"
   },
   {
    "duration": 18,
    "start_time": "2022-01-17T18:06:57.535Z"
   },
   {
    "duration": 38,
    "start_time": "2022-01-17T18:07:02.697Z"
   },
   {
    "duration": 986,
    "start_time": "2022-01-17T18:07:06.090Z"
   },
   {
    "duration": 51,
    "start_time": "2022-01-17T18:08:23.931Z"
   },
   {
    "duration": 24,
    "start_time": "2022-01-17T18:08:47.587Z"
   },
   {
    "duration": 35,
    "start_time": "2022-01-17T18:10:25.990Z"
   },
   {
    "duration": 2,
    "start_time": "2022-01-17T18:10:34.735Z"
   },
   {
    "duration": 19,
    "start_time": "2022-01-17T18:10:36.839Z"
   },
   {
    "duration": 20,
    "start_time": "2022-01-17T18:10:45.705Z"
   },
   {
    "duration": 22,
    "start_time": "2022-01-17T18:11:25.403Z"
   },
   {
    "duration": 689,
    "start_time": "2022-01-17T18:11:38.534Z"
   },
   {
    "duration": 13,
    "start_time": "2022-01-17T18:11:39.225Z"
   },
   {
    "duration": 16,
    "start_time": "2022-01-17T18:11:39.240Z"
   },
   {
    "duration": 41,
    "start_time": "2022-01-17T18:11:39.258Z"
   },
   {
    "duration": 15,
    "start_time": "2022-01-17T18:11:39.301Z"
   },
   {
    "duration": 14,
    "start_time": "2022-01-17T18:11:39.318Z"
   },
   {
    "duration": 8,
    "start_time": "2022-01-17T18:11:39.334Z"
   },
   {
    "duration": 8,
    "start_time": "2022-01-17T18:11:39.345Z"
   },
   {
    "duration": 72,
    "start_time": "2022-01-17T18:11:39.355Z"
   },
   {
    "duration": 12,
    "start_time": "2022-01-17T18:11:39.429Z"
   },
   {
    "duration": 12,
    "start_time": "2022-01-17T18:11:39.443Z"
   },
   {
    "duration": 25,
    "start_time": "2022-01-17T18:11:39.457Z"
   },
   {
    "duration": 16,
    "start_time": "2022-01-17T18:11:39.484Z"
   },
   {
    "duration": 5,
    "start_time": "2022-01-17T18:11:39.502Z"
   },
   {
    "duration": 15,
    "start_time": "2022-01-17T18:11:39.509Z"
   },
   {
    "duration": 16,
    "start_time": "2022-01-17T18:11:41.818Z"
   },
   {
    "duration": 22,
    "start_time": "2022-01-17T18:11:42.842Z"
   },
   {
    "duration": 39,
    "start_time": "2022-01-17T18:11:45.724Z"
   },
   {
    "duration": 28,
    "start_time": "2022-01-17T18:11:59.926Z"
   },
   {
    "duration": 17,
    "start_time": "2022-01-17T18:12:02.750Z"
   },
   {
    "duration": 1281,
    "start_time": "2022-01-17T18:12:07.701Z"
   },
   {
    "duration": 18,
    "start_time": "2022-01-17T18:12:11.581Z"
   },
   {
    "duration": 19,
    "start_time": "2022-01-17T18:12:17.997Z"
   },
   {
    "duration": 36,
    "start_time": "2022-01-17T18:12:42.961Z"
   },
   {
    "duration": 26,
    "start_time": "2022-01-17T18:12:55.402Z"
   },
   {
    "duration": 25,
    "start_time": "2022-01-17T18:13:04.107Z"
   },
   {
    "duration": 692,
    "start_time": "2022-01-17T18:13:20.072Z"
   },
   {
    "duration": 11,
    "start_time": "2022-01-17T18:13:20.766Z"
   },
   {
    "duration": 17,
    "start_time": "2022-01-17T18:13:20.779Z"
   },
   {
    "duration": 11,
    "start_time": "2022-01-17T18:13:20.798Z"
   },
   {
    "duration": 13,
    "start_time": "2022-01-17T18:13:20.810Z"
   },
   {
    "duration": 12,
    "start_time": "2022-01-17T18:13:20.824Z"
   },
   {
    "duration": 16,
    "start_time": "2022-01-17T18:13:20.838Z"
   },
   {
    "duration": 6,
    "start_time": "2022-01-17T18:13:20.856Z"
   },
   {
    "duration": 56,
    "start_time": "2022-01-17T18:13:20.863Z"
   },
   {
    "duration": 10,
    "start_time": "2022-01-17T18:13:20.921Z"
   },
   {
    "duration": 11,
    "start_time": "2022-01-17T18:13:20.932Z"
   },
   {
    "duration": 8,
    "start_time": "2022-01-17T18:13:20.945Z"
   },
   {
    "duration": 5,
    "start_time": "2022-01-17T18:13:20.955Z"
   },
   {
    "duration": 4,
    "start_time": "2022-01-17T18:13:20.962Z"
   },
   {
    "duration": 36,
    "start_time": "2022-01-17T18:13:20.968Z"
   },
   {
    "duration": 16,
    "start_time": "2022-01-17T18:13:21.005Z"
   },
   {
    "duration": 18,
    "start_time": "2022-01-17T18:13:21.023Z"
   },
   {
    "duration": 61,
    "start_time": "2022-01-17T18:13:21.043Z"
   },
   {
    "duration": 15,
    "start_time": "2022-01-17T18:13:21.106Z"
   },
   {
    "duration": 1249,
    "start_time": "2022-01-17T18:13:21.123Z"
   },
   {
    "duration": 2,
    "start_time": "2022-01-17T18:13:22.375Z"
   },
   {
    "duration": 2,
    "start_time": "2022-01-17T18:13:23.413Z"
   },
   {
    "duration": 2,
    "start_time": "2022-01-17T18:13:24.292Z"
   },
   {
    "duration": 2,
    "start_time": "2022-01-17T18:13:25.630Z"
   },
   {
    "duration": 29,
    "start_time": "2022-01-17T18:13:26.894Z"
   },
   {
    "duration": 413,
    "start_time": "2022-01-17T18:13:45.047Z"
   },
   {
    "duration": 27,
    "start_time": "2022-01-17T18:13:56.530Z"
   },
   {
    "duration": 8,
    "start_time": "2022-01-17T18:14:06.050Z"
   },
   {
    "duration": 8,
    "start_time": "2022-01-17T18:14:10.642Z"
   },
   {
    "duration": 612,
    "start_time": "2022-01-17T18:14:34.153Z"
   },
   {
    "duration": 11,
    "start_time": "2022-01-17T18:14:34.766Z"
   },
   {
    "duration": 14,
    "start_time": "2022-01-17T18:14:34.779Z"
   },
   {
    "duration": 11,
    "start_time": "2022-01-17T18:14:34.795Z"
   },
   {
    "duration": 13,
    "start_time": "2022-01-17T18:14:34.808Z"
   },
   {
    "duration": 12,
    "start_time": "2022-01-17T18:14:34.823Z"
   },
   {
    "duration": 7,
    "start_time": "2022-01-17T18:14:34.837Z"
   },
   {
    "duration": 11,
    "start_time": "2022-01-17T18:14:34.846Z"
   },
   {
    "duration": 61,
    "start_time": "2022-01-17T18:14:34.859Z"
   },
   {
    "duration": 11,
    "start_time": "2022-01-17T18:14:34.922Z"
   },
   {
    "duration": 11,
    "start_time": "2022-01-17T18:14:34.935Z"
   },
   {
    "duration": 10,
    "start_time": "2022-01-17T18:14:34.948Z"
   },
   {
    "duration": 3,
    "start_time": "2022-01-17T18:14:34.960Z"
   },
   {
    "duration": 35,
    "start_time": "2022-01-17T18:14:34.964Z"
   },
   {
    "duration": 16,
    "start_time": "2022-01-17T18:14:35.001Z"
   },
   {
    "duration": 17,
    "start_time": "2022-01-17T18:14:35.018Z"
   },
   {
    "duration": 22,
    "start_time": "2022-01-17T18:14:35.037Z"
   },
   {
    "duration": 51,
    "start_time": "2022-01-17T18:14:35.060Z"
   },
   {
    "duration": 15,
    "start_time": "2022-01-17T18:14:35.113Z"
   },
   {
    "duration": 1228,
    "start_time": "2022-01-17T18:14:35.130Z"
   },
   {
    "duration": 2,
    "start_time": "2022-01-17T18:14:36.360Z"
   },
   {
    "duration": 3,
    "start_time": "2022-01-17T18:14:38.941Z"
   },
   {
    "duration": 5,
    "start_time": "2022-01-17T18:14:39.405Z"
   },
   {
    "duration": 1187,
    "start_time": "2022-01-17T18:14:50.975Z"
   },
   {
    "duration": 23,
    "start_time": "2022-01-17T18:15:30.729Z"
   },
   {
    "duration": 5,
    "start_time": "2022-01-17T18:15:58.518Z"
   },
   {
    "duration": 9,
    "start_time": "2022-01-17T18:16:19.014Z"
   },
   {
    "duration": 994,
    "start_time": "2022-01-17T18:16:37.946Z"
   },
   {
    "duration": 20,
    "start_time": "2022-01-17T18:17:14.316Z"
   },
   {
    "duration": 18,
    "start_time": "2022-01-17T18:19:42.077Z"
   },
   {
    "duration": 9,
    "start_time": "2022-01-17T18:19:56.941Z"
   },
   {
    "duration": 1074,
    "start_time": "2022-01-17T18:20:02.134Z"
   },
   {
    "duration": 1109,
    "start_time": "2022-01-17T18:21:16.081Z"
   },
   {
    "duration": 315,
    "start_time": "2022-01-17T19:18:41.794Z"
   },
   {
    "duration": 2,
    "start_time": "2022-01-17T19:18:51.483Z"
   },
   {
    "duration": 3,
    "start_time": "2022-01-17T19:18:52.906Z"
   },
   {
    "duration": 224,
    "start_time": "2022-01-17T19:18:54.538Z"
   },
   {
    "duration": 228,
    "start_time": "2022-01-17T19:19:03.693Z"
   },
   {
    "duration": 1186,
    "start_time": "2022-01-17T19:19:21.135Z"
   },
   {
    "duration": 502,
    "start_time": "2022-01-17T19:22:06.663Z"
   },
   {
    "duration": 491,
    "start_time": "2022-01-17T19:22:34.259Z"
   },
   {
    "duration": 249,
    "start_time": "2022-01-17T19:22:48.564Z"
   },
   {
    "duration": 266,
    "start_time": "2022-01-17T19:23:01.662Z"
   },
   {
    "duration": 239,
    "start_time": "2022-01-17T19:23:19.879Z"
   },
   {
    "duration": 241,
    "start_time": "2022-01-17T19:23:42.994Z"
   },
   {
    "duration": 240,
    "start_time": "2022-01-17T19:23:48.075Z"
   },
   {
    "duration": 689,
    "start_time": "2022-01-17T19:23:55.871Z"
   },
   {
    "duration": 12,
    "start_time": "2022-01-17T19:23:56.563Z"
   },
   {
    "duration": 15,
    "start_time": "2022-01-17T19:23:56.577Z"
   },
   {
    "duration": 12,
    "start_time": "2022-01-17T19:23:56.598Z"
   },
   {
    "duration": 13,
    "start_time": "2022-01-17T19:23:56.611Z"
   },
   {
    "duration": 12,
    "start_time": "2022-01-17T19:23:56.626Z"
   },
   {
    "duration": 13,
    "start_time": "2022-01-17T19:23:56.640Z"
   },
   {
    "duration": 6,
    "start_time": "2022-01-17T19:23:56.656Z"
   },
   {
    "duration": 66,
    "start_time": "2022-01-17T19:23:56.664Z"
   },
   {
    "duration": 11,
    "start_time": "2022-01-17T19:23:56.732Z"
   },
   {
    "duration": 11,
    "start_time": "2022-01-17T19:23:56.745Z"
   },
   {
    "duration": 10,
    "start_time": "2022-01-17T19:23:56.758Z"
   },
   {
    "duration": 30,
    "start_time": "2022-01-17T19:23:56.770Z"
   },
   {
    "duration": 5,
    "start_time": "2022-01-17T19:23:56.802Z"
   },
   {
    "duration": 13,
    "start_time": "2022-01-17T19:23:56.808Z"
   },
   {
    "duration": 15,
    "start_time": "2022-01-17T19:23:56.823Z"
   },
   {
    "duration": 17,
    "start_time": "2022-01-17T19:23:56.840Z"
   },
   {
    "duration": 53,
    "start_time": "2022-01-17T19:23:56.859Z"
   },
   {
    "duration": 15,
    "start_time": "2022-01-17T19:23:56.914Z"
   },
   {
    "duration": 1175,
    "start_time": "2022-01-17T19:23:56.931Z"
   },
   {
    "duration": 20,
    "start_time": "2022-01-17T19:23:58.108Z"
   },
   {
    "duration": 1177,
    "start_time": "2022-01-17T19:23:58.130Z"
   },
   {
    "duration": 3,
    "start_time": "2022-01-17T19:23:59.311Z"
   },
   {
    "duration": 227,
    "start_time": "2022-01-17T19:24:01.339Z"
   },
   {
    "duration": 247,
    "start_time": "2022-01-17T19:24:21.637Z"
   },
   {
    "duration": 251,
    "start_time": "2022-01-17T19:24:29.664Z"
   },
   {
    "duration": 227,
    "start_time": "2022-01-17T19:26:47.855Z"
   },
   {
    "duration": 617,
    "start_time": "2022-01-17T19:27:08.054Z"
   },
   {
    "duration": 11,
    "start_time": "2022-01-17T19:27:08.673Z"
   },
   {
    "duration": 20,
    "start_time": "2022-01-17T19:27:08.686Z"
   },
   {
    "duration": 11,
    "start_time": "2022-01-17T19:27:08.708Z"
   },
   {
    "duration": 13,
    "start_time": "2022-01-17T19:27:08.720Z"
   },
   {
    "duration": 12,
    "start_time": "2022-01-17T19:27:08.734Z"
   },
   {
    "duration": 10,
    "start_time": "2022-01-17T19:27:08.747Z"
   },
   {
    "duration": 5,
    "start_time": "2022-01-17T19:27:08.759Z"
   },
   {
    "duration": 59,
    "start_time": "2022-01-17T19:27:08.766Z"
   },
   {
    "duration": 11,
    "start_time": "2022-01-17T19:27:08.826Z"
   },
   {
    "duration": 12,
    "start_time": "2022-01-17T19:27:08.838Z"
   },
   {
    "duration": 7,
    "start_time": "2022-01-17T19:27:08.851Z"
   },
   {
    "duration": 3,
    "start_time": "2022-01-17T19:27:08.860Z"
   },
   {
    "duration": 35,
    "start_time": "2022-01-17T19:27:08.864Z"
   },
   {
    "duration": 13,
    "start_time": "2022-01-17T19:27:08.901Z"
   },
   {
    "duration": 14,
    "start_time": "2022-01-17T19:27:08.916Z"
   },
   {
    "duration": 15,
    "start_time": "2022-01-17T19:27:08.932Z"
   },
   {
    "duration": 53,
    "start_time": "2022-01-17T19:27:08.948Z"
   },
   {
    "duration": 28,
    "start_time": "2022-01-17T19:27:11.272Z"
   },
   {
    "duration": 15,
    "start_time": "2022-01-17T19:27:13.806Z"
   },
   {
    "duration": 1270,
    "start_time": "2022-01-17T19:27:20.359Z"
   },
   {
    "duration": 19,
    "start_time": "2022-01-17T19:27:23.145Z"
   },
   {
    "duration": 1109,
    "start_time": "2022-01-17T19:27:26.010Z"
   },
   {
    "duration": 3,
    "start_time": "2022-01-17T19:27:29.520Z"
   },
   {
    "duration": 238,
    "start_time": "2022-01-17T19:27:32.402Z"
   },
   {
    "duration": 4,
    "start_time": "2022-01-17T19:27:37.921Z"
   },
   {
    "duration": 58,
    "start_time": "2022-01-17T19:27:43.172Z"
   },
   {
    "duration": 11,
    "start_time": "2022-01-17T19:27:43.231Z"
   },
   {
    "duration": 14,
    "start_time": "2022-01-17T19:27:43.244Z"
   },
   {
    "duration": 38,
    "start_time": "2022-01-17T19:27:43.260Z"
   },
   {
    "duration": 13,
    "start_time": "2022-01-17T19:27:43.300Z"
   },
   {
    "duration": 13,
    "start_time": "2022-01-17T19:27:43.314Z"
   },
   {
    "duration": 7,
    "start_time": "2022-01-17T19:27:43.328Z"
   },
   {
    "duration": 6,
    "start_time": "2022-01-17T19:27:43.336Z"
   },
   {
    "duration": 67,
    "start_time": "2022-01-17T19:27:43.344Z"
   },
   {
    "duration": 11,
    "start_time": "2022-01-17T19:27:43.413Z"
   },
   {
    "duration": 12,
    "start_time": "2022-01-17T19:27:43.426Z"
   },
   {
    "duration": 12,
    "start_time": "2022-01-17T19:27:43.439Z"
   },
   {
    "duration": 5,
    "start_time": "2022-01-17T19:27:43.452Z"
   },
   {
    "duration": 6,
    "start_time": "2022-01-17T19:27:43.459Z"
   },
   {
    "duration": 39,
    "start_time": "2022-01-17T19:27:43.466Z"
   },
   {
    "duration": 16,
    "start_time": "2022-01-17T19:27:43.506Z"
   },
   {
    "duration": 17,
    "start_time": "2022-01-17T19:27:43.523Z"
   },
   {
    "duration": 28,
    "start_time": "2022-01-17T19:27:43.541Z"
   },
   {
    "duration": 42,
    "start_time": "2022-01-17T19:27:43.570Z"
   },
   {
    "duration": 1097,
    "start_time": "2022-01-17T19:27:43.614Z"
   },
   {
    "duration": 19,
    "start_time": "2022-01-17T19:27:44.713Z"
   },
   {
    "duration": 1186,
    "start_time": "2022-01-17T19:27:44.734Z"
   },
   {
    "duration": 3,
    "start_time": "2022-01-17T19:27:45.922Z"
   },
   {
    "duration": 2,
    "start_time": "2022-01-17T19:27:47.171Z"
   },
   {
    "duration": 4,
    "start_time": "2022-01-17T19:27:47.578Z"
   },
   {
    "duration": 5,
    "start_time": "2022-01-17T19:28:06.455Z"
   },
   {
    "duration": 1109,
    "start_time": "2022-01-17T19:28:07.206Z"
   },
   {
    "duration": 4,
    "start_time": "2022-01-17T19:28:24.863Z"
   },
   {
    "duration": 4,
    "start_time": "2022-01-17T19:28:34.406Z"
   },
   {
    "duration": 4,
    "start_time": "2022-01-17T19:28:35.719Z"
   },
   {
    "duration": 8,
    "start_time": "2022-01-17T19:28:41.993Z"
   },
   {
    "duration": 60,
    "start_time": "2022-01-17T19:28:47.715Z"
   },
   {
    "duration": 10,
    "start_time": "2022-01-17T19:28:47.777Z"
   },
   {
    "duration": 19,
    "start_time": "2022-01-17T19:28:47.789Z"
   },
   {
    "duration": 11,
    "start_time": "2022-01-17T19:28:47.810Z"
   },
   {
    "duration": 13,
    "start_time": "2022-01-17T19:28:47.822Z"
   },
   {
    "duration": 13,
    "start_time": "2022-01-17T19:28:47.836Z"
   },
   {
    "duration": 7,
    "start_time": "2022-01-17T19:28:47.850Z"
   },
   {
    "duration": 39,
    "start_time": "2022-01-17T19:28:47.860Z"
   },
   {
    "duration": 32,
    "start_time": "2022-01-17T19:28:47.902Z"
   },
   {
    "duration": 10,
    "start_time": "2022-01-17T19:28:47.935Z"
   },
   {
    "duration": 13,
    "start_time": "2022-01-17T19:28:47.947Z"
   },
   {
    "duration": 7,
    "start_time": "2022-01-17T19:28:47.961Z"
   },
   {
    "duration": 4,
    "start_time": "2022-01-17T19:28:47.999Z"
   },
   {
    "duration": 7,
    "start_time": "2022-01-17T19:28:48.004Z"
   },
   {
    "duration": 14,
    "start_time": "2022-01-17T19:28:48.012Z"
   },
   {
    "duration": 16,
    "start_time": "2022-01-17T19:28:48.027Z"
   },
   {
    "duration": 16,
    "start_time": "2022-01-17T19:28:48.044Z"
   },
   {
    "duration": 57,
    "start_time": "2022-01-17T19:28:48.062Z"
   },
   {
    "duration": 14,
    "start_time": "2022-01-17T19:28:48.121Z"
   },
   {
    "duration": 1208,
    "start_time": "2022-01-17T19:28:48.136Z"
   },
   {
    "duration": 17,
    "start_time": "2022-01-17T19:28:49.346Z"
   },
   {
    "duration": 1120,
    "start_time": "2022-01-17T19:28:49.365Z"
   },
   {
    "duration": 3,
    "start_time": "2022-01-17T19:28:50.488Z"
   },
   {
    "duration": 3,
    "start_time": "2022-01-17T19:28:51.233Z"
   },
   {
    "duration": 8,
    "start_time": "2022-01-17T19:28:52.010Z"
   },
   {
    "duration": 19,
    "start_time": "2022-01-17T19:29:05.403Z"
   },
   {
    "duration": 7,
    "start_time": "2022-01-17T19:29:19.348Z"
   },
   {
    "duration": 7,
    "start_time": "2022-01-17T19:29:35.176Z"
   },
   {
    "duration": 10,
    "start_time": "2022-01-17T19:29:47.174Z"
   },
   {
    "duration": 12,
    "start_time": "2022-01-17T19:30:03.097Z"
   },
   {
    "duration": 1181,
    "start_time": "2022-01-17T20:05:41.430Z"
   },
   {
    "duration": 4,
    "start_time": "2022-01-17T20:08:59.914Z"
   },
   {
    "duration": 263,
    "start_time": "2022-01-17T20:09:01.482Z"
   },
   {
    "duration": 1304,
    "start_time": "2022-01-17T20:09:06.883Z"
   },
   {
    "duration": 1119,
    "start_time": "2022-01-17T20:29:57.267Z"
   },
   {
    "duration": 1211,
    "start_time": "2022-01-17T20:30:02.553Z"
   },
   {
    "duration": 1143,
    "start_time": "2022-01-17T20:30:08.396Z"
   },
   {
    "duration": 3,
    "start_time": "2022-01-17T20:31:35.709Z"
   },
   {
    "duration": 220,
    "start_time": "2022-01-17T20:31:36.589Z"
   },
   {
    "duration": 1207,
    "start_time": "2022-01-17T20:31:37.765Z"
   },
   {
    "duration": 555,
    "start_time": "2022-01-17T20:32:09.064Z"
   },
   {
    "duration": 229,
    "start_time": "2022-01-17T20:32:12.832Z"
   },
   {
    "duration": 1185,
    "start_time": "2022-01-17T20:32:13.594Z"
   },
   {
    "duration": 1182,
    "start_time": "2022-01-17T20:37:26.451Z"
   },
   {
    "duration": 345,
    "start_time": "2022-01-17T20:37:39.034Z"
   },
   {
    "duration": 380,
    "start_time": "2022-01-17T20:37:52.884Z"
   },
   {
    "duration": 342,
    "start_time": "2022-01-17T20:37:58.862Z"
   },
   {
    "duration": 348,
    "start_time": "2022-01-17T20:38:05.471Z"
   },
   {
    "duration": 324,
    "start_time": "2022-01-17T20:38:16.551Z"
   },
   {
    "duration": 480,
    "start_time": "2022-01-17T20:39:09.278Z"
   },
   {
    "duration": 397,
    "start_time": "2022-01-17T20:39:19.687Z"
   },
   {
    "duration": 325,
    "start_time": "2022-01-17T20:40:26.847Z"
   },
   {
    "duration": 329,
    "start_time": "2022-01-17T20:40:42.048Z"
   },
   {
    "duration": 429,
    "start_time": "2022-01-17T20:42:32.663Z"
   },
   {
    "duration": 654,
    "start_time": "2022-01-17T21:55:12.974Z"
   },
   {
    "duration": 13,
    "start_time": "2022-01-17T21:55:22.124Z"
   },
   {
    "duration": 16,
    "start_time": "2022-01-17T21:55:30.169Z"
   },
   {
    "duration": 12,
    "start_time": "2022-01-17T21:58:27.348Z"
   },
   {
    "duration": 12,
    "start_time": "2022-01-17T21:58:31.676Z"
   },
   {
    "duration": 13,
    "start_time": "2022-01-17T21:58:37.325Z"
   },
   {
    "duration": 7,
    "start_time": "2022-01-17T21:58:50.128Z"
   },
   {
    "duration": 6,
    "start_time": "2022-01-17T21:58:54.720Z"
   },
   {
    "duration": 34,
    "start_time": "2022-01-17T21:59:00.561Z"
   },
   {
    "duration": 11,
    "start_time": "2022-01-17T21:59:03.962Z"
   },
   {
    "duration": 12,
    "start_time": "2022-01-17T21:59:17.474Z"
   },
   {
    "duration": 7,
    "start_time": "2022-01-17T21:59:32.380Z"
   },
   {
    "duration": 1185,
    "start_time": "2022-01-17T21:59:39.587Z"
   },
   {
    "duration": 3,
    "start_time": "2022-01-17T22:01:42.416Z"
   },
   {
    "duration": 225,
    "start_time": "2022-01-17T22:01:43.201Z"
   },
   {
    "duration": 1084,
    "start_time": "2022-01-17T22:01:45.634Z"
   },
   {
    "duration": 339,
    "start_time": "2022-01-17T22:02:04.539Z"
   },
   {
    "duration": 4,
    "start_time": "2022-01-17T22:02:21.397Z"
   },
   {
    "duration": 4,
    "start_time": "2022-01-17T22:02:22.532Z"
   },
   {
    "duration": 13,
    "start_time": "2022-01-17T22:02:22.997Z"
   },
   {
    "duration": 16,
    "start_time": "2022-01-17T22:02:28.213Z"
   },
   {
    "duration": 16,
    "start_time": "2022-01-17T22:02:29.503Z"
   },
   {
    "duration": 30,
    "start_time": "2022-01-17T22:02:30.429Z"
   },
   {
    "duration": 4,
    "start_time": "2022-01-17T22:02:34.462Z"
   },
   {
    "duration": 2,
    "start_time": "2022-01-17T22:02:34.831Z"
   },
   {
    "duration": 3305,
    "start_time": "2022-01-17T22:02:36.622Z"
   },
   {
    "duration": 12,
    "start_time": "2022-01-17T22:02:49.416Z"
   },
   {
    "duration": 4,
    "start_time": "2022-01-17T22:03:19.050Z"
   },
   {
    "duration": 23,
    "start_time": "2022-01-17T22:03:20.883Z"
   },
   {
    "duration": 365,
    "start_time": "2022-01-17T22:03:29.932Z"
   },
   {
    "duration": 6,
    "start_time": "2022-01-17T22:03:39.238Z"
   },
   {
    "duration": 4,
    "start_time": "2022-01-17T22:03:50.270Z"
   },
   {
    "duration": 25,
    "start_time": "2022-01-17T22:04:19.311Z"
   },
   {
    "duration": 3,
    "start_time": "2022-01-17T22:06:53.050Z"
   },
   {
    "duration": 243,
    "start_time": "2022-01-17T22:06:54.091Z"
   },
   {
    "duration": 26,
    "start_time": "2022-01-17T22:07:15.533Z"
   },
   {
    "duration": 28,
    "start_time": "2022-01-17T22:07:26.670Z"
   },
   {
    "duration": 21,
    "start_time": "2022-01-17T22:20:49.444Z"
   },
   {
    "duration": 377,
    "start_time": "2022-01-17T22:21:01.430Z"
   },
   {
    "duration": 20,
    "start_time": "2022-01-17T22:21:43.016Z"
   },
   {
    "duration": 22,
    "start_time": "2022-01-17T22:21:56.082Z"
   },
   {
    "duration": 12,
    "start_time": "2022-01-17T22:22:43.393Z"
   },
   {
    "duration": 15,
    "start_time": "2022-01-17T22:24:45.515Z"
   },
   {
    "duration": 26,
    "start_time": "2022-01-17T22:25:46.115Z"
   },
   {
    "duration": 25,
    "start_time": "2022-01-17T22:28:04.133Z"
   },
   {
    "duration": 13,
    "start_time": "2022-01-17T22:30:03.299Z"
   },
   {
    "duration": 7,
    "start_time": "2022-01-17T22:30:31.578Z"
   },
   {
    "duration": 13,
    "start_time": "2022-01-17T22:30:35.082Z"
   },
   {
    "duration": 12,
    "start_time": "2022-01-17T22:30:44.044Z"
   },
   {
    "duration": 655,
    "start_time": "2022-01-17T23:18:54.867Z"
   },
   {
    "duration": 12,
    "start_time": "2022-01-17T23:19:02.291Z"
   },
   {
    "duration": 15,
    "start_time": "2022-01-17T23:20:44.044Z"
   },
   {
    "duration": 12,
    "start_time": "2022-01-17T23:21:13.419Z"
   },
   {
    "duration": 14,
    "start_time": "2022-01-17T23:21:20.665Z"
   },
   {
    "duration": 14,
    "start_time": "2022-01-17T23:21:24.147Z"
   },
   {
    "duration": 7,
    "start_time": "2022-01-17T23:21:35.946Z"
   },
   {
    "duration": 7,
    "start_time": "2022-01-17T23:21:42.076Z"
   },
   {
    "duration": 33,
    "start_time": "2022-01-17T23:21:44.483Z"
   },
   {
    "duration": 8,
    "start_time": "2022-01-17T23:25:24.161Z"
   },
   {
    "duration": 6,
    "start_time": "2022-01-17T23:25:25.147Z"
   },
   {
    "duration": 32,
    "start_time": "2022-01-17T23:25:26.060Z"
   },
   {
    "duration": 11,
    "start_time": "2022-01-17T23:25:27.988Z"
   },
   {
    "duration": 12,
    "start_time": "2022-01-17T23:25:28.590Z"
   },
   {
    "duration": 12,
    "start_time": "2022-01-17T23:26:06.739Z"
   },
   {
    "duration": 671,
    "start_time": "2022-01-17T23:26:16.878Z"
   },
   {
    "duration": 12,
    "start_time": "2022-01-17T23:26:17.978Z"
   },
   {
    "duration": 14,
    "start_time": "2022-01-17T23:26:18.995Z"
   },
   {
    "duration": 18,
    "start_time": "2022-01-17T23:26:20.162Z"
   },
   {
    "duration": 16,
    "start_time": "2022-01-17T23:26:20.556Z"
   },
   {
    "duration": 16,
    "start_time": "2022-01-17T23:26:21.003Z"
   },
   {
    "duration": 8,
    "start_time": "2022-01-17T23:26:21.463Z"
   },
   {
    "duration": 7,
    "start_time": "2022-01-17T23:26:22.229Z"
   },
   {
    "duration": 37,
    "start_time": "2022-01-17T23:26:22.706Z"
   },
   {
    "duration": 11,
    "start_time": "2022-01-17T23:26:23.378Z"
   },
   {
    "duration": 15,
    "start_time": "2022-01-17T23:26:23.861Z"
   },
   {
    "duration": 7,
    "start_time": "2022-01-17T23:26:31.660Z"
   },
   {
    "duration": 8,
    "start_time": "2022-01-17T23:27:05.667Z"
   },
   {
    "duration": 8,
    "start_time": "2022-01-17T23:27:12.890Z"
   },
   {
    "duration": 678,
    "start_time": "2022-01-17T23:28:24.275Z"
   },
   {
    "duration": 11,
    "start_time": "2022-01-17T23:28:24.955Z"
   },
   {
    "duration": 15,
    "start_time": "2022-01-17T23:28:27.148Z"
   },
   {
    "duration": 11,
    "start_time": "2022-01-17T23:28:28.317Z"
   },
   {
    "duration": 14,
    "start_time": "2022-01-17T23:28:28.709Z"
   },
   {
    "duration": 13,
    "start_time": "2022-01-17T23:28:29.145Z"
   },
   {
    "duration": 7,
    "start_time": "2022-01-17T23:28:29.566Z"
   },
   {
    "duration": 6,
    "start_time": "2022-01-17T23:28:30.094Z"
   },
   {
    "duration": 33,
    "start_time": "2022-01-17T23:28:30.567Z"
   },
   {
    "duration": 11,
    "start_time": "2022-01-17T23:28:31.055Z"
   },
   {
    "duration": 12,
    "start_time": "2022-01-17T23:28:31.391Z"
   },
   {
    "duration": 8,
    "start_time": "2022-01-17T23:28:32.616Z"
   },
   {
    "duration": 1200,
    "start_time": "2022-01-17T23:28:36.607Z"
   },
   {
    "duration": 3,
    "start_time": "2022-01-17T23:29:22.419Z"
   },
   {
    "duration": 229,
    "start_time": "2022-01-17T23:29:26.517Z"
   },
   {
    "duration": 1116,
    "start_time": "2022-01-17T23:29:27.893Z"
   },
   {
    "duration": 379,
    "start_time": "2022-01-17T23:29:32.485Z"
   },
   {
    "duration": 3,
    "start_time": "2022-01-17T23:29:35.293Z"
   },
   {
    "duration": 4,
    "start_time": "2022-01-17T23:29:38.652Z"
   },
   {
    "duration": 12,
    "start_time": "2022-01-17T23:29:39.957Z"
   },
   {
    "duration": 15,
    "start_time": "2022-01-17T23:29:50.353Z"
   },
   {
    "duration": 16,
    "start_time": "2022-01-17T23:29:51.911Z"
   },
   {
    "duration": 30,
    "start_time": "2022-01-17T23:30:02.912Z"
   },
   {
    "duration": 4,
    "start_time": "2022-01-17T23:30:05.384Z"
   },
   {
    "duration": 2,
    "start_time": "2022-01-17T23:30:05.777Z"
   },
   {
    "duration": 3274,
    "start_time": "2022-01-17T23:30:22.658Z"
   },
   {
    "duration": 10,
    "start_time": "2022-01-17T23:30:25.934Z"
   },
   {
    "duration": 4,
    "start_time": "2022-01-17T23:30:57.533Z"
   },
   {
    "duration": 21,
    "start_time": "2022-01-17T23:32:59.306Z"
   },
   {
    "duration": 339,
    "start_time": "2022-01-17T23:34:51.161Z"
   },
   {
    "duration": 5,
    "start_time": "2022-01-17T23:34:52.494Z"
   },
   {
    "duration": 4,
    "start_time": "2022-01-17T23:34:58.080Z"
   },
   {
    "duration": 24,
    "start_time": "2022-01-17T23:35:00.288Z"
   },
   {
    "duration": 4,
    "start_time": "2022-01-17T23:35:09.032Z"
   },
   {
    "duration": 240,
    "start_time": "2022-01-17T23:35:09.746Z"
   },
   {
    "duration": 28,
    "start_time": "2022-01-17T23:35:10.218Z"
   },
   {
    "duration": 23,
    "start_time": "2022-01-17T23:35:18.377Z"
   },
   {
    "duration": 605,
    "start_time": "2022-01-21T08:01:40.450Z"
   },
   {
    "duration": 11,
    "start_time": "2022-01-21T08:01:41.058Z"
   },
   {
    "duration": 18,
    "start_time": "2022-01-21T08:01:41.071Z"
   },
   {
    "duration": 14,
    "start_time": "2022-01-21T08:01:41.097Z"
   },
   {
    "duration": 15,
    "start_time": "2022-01-21T08:01:41.113Z"
   },
   {
    "duration": 14,
    "start_time": "2022-01-21T08:01:41.130Z"
   },
   {
    "duration": 9,
    "start_time": "2022-01-21T08:01:41.146Z"
   },
   {
    "duration": 43,
    "start_time": "2022-01-21T08:01:41.159Z"
   },
   {
    "duration": 32,
    "start_time": "2022-01-21T08:01:41.204Z"
   },
   {
    "duration": 11,
    "start_time": "2022-01-21T08:01:41.237Z"
   },
   {
    "duration": 11,
    "start_time": "2022-01-21T08:01:41.250Z"
   },
   {
    "duration": 42,
    "start_time": "2022-01-21T08:01:41.262Z"
   },
   {
    "duration": 1228,
    "start_time": "2022-01-21T08:01:41.306Z"
   },
   {
    "duration": 3,
    "start_time": "2022-01-21T08:01:42.536Z"
   },
   {
    "duration": 226,
    "start_time": "2022-01-21T08:01:42.540Z"
   },
   {
    "duration": 1150,
    "start_time": "2022-01-21T08:01:42.768Z"
   },
   {
    "duration": 369,
    "start_time": "2022-01-21T08:01:43.920Z"
   },
   {
    "duration": 6,
    "start_time": "2022-01-21T08:01:44.291Z"
   },
   {
    "duration": 9,
    "start_time": "2022-01-21T08:01:44.299Z"
   },
   {
    "duration": 14,
    "start_time": "2022-01-21T08:01:44.310Z"
   },
   {
    "duration": 15,
    "start_time": "2022-01-21T08:01:44.325Z"
   },
   {
    "duration": 20,
    "start_time": "2022-01-21T08:01:44.342Z"
   },
   {
    "duration": 54,
    "start_time": "2022-01-21T08:01:44.366Z"
   },
   {
    "duration": 4,
    "start_time": "2022-01-21T08:01:44.423Z"
   },
   {
    "duration": 8,
    "start_time": "2022-01-21T08:01:44.429Z"
   },
   {
    "duration": 3337,
    "start_time": "2022-01-21T08:01:44.439Z"
   },
   {
    "duration": 22,
    "start_time": "2022-01-21T08:01:47.778Z"
   },
   {
    "duration": 6,
    "start_time": "2022-01-21T08:01:47.801Z"
   },
   {
    "duration": 92,
    "start_time": "2022-01-21T08:01:47.809Z"
   },
   {
    "duration": 549,
    "start_time": "2022-01-21T08:01:47.902Z"
   },
   {
    "duration": 5,
    "start_time": "2022-01-21T08:01:48.452Z"
   },
   {
    "duration": 10,
    "start_time": "2022-01-21T08:01:48.459Z"
   },
   {
    "duration": 34,
    "start_time": "2022-01-21T08:01:48.471Z"
   },
   {
    "duration": 4,
    "start_time": "2022-01-21T08:01:48.506Z"
   },
   {
    "duration": 245,
    "start_time": "2022-01-21T08:01:48.511Z"
   },
   {
    "duration": 27,
    "start_time": "2022-01-21T08:01:48.757Z"
   },
   {
    "duration": 23,
    "start_time": "2022-01-21T08:01:48.797Z"
   },
   {
    "duration": 8,
    "start_time": "2022-01-21T08:08:30.481Z"
   },
   {
    "duration": 1628,
    "start_time": "2022-01-22T11:59:06.503Z"
   },
   {
    "duration": 848,
    "start_time": "2022-01-22T11:59:33.562Z"
   },
   {
    "duration": 17,
    "start_time": "2022-01-22T11:59:34.412Z"
   },
   {
    "duration": 19,
    "start_time": "2022-01-22T11:59:35.718Z"
   },
   {
    "duration": 15,
    "start_time": "2022-01-22T11:59:37.238Z"
   },
   {
    "duration": 20,
    "start_time": "2022-01-22T11:59:37.686Z"
   },
   {
    "duration": 20,
    "start_time": "2022-01-22T11:59:38.416Z"
   },
   {
    "duration": 11,
    "start_time": "2022-01-22T11:59:38.927Z"
   },
   {
    "duration": 9,
    "start_time": "2022-01-22T11:59:39.470Z"
   },
   {
    "duration": 57,
    "start_time": "2022-01-22T11:59:40.886Z"
   },
   {
    "duration": 15,
    "start_time": "2022-01-22T11:59:41.678Z"
   },
   {
    "duration": 19,
    "start_time": "2022-01-22T11:59:42.031Z"
   },
   {
    "duration": 12,
    "start_time": "2022-01-22T11:59:43.207Z"
   },
   {
    "duration": 1797,
    "start_time": "2022-01-22T11:59:45.326Z"
   },
   {
    "duration": 4,
    "start_time": "2022-01-22T11:59:47.126Z"
   },
   {
    "duration": 392,
    "start_time": "2022-01-22T11:59:47.223Z"
   },
   {
    "duration": 1722,
    "start_time": "2022-01-22T12:00:18.210Z"
   },
   {
    "duration": 898,
    "start_time": "2022-01-22T12:00:44.544Z"
   },
   {
    "duration": 20,
    "start_time": "2022-01-22T12:00:45.445Z"
   },
   {
    "duration": 21,
    "start_time": "2022-01-22T12:00:45.469Z"
   },
   {
    "duration": 19,
    "start_time": "2022-01-22T12:00:47.072Z"
   },
   {
    "duration": 22,
    "start_time": "2022-01-22T12:00:47.811Z"
   },
   {
    "duration": 20,
    "start_time": "2022-01-22T12:00:48.732Z"
   },
   {
    "duration": 11,
    "start_time": "2022-01-22T12:00:49.283Z"
   },
   {
    "duration": 9,
    "start_time": "2022-01-22T12:00:49.828Z"
   },
   {
    "duration": 52,
    "start_time": "2022-01-22T12:00:50.772Z"
   },
   {
    "duration": 16,
    "start_time": "2022-01-22T12:00:51.604Z"
   },
   {
    "duration": 18,
    "start_time": "2022-01-22T12:00:52.252Z"
   },
   {
    "duration": 12,
    "start_time": "2022-01-22T12:00:53.860Z"
   },
   {
    "duration": 1771,
    "start_time": "2022-01-22T12:00:54.988Z"
   },
   {
    "duration": 4,
    "start_time": "2022-01-22T12:01:02.149Z"
   },
   {
    "duration": 386,
    "start_time": "2022-01-22T12:01:02.446Z"
   },
   {
    "duration": 1639,
    "start_time": "2022-01-22T12:01:02.943Z"
   },
   {
    "duration": 744,
    "start_time": "2022-01-22T12:01:51.533Z"
   },
   {
    "duration": 7,
    "start_time": "2022-01-22T12:01:54.196Z"
   },
   {
    "duration": 7,
    "start_time": "2022-01-22T12:01:55.404Z"
   },
   {
    "duration": 25,
    "start_time": "2022-01-22T12:01:55.635Z"
   },
   {
    "duration": 26,
    "start_time": "2022-01-22T12:01:56.676Z"
   },
   {
    "duration": 24,
    "start_time": "2022-01-22T12:01:57.083Z"
   },
   {
    "duration": 53,
    "start_time": "2022-01-22T12:01:57.476Z"
   },
   {
    "duration": 11,
    "start_time": "2022-01-22T12:01:58.684Z"
   },
   {
    "duration": 4,
    "start_time": "2022-01-22T12:01:58.932Z"
   },
   {
    "duration": 6115,
    "start_time": "2022-01-22T12:01:59.453Z"
   },
   {
    "duration": 20,
    "start_time": "2022-01-22T12:02:05.572Z"
   },
   {
    "duration": 6,
    "start_time": "2022-01-22T12:02:05.596Z"
   },
   {
    "duration": 76,
    "start_time": "2022-01-22T12:02:05.605Z"
   },
   {
    "duration": 38,
    "start_time": "2022-01-22T12:02:59.115Z"
   },
   {
    "duration": 23,
    "start_time": "2022-01-22T12:05:11.307Z"
   },
   {
    "duration": 33,
    "start_time": "2022-01-22T12:05:18.514Z"
   },
   {
    "duration": 32,
    "start_time": "2022-01-22T12:05:37.062Z"
   },
   {
    "duration": 30,
    "start_time": "2022-01-22T12:06:39.508Z"
   },
   {
    "duration": 34,
    "start_time": "2022-01-22T12:06:48.012Z"
   },
   {
    "duration": 677,
    "start_time": "2022-01-22T12:09:47.022Z"
   },
   {
    "duration": 35,
    "start_time": "2022-01-22T12:10:44.460Z"
   },
   {
    "duration": 6,
    "start_time": "2022-01-22T12:10:46.436Z"
   },
   {
    "duration": 5,
    "start_time": "2022-01-22T12:10:48.804Z"
   },
   {
    "duration": 33,
    "start_time": "2022-01-22T12:17:04.188Z"
   },
   {
    "duration": 41,
    "start_time": "2022-01-22T12:17:53.825Z"
   },
   {
    "duration": 35,
    "start_time": "2022-01-22T12:18:10.123Z"
   },
   {
    "duration": 5,
    "start_time": "2022-01-22T12:18:34.206Z"
   },
   {
    "duration": 392,
    "start_time": "2022-01-22T12:18:36.791Z"
   },
   {
    "duration": 37,
    "start_time": "2022-01-22T12:19:12.970Z"
   },
   {
    "duration": 33,
    "start_time": "2022-01-22T12:19:56.831Z"
   },
   {
    "duration": 34,
    "start_time": "2022-01-22T12:20:06.288Z"
   },
   {
    "duration": 33,
    "start_time": "2022-01-22T12:20:17.043Z"
   },
   {
    "duration": 35,
    "start_time": "2022-01-22T12:21:09.552Z"
   },
   {
    "duration": 43,
    "start_time": "2022-01-22T12:43:22.005Z"
   },
   {
    "duration": 49,
    "start_time": "2022-01-22T12:45:50.124Z"
   },
   {
    "duration": 50,
    "start_time": "2022-01-22T12:47:49.688Z"
   },
   {
    "duration": 48,
    "start_time": "2022-01-22T12:54:11.801Z"
   },
   {
    "duration": 9,
    "start_time": "2022-01-22T12:54:42.524Z"
   },
   {
    "duration": 13,
    "start_time": "2022-01-22T12:55:39.056Z"
   },
   {
    "duration": 31,
    "start_time": "2022-01-22T12:55:44.186Z"
   },
   {
    "duration": 6,
    "start_time": "2022-01-22T12:56:16.581Z"
   },
   {
    "duration": 6,
    "start_time": "2022-01-22T12:56:19.677Z"
   },
   {
    "duration": 16,
    "start_time": "2022-01-22T12:56:44.487Z"
   },
   {
    "duration": 14,
    "start_time": "2022-01-22T12:56:56.369Z"
   },
   {
    "duration": 35,
    "start_time": "2022-01-22T12:58:58.390Z"
   },
   {
    "duration": 36,
    "start_time": "2022-01-22T12:59:57.518Z"
   },
   {
    "duration": 35,
    "start_time": "2022-01-22T13:00:04.526Z"
   },
   {
    "duration": 34,
    "start_time": "2022-01-22T13:00:12.159Z"
   },
   {
    "duration": 38,
    "start_time": "2022-01-22T13:00:19.553Z"
   },
   {
    "duration": 35,
    "start_time": "2022-01-22T13:00:28.385Z"
   },
   {
    "duration": 34,
    "start_time": "2022-01-22T13:00:39.444Z"
   },
   {
    "duration": 32,
    "start_time": "2022-01-22T13:00:45.712Z"
   },
   {
    "duration": 199,
    "start_time": "2022-01-22T13:01:10.686Z"
   },
   {
    "duration": 49,
    "start_time": "2022-01-22T13:01:14.942Z"
   },
   {
    "duration": 38,
    "start_time": "2022-01-22T13:01:22.168Z"
   },
   {
    "duration": 38,
    "start_time": "2022-01-22T13:01:26.247Z"
   },
   {
    "duration": 33,
    "start_time": "2022-01-22T13:01:39.225Z"
   },
   {
    "duration": 40,
    "start_time": "2022-01-22T13:01:53.019Z"
   },
   {
    "duration": 38,
    "start_time": "2022-01-22T13:02:30.486Z"
   },
   {
    "duration": 38,
    "start_time": "2022-01-22T13:02:51.208Z"
   },
   {
    "duration": 41,
    "start_time": "2022-01-22T13:03:47.167Z"
   },
   {
    "duration": 43,
    "start_time": "2022-01-22T13:04:41.166Z"
   },
   {
    "duration": 60,
    "start_time": "2022-01-22T13:04:50.104Z"
   },
   {
    "duration": 7022,
    "start_time": "2022-01-22T13:05:06.239Z"
   },
   {
    "duration": 44,
    "start_time": "2022-01-22T13:05:21.859Z"
   },
   {
    "duration": 55,
    "start_time": "2022-01-22T13:05:32.393Z"
   },
   {
    "duration": 50,
    "start_time": "2022-01-22T13:05:52.524Z"
   },
   {
    "duration": 336,
    "start_time": "2022-01-22T13:07:05.149Z"
   },
   {
    "duration": 46,
    "start_time": "2022-01-22T13:07:31.478Z"
   },
   {
    "duration": 29,
    "start_time": "2022-01-22T13:10:17.920Z"
   },
   {
    "duration": 31,
    "start_time": "2022-01-22T13:10:21.280Z"
   },
   {
    "duration": 13,
    "start_time": "2022-01-22T13:10:22.624Z"
   },
   {
    "duration": 7,
    "start_time": "2022-01-22T13:10:24.544Z"
   },
   {
    "duration": 5,
    "start_time": "2022-01-22T13:10:26.512Z"
   },
   {
    "duration": 5,
    "start_time": "2022-01-22T13:13:44.765Z"
   },
   {
    "duration": 8,
    "start_time": "2022-01-22T13:13:52.710Z"
   },
   {
    "duration": 5,
    "start_time": "2022-01-22T13:13:59.448Z"
   },
   {
    "duration": 38,
    "start_time": "2022-01-22T13:16:34.289Z"
   },
   {
    "duration": 35,
    "start_time": "2022-01-22T13:16:42.608Z"
   },
   {
    "duration": 35,
    "start_time": "2022-01-22T13:17:01.435Z"
   },
   {
    "duration": 37,
    "start_time": "2022-01-22T13:17:19.342Z"
   },
   {
    "duration": 36,
    "start_time": "2022-01-22T13:17:22.485Z"
   },
   {
    "duration": 13,
    "start_time": "2022-01-22T13:17:23.645Z"
   },
   {
    "duration": 888,
    "start_time": "2022-01-22T13:19:03.933Z"
   },
   {
    "duration": 18,
    "start_time": "2022-01-22T13:19:04.825Z"
   },
   {
    "duration": 20,
    "start_time": "2022-01-22T13:19:05.960Z"
   },
   {
    "duration": 16,
    "start_time": "2022-01-22T13:19:07.921Z"
   },
   {
    "duration": 21,
    "start_time": "2022-01-22T13:19:08.432Z"
   },
   {
    "duration": 21,
    "start_time": "2022-01-22T13:19:09.121Z"
   },
   {
    "duration": 11,
    "start_time": "2022-01-22T13:19:09.536Z"
   },
   {
    "duration": 9,
    "start_time": "2022-01-22T13:19:09.960Z"
   },
   {
    "duration": 70,
    "start_time": "2022-01-22T13:19:10.769Z"
   },
   {
    "duration": 15,
    "start_time": "2022-01-22T13:19:11.384Z"
   },
   {
    "duration": 19,
    "start_time": "2022-01-22T13:19:11.873Z"
   },
   {
    "duration": 11,
    "start_time": "2022-01-22T13:19:13.840Z"
   },
   {
    "duration": 1736,
    "start_time": "2022-01-22T13:19:15.200Z"
   },
   {
    "duration": 4,
    "start_time": "2022-01-22T13:19:19.169Z"
   },
   {
    "duration": 392,
    "start_time": "2022-01-22T13:19:20.356Z"
   },
   {
    "duration": 1728,
    "start_time": "2022-01-22T13:19:20.978Z"
   },
   {
    "duration": 634,
    "start_time": "2022-01-22T13:19:24.707Z"
   },
   {
    "duration": 6,
    "start_time": "2022-01-22T13:19:28.953Z"
   },
   {
    "duration": 6,
    "start_time": "2022-01-22T13:19:29.521Z"
   },
   {
    "duration": 16,
    "start_time": "2022-01-22T13:19:29.834Z"
   },
   {
    "duration": 27,
    "start_time": "2022-01-22T13:19:32.266Z"
   },
   {
    "duration": 26,
    "start_time": "2022-01-22T13:19:32.674Z"
   },
   {
    "duration": 43,
    "start_time": "2022-01-22T13:19:33.042Z"
   },
   {
    "duration": 11,
    "start_time": "2022-01-22T13:19:34.219Z"
   },
   {
    "duration": 4,
    "start_time": "2022-01-22T13:19:34.508Z"
   },
   {
    "duration": 5628,
    "start_time": "2022-01-22T13:19:35.066Z"
   },
   {
    "duration": 14,
    "start_time": "2022-01-22T13:19:40.697Z"
   },
   {
    "duration": 6,
    "start_time": "2022-01-22T13:19:40.715Z"
   },
   {
    "duration": 65,
    "start_time": "2022-01-22T13:19:40.723Z"
   },
   {
    "duration": 45,
    "start_time": "2022-01-22T13:19:42.524Z"
   },
   {
    "duration": 681,
    "start_time": "2022-01-22T13:19:44.164Z"
   },
   {
    "duration": 9,
    "start_time": "2022-01-22T13:19:53.589Z"
   },
   {
    "duration": 5,
    "start_time": "2022-01-22T13:19:54.758Z"
   },
   {
    "duration": 39,
    "start_time": "2022-01-22T13:19:56.316Z"
   },
   {
    "duration": 6,
    "start_time": "2022-01-22T13:19:58.293Z"
   },
   {
    "duration": 396,
    "start_time": "2022-01-22T13:19:58.830Z"
   },
   {
    "duration": 45,
    "start_time": "2022-01-22T13:20:00.015Z"
   },
   {
    "duration": 38,
    "start_time": "2022-01-22T13:20:03.791Z"
   },
   {
    "duration": 31,
    "start_time": "2022-01-22T13:21:36.578Z"
   },
   {
    "duration": 7,
    "start_time": "2022-01-22T13:22:44.536Z"
   },
   {
    "duration": 6,
    "start_time": "2022-01-22T13:23:03.147Z"
   },
   {
    "duration": 7,
    "start_time": "2022-01-22T13:23:16.979Z"
   },
   {
    "duration": 417,
    "start_time": "2022-01-22T13:26:04.871Z"
   },
   {
    "duration": 5,
    "start_time": "2022-01-22T13:26:07.900Z"
   },
   {
    "duration": 5,
    "start_time": "2022-01-22T13:26:09.444Z"
   },
   {
    "duration": 5,
    "start_time": "2022-01-22T13:26:10.053Z"
   },
   {
    "duration": 650,
    "start_time": "2022-01-22T13:45:02.516Z"
   },
   {
    "duration": 1718,
    "start_time": "2022-01-22T13:45:20.438Z"
   },
   {
    "duration": 806,
    "start_time": "2022-01-22T13:46:00.694Z"
   },
   {
    "duration": 16,
    "start_time": "2022-01-22T13:46:01.503Z"
   },
   {
    "duration": 44,
    "start_time": "2022-01-22T13:46:01.522Z"
   },
   {
    "duration": 19,
    "start_time": "2022-01-22T13:46:01.570Z"
   },
   {
    "duration": 25,
    "start_time": "2022-01-22T13:46:01.592Z"
   },
   {
    "duration": 24,
    "start_time": "2022-01-22T13:46:01.664Z"
   },
   {
    "duration": 15,
    "start_time": "2022-01-22T13:46:01.692Z"
   },
   {
    "duration": 55,
    "start_time": "2022-01-22T13:46:01.710Z"
   },
   {
    "duration": 57,
    "start_time": "2022-01-22T13:46:01.770Z"
   },
   {
    "duration": 40,
    "start_time": "2022-01-22T13:46:01.830Z"
   },
   {
    "duration": 17,
    "start_time": "2022-01-22T13:46:01.873Z"
   },
   {
    "duration": 17,
    "start_time": "2022-01-22T13:46:01.894Z"
   },
   {
    "duration": 1787,
    "start_time": "2022-01-22T13:46:24.041Z"
   },
   {
    "duration": 933,
    "start_time": "2022-01-22T13:48:15.442Z"
   },
   {
    "duration": 1609,
    "start_time": "2022-01-22T13:48:22.508Z"
   },
   {
    "duration": 4,
    "start_time": "2022-01-22T13:48:24.245Z"
   },
   {
    "duration": 387,
    "start_time": "2022-01-22T13:48:24.453Z"
   },
   {
    "duration": 1762,
    "start_time": "2022-01-22T13:48:25.069Z"
   },
   {
    "duration": 529,
    "start_time": "2022-01-22T13:48:28.429Z"
   },
   {
    "duration": 1631,
    "start_time": "2022-01-22T13:48:28.961Z"
   },
   {
    "duration": 1679,
    "start_time": "2022-01-22T13:49:40.845Z"
   },
   {
    "duration": 1662,
    "start_time": "2022-01-22T13:50:25.729Z"
   },
   {
    "duration": 1642,
    "start_time": "2022-01-22T13:50:36.306Z"
   },
   {
    "duration": 1779,
    "start_time": "2022-01-22T13:50:42.052Z"
   },
   {
    "duration": 1799,
    "start_time": "2022-01-22T13:50:49.572Z"
   },
   {
    "duration": 1712,
    "start_time": "2022-01-22T13:50:54.580Z"
   },
   {
    "duration": 1958,
    "start_time": "2022-01-22T13:51:08.686Z"
   },
   {
    "duration": 2160,
    "start_time": "2022-01-22T13:51:27.936Z"
   },
   {
    "duration": 2061,
    "start_time": "2022-01-22T13:51:52.308Z"
   },
   {
    "duration": 1609,
    "start_time": "2022-01-22T13:52:18.031Z"
   },
   {
    "duration": 1778,
    "start_time": "2022-01-22T13:52:25.599Z"
   },
   {
    "duration": 1674,
    "start_time": "2022-01-22T13:52:38.520Z"
   },
   {
    "duration": 1606,
    "start_time": "2022-01-22T13:53:07.661Z"
   },
   {
    "duration": 1526,
    "start_time": "2022-01-22T13:53:30.625Z"
   },
   {
    "duration": 1572,
    "start_time": "2022-01-22T13:53:35.885Z"
   },
   {
    "duration": 863,
    "start_time": "2022-01-22T13:54:10.477Z"
   },
   {
    "duration": 33,
    "start_time": "2022-01-22T13:54:11.344Z"
   },
   {
    "duration": 21,
    "start_time": "2022-01-22T13:54:11.380Z"
   },
   {
    "duration": 14,
    "start_time": "2022-01-22T13:54:11.404Z"
   },
   {
    "duration": 66,
    "start_time": "2022-01-22T13:54:11.421Z"
   },
   {
    "duration": 18,
    "start_time": "2022-01-22T13:54:11.491Z"
   },
   {
    "duration": 15,
    "start_time": "2022-01-22T13:54:11.511Z"
   },
   {
    "duration": 9,
    "start_time": "2022-01-22T13:54:11.568Z"
   },
   {
    "duration": 58,
    "start_time": "2022-01-22T13:54:12.914Z"
   },
   {
    "duration": 15,
    "start_time": "2022-01-22T13:54:13.730Z"
   },
   {
    "duration": 17,
    "start_time": "2022-01-22T13:54:14.210Z"
   },
   {
    "duration": 11,
    "start_time": "2022-01-22T13:54:15.786Z"
   },
   {
    "duration": 1767,
    "start_time": "2022-01-22T13:54:16.826Z"
   },
   {
    "duration": 4,
    "start_time": "2022-01-22T13:54:20.387Z"
   },
   {
    "duration": 377,
    "start_time": "2022-01-22T13:54:20.859Z"
   },
   {
    "duration": 1694,
    "start_time": "2022-01-22T13:54:21.835Z"
   },
   {
    "duration": 520,
    "start_time": "2022-01-22T13:54:25.955Z"
   },
   {
    "duration": 1631,
    "start_time": "2022-01-22T13:54:27.925Z"
   },
   {
    "duration": 1836,
    "start_time": "2022-01-22T13:55:29.265Z"
   },
   {
    "duration": 7,
    "start_time": "2022-01-22T13:56:09.073Z"
   },
   {
    "duration": 876,
    "start_time": "2022-01-22T13:56:19.605Z"
   },
   {
    "duration": 15,
    "start_time": "2022-01-22T13:56:20.484Z"
   },
   {
    "duration": 25,
    "start_time": "2022-01-22T13:56:20.503Z"
   },
   {
    "duration": 40,
    "start_time": "2022-01-22T13:56:20.531Z"
   },
   {
    "duration": 19,
    "start_time": "2022-01-22T13:56:20.573Z"
   },
   {
    "duration": 18,
    "start_time": "2022-01-22T13:56:20.595Z"
   },
   {
    "duration": 55,
    "start_time": "2022-01-22T13:56:20.616Z"
   },
   {
    "duration": 11,
    "start_time": "2022-01-22T13:56:20.675Z"
   },
   {
    "duration": 94,
    "start_time": "2022-01-22T13:56:20.688Z"
   },
   {
    "duration": 14,
    "start_time": "2022-01-22T13:56:20.785Z"
   },
   {
    "duration": 22,
    "start_time": "2022-01-22T13:56:20.802Z"
   },
   {
    "duration": 43,
    "start_time": "2022-01-22T13:56:20.827Z"
   },
   {
    "duration": 1773,
    "start_time": "2022-01-22T13:56:20.873Z"
   },
   {
    "duration": 8,
    "start_time": "2022-01-22T13:56:30.937Z"
   },
   {
    "duration": 4,
    "start_time": "2022-01-22T13:56:32.610Z"
   },
   {
    "duration": 380,
    "start_time": "2022-01-22T13:56:33.354Z"
   },
   {
    "duration": 7,
    "start_time": "2022-01-22T13:56:33.946Z"
   },
   {
    "duration": 366,
    "start_time": "2022-01-22T13:56:53.171Z"
   },
   {
    "duration": 826,
    "start_time": "2022-01-22T13:57:06.148Z"
   },
   {
    "duration": 21,
    "start_time": "2022-01-22T13:57:06.977Z"
   },
   {
    "duration": 25,
    "start_time": "2022-01-22T13:57:07.002Z"
   },
   {
    "duration": 48,
    "start_time": "2022-01-22T13:57:07.031Z"
   },
   {
    "duration": 26,
    "start_time": "2022-01-22T13:57:07.082Z"
   },
   {
    "duration": 57,
    "start_time": "2022-01-22T13:57:07.111Z"
   },
   {
    "duration": 12,
    "start_time": "2022-01-22T13:57:07.172Z"
   },
   {
    "duration": 10,
    "start_time": "2022-01-22T13:57:07.189Z"
   },
   {
    "duration": 106,
    "start_time": "2022-01-22T13:57:07.201Z"
   },
   {
    "duration": 15,
    "start_time": "2022-01-22T13:57:07.310Z"
   },
   {
    "duration": 52,
    "start_time": "2022-01-22T13:57:07.327Z"
   },
   {
    "duration": 13,
    "start_time": "2022-01-22T13:57:07.383Z"
   },
   {
    "duration": 1837,
    "start_time": "2022-01-22T13:57:07.399Z"
   },
   {
    "duration": 6,
    "start_time": "2022-01-22T13:57:10.832Z"
   },
   {
    "duration": 4,
    "start_time": "2022-01-22T13:57:11.650Z"
   },
   {
    "duration": 383,
    "start_time": "2022-01-22T13:57:13.002Z"
   },
   {
    "duration": 7,
    "start_time": "2022-01-22T13:57:22.283Z"
   },
   {
    "duration": 435,
    "start_time": "2022-01-22T13:58:13.066Z"
   },
   {
    "duration": 405,
    "start_time": "2022-01-22T13:58:15.041Z"
   },
   {
    "duration": 6,
    "start_time": "2022-01-22T13:58:20.137Z"
   },
   {
    "duration": 1600,
    "start_time": "2022-01-22T13:58:32.786Z"
   },
   {
    "duration": 849,
    "start_time": "2022-01-22T13:59:13.235Z"
   },
   {
    "duration": 15,
    "start_time": "2022-01-22T13:59:14.087Z"
   },
   {
    "duration": 18,
    "start_time": "2022-01-22T13:59:14.105Z"
   },
   {
    "duration": 52,
    "start_time": "2022-01-22T13:59:14.126Z"
   },
   {
    "duration": 19,
    "start_time": "2022-01-22T13:59:14.181Z"
   },
   {
    "duration": 18,
    "start_time": "2022-01-22T13:59:14.202Z"
   },
   {
    "duration": 11,
    "start_time": "2022-01-22T13:59:14.265Z"
   },
   {
    "duration": 8,
    "start_time": "2022-01-22T13:59:14.279Z"
   },
   {
    "duration": 85,
    "start_time": "2022-01-22T13:59:14.290Z"
   },
   {
    "duration": 15,
    "start_time": "2022-01-22T13:59:14.378Z"
   },
   {
    "duration": 18,
    "start_time": "2022-01-22T13:59:14.396Z"
   },
   {
    "duration": 53,
    "start_time": "2022-01-22T13:59:14.417Z"
   },
   {
    "duration": 1733,
    "start_time": "2022-01-22T13:59:14.473Z"
   },
   {
    "duration": 7,
    "start_time": "2022-01-22T13:59:16.208Z"
   },
   {
    "duration": 6,
    "start_time": "2022-01-22T13:59:17.391Z"
   },
   {
    "duration": 4,
    "start_time": "2022-01-22T13:59:18.278Z"
   },
   {
    "duration": 7,
    "start_time": "2022-01-22T13:59:24.088Z"
   },
   {
    "duration": 806,
    "start_time": "2022-01-22T14:02:15.416Z"
   },
   {
    "duration": 15,
    "start_time": "2022-01-22T14:02:16.225Z"
   },
   {
    "duration": 38,
    "start_time": "2022-01-22T14:02:16.243Z"
   },
   {
    "duration": 14,
    "start_time": "2022-01-22T14:02:16.284Z"
   },
   {
    "duration": 19,
    "start_time": "2022-01-22T14:02:16.301Z"
   },
   {
    "duration": 61,
    "start_time": "2022-01-22T14:02:16.322Z"
   },
   {
    "duration": 9,
    "start_time": "2022-01-22T14:02:16.386Z"
   },
   {
    "duration": 8,
    "start_time": "2022-01-22T14:02:16.397Z"
   },
   {
    "duration": 112,
    "start_time": "2022-01-22T14:02:16.408Z"
   },
   {
    "duration": 14,
    "start_time": "2022-01-22T14:02:16.523Z"
   },
   {
    "duration": 39,
    "start_time": "2022-01-22T14:02:16.540Z"
   },
   {
    "duration": 11,
    "start_time": "2022-01-22T14:02:19.326Z"
   },
   {
    "duration": 1787,
    "start_time": "2022-01-22T14:02:20.734Z"
   },
   {
    "duration": 7,
    "start_time": "2022-01-22T14:02:24.086Z"
   },
   {
    "duration": 4,
    "start_time": "2022-01-22T14:02:26.151Z"
   },
   {
    "duration": 10,
    "start_time": "2022-01-22T14:02:27.654Z"
   },
   {
    "duration": 883,
    "start_time": "2022-01-22T14:03:24.739Z"
   },
   {
    "duration": 16,
    "start_time": "2022-01-22T14:03:25.625Z"
   },
   {
    "duration": 37,
    "start_time": "2022-01-22T14:03:25.645Z"
   },
   {
    "duration": 15,
    "start_time": "2022-01-22T14:03:25.684Z"
   },
   {
    "duration": 64,
    "start_time": "2022-01-22T14:03:25.701Z"
   },
   {
    "duration": 23,
    "start_time": "2022-01-22T14:03:25.769Z"
   },
   {
    "duration": 15,
    "start_time": "2022-01-22T14:03:25.796Z"
   },
   {
    "duration": 51,
    "start_time": "2022-01-22T14:03:25.817Z"
   },
   {
    "duration": 69,
    "start_time": "2022-01-22T14:03:25.871Z"
   },
   {
    "duration": 29,
    "start_time": "2022-01-22T14:03:25.943Z"
   },
   {
    "duration": 36,
    "start_time": "2022-01-22T14:03:25.975Z"
   },
   {
    "duration": 17,
    "start_time": "2022-01-22T14:03:26.014Z"
   },
   {
    "duration": 1680,
    "start_time": "2022-01-22T14:03:27.905Z"
   },
   {
    "duration": 4,
    "start_time": "2022-01-22T14:03:30.816Z"
   },
   {
    "duration": 377,
    "start_time": "2022-01-22T14:03:31.131Z"
   },
   {
    "duration": 1653,
    "start_time": "2022-01-22T14:03:31.617Z"
   },
   {
    "duration": 535,
    "start_time": "2022-01-22T14:03:35.313Z"
   },
   {
    "duration": 1734,
    "start_time": "2022-01-22T14:03:37.003Z"
   },
   {
    "duration": 407,
    "start_time": "2022-01-22T14:04:55.521Z"
   },
   {
    "duration": 1560,
    "start_time": "2022-01-22T14:05:03.556Z"
   },
   {
    "duration": 1628,
    "start_time": "2022-01-22T14:05:33.709Z"
   },
   {
    "duration": 1514,
    "start_time": "2022-01-22T14:06:04.274Z"
   },
   {
    "duration": 1964,
    "start_time": "2022-01-22T14:06:24.238Z"
   },
   {
    "duration": 127,
    "start_time": "2022-01-22T14:08:50.140Z"
   },
   {
    "duration": 758,
    "start_time": "2022-01-22T14:08:54.715Z"
   },
   {
    "duration": 475,
    "start_time": "2022-01-22T14:09:57.124Z"
   },
   {
    "duration": 521,
    "start_time": "2022-01-22T14:10:05.835Z"
   },
   {
    "duration": 730,
    "start_time": "2022-01-22T14:10:11.829Z"
   },
   {
    "duration": 470,
    "start_time": "2022-01-22T14:10:24.582Z"
   },
   {
    "duration": 601,
    "start_time": "2022-01-22T14:10:54.209Z"
   },
   {
    "duration": 876,
    "start_time": "2022-01-22T14:11:34.455Z"
   },
   {
    "duration": 904,
    "start_time": "2022-01-22T14:17:10.309Z"
   },
   {
    "duration": 23,
    "start_time": "2022-01-22T14:17:11.221Z"
   },
   {
    "duration": 28,
    "start_time": "2022-01-22T14:17:11.266Z"
   },
   {
    "duration": 20,
    "start_time": "2022-01-22T14:17:11.297Z"
   },
   {
    "duration": 61,
    "start_time": "2022-01-22T14:17:11.321Z"
   },
   {
    "duration": 20,
    "start_time": "2022-01-22T14:17:11.386Z"
   },
   {
    "duration": 9,
    "start_time": "2022-01-22T14:17:11.409Z"
   },
   {
    "duration": 8,
    "start_time": "2022-01-22T14:17:11.466Z"
   },
   {
    "duration": 91,
    "start_time": "2022-01-22T14:17:11.477Z"
   },
   {
    "duration": 16,
    "start_time": "2022-01-22T14:17:11.570Z"
   },
   {
    "duration": 18,
    "start_time": "2022-01-22T14:17:11.589Z"
   },
   {
    "duration": 57,
    "start_time": "2022-01-22T14:17:11.610Z"
   },
   {
    "duration": 1776,
    "start_time": "2022-01-22T14:17:11.670Z"
   },
   {
    "duration": 4,
    "start_time": "2022-01-22T14:17:13.448Z"
   },
   {
    "duration": 395,
    "start_time": "2022-01-22T14:17:13.465Z"
   },
   {
    "duration": 1695,
    "start_time": "2022-01-22T14:17:13.866Z"
   },
   {
    "duration": 526,
    "start_time": "2022-01-22T14:17:15.565Z"
   },
   {
    "duration": 1731,
    "start_time": "2022-01-22T14:17:16.094Z"
   },
   {
    "duration": 926,
    "start_time": "2022-01-22T14:17:17.828Z"
   },
   {
    "duration": 806,
    "start_time": "2022-01-22T14:17:21.139Z"
   },
   {
    "duration": 7,
    "start_time": "2022-01-22T14:17:24.675Z"
   },
   {
    "duration": 20,
    "start_time": "2022-01-22T14:17:39.107Z"
   },
   {
    "duration": 981,
    "start_time": "2022-01-22T14:18:04.951Z"
   },
   {
    "duration": 2659,
    "start_time": "2022-01-22T14:18:27.706Z"
   },
   {
    "duration": 4020,
    "start_time": "2022-01-22T14:21:15.818Z"
   },
   {
    "duration": 4878,
    "start_time": "2022-01-22T14:21:30.622Z"
   },
   {
    "duration": 776,
    "start_time": "2022-01-22T14:23:06.334Z"
   },
   {
    "duration": 1674,
    "start_time": "2022-01-22T14:23:26.865Z"
   },
   {
    "duration": 679,
    "start_time": "2022-01-22T14:23:41.562Z"
   },
   {
    "duration": 1662,
    "start_time": "2022-01-22T14:23:59.325Z"
   },
   {
    "duration": 315,
    "start_time": "2022-01-22T14:24:30.800Z"
   },
   {
    "duration": 2197,
    "start_time": "2022-01-22T14:26:41.852Z"
   },
   {
    "duration": 290,
    "start_time": "2022-01-22T14:27:36.268Z"
   },
   {
    "duration": 299,
    "start_time": "2022-01-22T14:27:44.358Z"
   },
   {
    "duration": 320,
    "start_time": "2022-01-22T14:27:50.180Z"
   },
   {
    "duration": 14,
    "start_time": "2022-01-22T14:28:42.162Z"
   },
   {
    "duration": 21,
    "start_time": "2022-01-22T14:28:52.994Z"
   },
   {
    "duration": 26,
    "start_time": "2022-01-22T14:29:07.886Z"
   },
   {
    "duration": 16,
    "start_time": "2022-01-22T14:29:29.593Z"
   },
   {
    "duration": 20,
    "start_time": "2022-01-22T14:29:38.585Z"
   },
   {
    "duration": 12,
    "start_time": "2022-01-22T14:30:16.790Z"
   },
   {
    "duration": 12,
    "start_time": "2022-01-22T14:30:19.077Z"
   },
   {
    "duration": 4082,
    "start_time": "2022-01-22T14:30:19.485Z"
   },
   {
    "duration": 1905,
    "start_time": "2022-01-22T14:30:23.570Z"
   },
   {
    "duration": 401,
    "start_time": "2022-01-22T14:31:30.221Z"
   },
   {
    "duration": 112,
    "start_time": "2022-01-22T14:32:32.923Z"
   },
   {
    "duration": 473,
    "start_time": "2022-01-22T14:33:39.858Z"
   },
   {
    "duration": -245,
    "start_time": "2022-01-22T14:38:20.725Z"
   },
   {
    "duration": -249,
    "start_time": "2022-01-22T14:38:20.731Z"
   },
   {
    "duration": 2327,
    "start_time": "2022-01-22T14:38:36.642Z"
   },
   {
    "duration": 1719,
    "start_time": "2022-01-22T14:39:12.253Z"
   },
   {
    "duration": 817,
    "start_time": "2022-01-22T14:39:19.806Z"
   },
   {
    "duration": 678,
    "start_time": "2022-01-22T14:39:45.139Z"
   },
   {
    "duration": 2183,
    "start_time": "2022-01-22T14:43:16.647Z"
   },
   {
    "duration": 2492,
    "start_time": "2022-01-22T14:43:34.715Z"
   },
   {
    "duration": 2130,
    "start_time": "2022-01-22T14:44:02.052Z"
   },
   {
    "duration": 1949,
    "start_time": "2022-01-22T14:45:04.683Z"
   },
   {
    "duration": 2180,
    "start_time": "2022-01-22T14:48:24.855Z"
   },
   {
    "duration": 2274,
    "start_time": "2022-01-22T14:48:58.919Z"
   },
   {
    "duration": 2327,
    "start_time": "2022-01-22T14:49:25.101Z"
   },
   {
    "duration": 2054,
    "start_time": "2022-01-22T14:49:34.742Z"
   },
   {
    "duration": 2032,
    "start_time": "2022-01-22T14:49:48.856Z"
   },
   {
    "duration": 2183,
    "start_time": "2022-01-22T14:50:01.299Z"
   },
   {
    "duration": 2452,
    "start_time": "2022-01-22T14:51:19.851Z"
   },
   {
    "duration": 2079,
    "start_time": "2022-01-22T14:54:38.648Z"
   },
   {
    "duration": 2301,
    "start_time": "2022-01-22T14:54:53.569Z"
   },
   {
    "duration": 2193,
    "start_time": "2022-01-22T14:55:10.940Z"
   },
   {
    "duration": 2648,
    "start_time": "2022-01-22T14:56:10.266Z"
   },
   {
    "duration": 2637,
    "start_time": "2022-01-22T14:56:19.427Z"
   },
   {
    "duration": 2198,
    "start_time": "2022-01-22T14:57:26.123Z"
   },
   {
    "duration": 2233,
    "start_time": "2022-01-22T14:59:37.313Z"
   },
   {
    "duration": 2387,
    "start_time": "2022-01-22T15:00:06.059Z"
   },
   {
    "duration": 2180,
    "start_time": "2022-01-22T15:00:18.379Z"
   },
   {
    "duration": 2779,
    "start_time": "2022-01-22T15:00:42.638Z"
   },
   {
    "duration": 2241,
    "start_time": "2022-01-22T15:00:54.174Z"
   },
   {
    "duration": 2498,
    "start_time": "2022-01-22T15:02:03.288Z"
   },
   {
    "duration": 807,
    "start_time": "2022-01-22T15:02:40.811Z"
   },
   {
    "duration": 21,
    "start_time": "2022-01-22T15:02:41.621Z"
   },
   {
    "duration": 22,
    "start_time": "2022-01-22T15:02:41.665Z"
   },
   {
    "duration": 14,
    "start_time": "2022-01-22T15:02:41.690Z"
   },
   {
    "duration": 65,
    "start_time": "2022-01-22T15:02:41.706Z"
   },
   {
    "duration": 19,
    "start_time": "2022-01-22T15:02:41.773Z"
   },
   {
    "duration": 13,
    "start_time": "2022-01-22T15:02:41.795Z"
   },
   {
    "duration": 11,
    "start_time": "2022-01-22T15:02:41.810Z"
   },
   {
    "duration": 91,
    "start_time": "2022-01-22T15:02:41.825Z"
   },
   {
    "duration": 48,
    "start_time": "2022-01-22T15:02:41.919Z"
   },
   {
    "duration": 18,
    "start_time": "2022-01-22T15:02:41.970Z"
   },
   {
    "duration": 13,
    "start_time": "2022-01-22T15:02:41.991Z"
   },
   {
    "duration": 1830,
    "start_time": "2022-01-22T15:02:42.007Z"
   },
   {
    "duration": 5,
    "start_time": "2022-01-22T15:02:43.840Z"
   },
   {
    "duration": 384,
    "start_time": "2022-01-22T15:02:43.848Z"
   },
   {
    "duration": 1850,
    "start_time": "2022-01-22T15:02:44.235Z"
   },
   {
    "duration": 519,
    "start_time": "2022-01-22T15:02:46.089Z"
   },
   {
    "duration": 3549,
    "start_time": "2022-01-22T15:02:50.102Z"
   },
   {
    "duration": 802,
    "start_time": "2022-01-22T15:04:34.210Z"
   },
   {
    "duration": 17,
    "start_time": "2022-01-22T15:04:35.014Z"
   },
   {
    "duration": 44,
    "start_time": "2022-01-22T15:04:35.034Z"
   },
   {
    "duration": 16,
    "start_time": "2022-01-22T15:04:35.081Z"
   },
   {
    "duration": 20,
    "start_time": "2022-01-22T15:04:35.100Z"
   },
   {
    "duration": 56,
    "start_time": "2022-01-22T15:04:35.123Z"
   },
   {
    "duration": 11,
    "start_time": "2022-01-22T15:04:35.182Z"
   },
   {
    "duration": 8,
    "start_time": "2022-01-22T15:04:35.196Z"
   },
   {
    "duration": 103,
    "start_time": "2022-01-22T15:04:35.209Z"
   },
   {
    "duration": 19,
    "start_time": "2022-01-22T15:04:35.315Z"
   },
   {
    "duration": 47,
    "start_time": "2022-01-22T15:04:35.337Z"
   },
   {
    "duration": 10,
    "start_time": "2022-01-22T15:04:35.387Z"
   },
   {
    "duration": 1229,
    "start_time": "2022-01-22T15:04:35.399Z"
   },
   {
    "duration": 4,
    "start_time": "2022-01-22T15:04:36.631Z"
   },
   {
    "duration": 403,
    "start_time": "2022-01-22T15:04:36.637Z"
   },
   {
    "duration": 786,
    "start_time": "2022-01-22T15:04:37.043Z"
   },
   {
    "duration": 246,
    "start_time": "2022-01-22T15:04:37.832Z"
   },
   {
    "duration": 1691,
    "start_time": "2022-01-22T15:04:40.851Z"
   },
   {
    "duration": 1454,
    "start_time": "2022-01-22T15:04:52.412Z"
   },
   {
    "duration": 1033,
    "start_time": "2022-01-22T15:05:05.246Z"
   },
   {
    "duration": 1041,
    "start_time": "2022-01-22T15:05:12.246Z"
   },
   {
    "duration": 990,
    "start_time": "2022-01-22T15:05:16.080Z"
   },
   {
    "duration": 343,
    "start_time": "2022-01-22T15:05:17.072Z"
   },
   {
    "duration": 852,
    "start_time": "2022-01-22T15:05:51.548Z"
   },
   {
    "duration": 15,
    "start_time": "2022-01-22T15:05:52.403Z"
   },
   {
    "duration": 44,
    "start_time": "2022-01-22T15:05:52.421Z"
   },
   {
    "duration": 14,
    "start_time": "2022-01-22T15:05:52.468Z"
   },
   {
    "duration": 20,
    "start_time": "2022-01-22T15:05:52.485Z"
   },
   {
    "duration": 58,
    "start_time": "2022-01-22T15:05:52.507Z"
   },
   {
    "duration": 11,
    "start_time": "2022-01-22T15:05:52.567Z"
   },
   {
    "duration": 11,
    "start_time": "2022-01-22T15:05:52.584Z"
   },
   {
    "duration": 121,
    "start_time": "2022-01-22T15:05:52.599Z"
   },
   {
    "duration": 14,
    "start_time": "2022-01-22T15:05:52.723Z"
   },
   {
    "duration": 41,
    "start_time": "2022-01-22T15:05:52.739Z"
   },
   {
    "duration": 13,
    "start_time": "2022-01-22T15:05:52.782Z"
   },
   {
    "duration": 1703,
    "start_time": "2022-01-22T15:05:52.798Z"
   },
   {
    "duration": 6,
    "start_time": "2022-01-22T15:05:54.504Z"
   },
   {
    "duration": 406,
    "start_time": "2022-01-22T15:05:54.512Z"
   },
   {
    "duration": 1719,
    "start_time": "2022-01-22T15:05:54.921Z"
   },
   {
    "duration": 525,
    "start_time": "2022-01-22T15:05:56.643Z"
   },
   {
    "duration": 2744,
    "start_time": "2022-01-22T15:06:01.623Z"
   },
   {
    "duration": 632,
    "start_time": "2022-01-22T15:09:36.157Z"
   },
   {
    "duration": 2346,
    "start_time": "2022-01-22T15:10:49.693Z"
   },
   {
    "duration": 677,
    "start_time": "2022-01-22T15:10:57.014Z"
   },
   {
    "duration": 2218,
    "start_time": "2022-01-22T15:11:15.376Z"
   },
   {
    "duration": 2147,
    "start_time": "2022-01-22T15:15:12.050Z"
   },
   {
    "duration": 2236,
    "start_time": "2022-01-22T15:15:43.517Z"
   },
   {
    "duration": 1989,
    "start_time": "2022-01-22T15:17:51.162Z"
   },
   {
    "duration": 852,
    "start_time": "2022-01-22T15:21:21.025Z"
   },
   {
    "duration": 16,
    "start_time": "2022-01-22T15:21:22.590Z"
   },
   {
    "duration": 27,
    "start_time": "2022-01-22T15:21:23.540Z"
   },
   {
    "duration": 14,
    "start_time": "2022-01-22T15:21:25.030Z"
   },
   {
    "duration": 33,
    "start_time": "2022-01-22T15:21:26.157Z"
   },
   {
    "duration": 24,
    "start_time": "2022-01-22T15:21:29.151Z"
   },
   {
    "duration": 13,
    "start_time": "2022-01-22T15:21:30.526Z"
   },
   {
    "duration": 9,
    "start_time": "2022-01-22T15:21:32.798Z"
   },
   {
    "duration": 55,
    "start_time": "2022-01-22T15:21:38.582Z"
   },
   {
    "duration": 16,
    "start_time": "2022-01-22T15:21:39.783Z"
   },
   {
    "duration": 17,
    "start_time": "2022-01-22T15:21:51.306Z"
   },
   {
    "duration": 11,
    "start_time": "2022-01-22T15:21:54.761Z"
   },
   {
    "duration": 1690,
    "start_time": "2022-01-22T15:21:55.785Z"
   },
   {
    "duration": 4,
    "start_time": "2022-01-22T15:21:59.017Z"
   },
   {
    "duration": 471,
    "start_time": "2022-01-22T15:21:59.377Z"
   },
   {
    "duration": 1624,
    "start_time": "2022-01-22T15:21:59.863Z"
   },
   {
    "duration": 530,
    "start_time": "2022-01-22T15:22:03.338Z"
   },
   {
    "duration": 2765,
    "start_time": "2022-01-22T15:22:09.026Z"
   },
   {
    "duration": 2098,
    "start_time": "2022-01-22T15:22:15.475Z"
   },
   {
    "duration": 436,
    "start_time": "2022-01-22T15:24:52.307Z"
   },
   {
    "duration": 106,
    "start_time": "2022-01-22T15:24:57.259Z"
   },
   {
    "duration": 12,
    "start_time": "2022-01-22T15:25:01.469Z"
   },
   {
    "duration": 737,
    "start_time": "2022-01-22T15:25:03.182Z"
   },
   {
    "duration": 10,
    "start_time": "2022-01-22T15:25:21.250Z"
   },
   {
    "duration": 885,
    "start_time": "2022-01-22T15:25:21.952Z"
   },
   {
    "duration": 9,
    "start_time": "2022-01-22T15:25:41.267Z"
   },
   {
    "duration": 8,
    "start_time": "2022-01-22T15:25:42.113Z"
   },
   {
    "duration": 575,
    "start_time": "2022-01-22T15:25:42.529Z"
   },
   {
    "duration": 8,
    "start_time": "2022-01-22T15:26:07.134Z"
   },
   {
    "duration": 8,
    "start_time": "2022-01-22T15:26:07.813Z"
   },
   {
    "duration": 654,
    "start_time": "2022-01-22T15:26:08.052Z"
   },
   {
    "duration": 9,
    "start_time": "2022-01-22T15:26:38.721Z"
   },
   {
    "duration": 567,
    "start_time": "2022-01-22T15:26:39.128Z"
   },
   {
    "duration": 21,
    "start_time": "2022-01-22T15:28:06.336Z"
   },
   {
    "duration": 865,
    "start_time": "2022-01-22T15:32:25.053Z"
   },
   {
    "duration": 16,
    "start_time": "2022-01-22T15:32:25.921Z"
   },
   {
    "duration": 42,
    "start_time": "2022-01-22T15:32:25.940Z"
   },
   {
    "duration": 14,
    "start_time": "2022-01-22T15:32:25.985Z"
   },
   {
    "duration": 65,
    "start_time": "2022-01-22T15:32:26.001Z"
   },
   {
    "duration": 20,
    "start_time": "2022-01-22T15:32:26.068Z"
   },
   {
    "duration": 12,
    "start_time": "2022-01-22T15:32:26.090Z"
   },
   {
    "duration": 9,
    "start_time": "2022-01-22T15:32:26.104Z"
   },
   {
    "duration": 93,
    "start_time": "2022-01-22T15:32:26.118Z"
   },
   {
    "duration": 15,
    "start_time": "2022-01-22T15:32:26.214Z"
   },
   {
    "duration": 43,
    "start_time": "2022-01-22T15:32:26.231Z"
   },
   {
    "duration": 13,
    "start_time": "2022-01-22T15:32:26.276Z"
   },
   {
    "duration": 1817,
    "start_time": "2022-01-22T15:32:26.292Z"
   },
   {
    "duration": 4,
    "start_time": "2022-01-22T15:32:28.112Z"
   },
   {
    "duration": 422,
    "start_time": "2022-01-22T15:32:28.119Z"
   },
   {
    "duration": 1633,
    "start_time": "2022-01-22T15:32:28.544Z"
   },
   {
    "duration": 520,
    "start_time": "2022-01-22T15:32:30.180Z"
   },
   {
    "duration": 2704,
    "start_time": "2022-01-22T15:32:30.704Z"
   },
   {
    "duration": 2043,
    "start_time": "2022-01-22T15:32:33.410Z"
   },
   {
    "duration": 10,
    "start_time": "2022-01-22T15:32:35.456Z"
   },
   {
    "duration": 8,
    "start_time": "2022-01-22T15:32:35.469Z"
   },
   {
    "duration": 18,
    "start_time": "2022-01-22T15:32:35.479Z"
   },
   {
    "duration": 70,
    "start_time": "2022-01-22T15:32:35.500Z"
   },
   {
    "duration": 24,
    "start_time": "2022-01-22T15:32:35.572Z"
   },
   {
    "duration": 12,
    "start_time": "2022-01-22T15:32:35.598Z"
   },
   {
    "duration": 5153,
    "start_time": "2022-01-22T15:32:35.612Z"
   },
   {
    "duration": 14,
    "start_time": "2022-01-22T15:32:40.771Z"
   },
   {
    "duration": 10,
    "start_time": "2022-01-22T15:32:40.788Z"
   },
   {
    "duration": 35,
    "start_time": "2022-01-22T15:32:40.801Z"
   },
   {
    "duration": 32,
    "start_time": "2022-01-22T15:32:40.865Z"
   },
   {
    "duration": 785,
    "start_time": "2022-01-22T15:32:40.899Z"
   },
   {
    "duration": 8,
    "start_time": "2022-01-22T15:32:41.686Z"
   },
   {
    "duration": 12,
    "start_time": "2022-01-22T15:32:41.697Z"
   },
   {
    "duration": 65,
    "start_time": "2022-01-22T15:32:41.711Z"
   },
   {
    "duration": 5,
    "start_time": "2022-01-22T15:32:41.778Z"
   },
   {
    "duration": 403,
    "start_time": "2022-01-22T15:32:41.786Z"
   },
   {
    "duration": 38,
    "start_time": "2022-01-22T15:32:42.192Z"
   },
   {
    "duration": 57,
    "start_time": "2022-01-22T15:32:42.233Z"
   },
   {
    "duration": 29,
    "start_time": "2022-01-22T15:37:00.995Z"
   },
   {
    "duration": 651,
    "start_time": "2022-01-22T15:37:27.022Z"
   },
   {
    "duration": 27,
    "start_time": "2022-01-22T15:37:57.961Z"
   },
   {
    "duration": 40,
    "start_time": "2022-01-22T15:38:05.245Z"
   },
   {
    "duration": 26,
    "start_time": "2022-01-22T15:38:46.103Z"
   },
   {
    "duration": 19,
    "start_time": "2022-01-22T15:41:17.895Z"
   },
   {
    "duration": 799,
    "start_time": "2022-01-22T15:43:16.183Z"
   },
   {
    "duration": 14,
    "start_time": "2022-01-22T15:43:16.985Z"
   },
   {
    "duration": 21,
    "start_time": "2022-01-22T15:43:17.002Z"
   },
   {
    "duration": 43,
    "start_time": "2022-01-22T15:43:17.026Z"
   },
   {
    "duration": 20,
    "start_time": "2022-01-22T15:43:17.071Z"
   },
   {
    "duration": 19,
    "start_time": "2022-01-22T15:43:17.094Z"
   },
   {
    "duration": 53,
    "start_time": "2022-01-22T15:43:17.116Z"
   },
   {
    "duration": 8,
    "start_time": "2022-01-22T15:43:17.174Z"
   },
   {
    "duration": 87,
    "start_time": "2022-01-22T15:43:17.185Z"
   },
   {
    "duration": 14,
    "start_time": "2022-01-22T15:43:17.275Z"
   },
   {
    "duration": 19,
    "start_time": "2022-01-22T15:43:17.291Z"
   },
   {
    "duration": 52,
    "start_time": "2022-01-22T15:43:17.312Z"
   },
   {
    "duration": 1693,
    "start_time": "2022-01-22T15:43:17.367Z"
   },
   {
    "duration": 4,
    "start_time": "2022-01-22T15:43:19.065Z"
   },
   {
    "duration": 399,
    "start_time": "2022-01-22T15:43:19.072Z"
   },
   {
    "duration": 1829,
    "start_time": "2022-01-22T15:43:19.473Z"
   },
   {
    "duration": 511,
    "start_time": "2022-01-22T15:43:21.305Z"
   },
   {
    "duration": 2774,
    "start_time": "2022-01-22T15:43:21.818Z"
   },
   {
    "duration": 2102,
    "start_time": "2022-01-22T15:43:24.595Z"
   },
   {
    "duration": 5,
    "start_time": "2022-01-22T15:43:26.700Z"
   },
   {
    "duration": 7,
    "start_time": "2022-01-22T15:43:26.707Z"
   },
   {
    "duration": 53,
    "start_time": "2022-01-22T15:43:26.717Z"
   },
   {
    "duration": 21,
    "start_time": "2022-01-22T15:43:26.775Z"
   },
   {
    "duration": 12,
    "start_time": "2022-01-22T15:43:26.799Z"
   },
   {
    "duration": 4,
    "start_time": "2022-01-22T15:43:26.813Z"
   },
   {
    "duration": 5012,
    "start_time": "2022-01-22T15:43:26.820Z"
   },
   {
    "duration": 31,
    "start_time": "2022-01-22T15:43:31.835Z"
   },
   {
    "duration": 5,
    "start_time": "2022-01-22T15:43:31.869Z"
   },
   {
    "duration": 34,
    "start_time": "2022-01-22T15:43:31.877Z"
   },
   {
    "duration": 66,
    "start_time": "2022-01-22T15:43:31.914Z"
   },
   {
    "duration": 816,
    "start_time": "2022-01-22T15:43:31.982Z"
   },
   {
    "duration": 11,
    "start_time": "2022-01-22T15:43:32.802Z"
   },
   {
    "duration": 9,
    "start_time": "2022-01-22T15:43:32.816Z"
   },
   {
    "duration": 65,
    "start_time": "2022-01-22T15:43:32.828Z"
   },
   {
    "duration": 7,
    "start_time": "2022-01-22T15:43:32.896Z"
   },
   {
    "duration": 422,
    "start_time": "2022-01-22T15:43:32.906Z"
   },
   {
    "duration": 54,
    "start_time": "2022-01-22T15:43:33.330Z"
   },
   {
    "duration": 32,
    "start_time": "2022-01-22T15:43:33.387Z"
   },
   {
    "duration": 857,
    "start_time": "2022-01-22T15:45:27.234Z"
   },
   {
    "duration": 15,
    "start_time": "2022-01-22T15:45:28.094Z"
   },
   {
    "duration": 18,
    "start_time": "2022-01-22T15:45:28.113Z"
   },
   {
    "duration": 16,
    "start_time": "2022-01-22T15:45:28.165Z"
   },
   {
    "duration": 20,
    "start_time": "2022-01-22T15:45:28.184Z"
   },
   {
    "duration": 59,
    "start_time": "2022-01-22T15:45:28.206Z"
   },
   {
    "duration": 11,
    "start_time": "2022-01-22T15:45:28.267Z"
   },
   {
    "duration": 8,
    "start_time": "2022-01-22T15:45:28.282Z"
   },
   {
    "duration": 95,
    "start_time": "2022-01-22T15:45:28.294Z"
   },
   {
    "duration": 15,
    "start_time": "2022-01-22T15:45:28.392Z"
   },
   {
    "duration": 17,
    "start_time": "2022-01-22T15:45:28.410Z"
   },
   {
    "duration": 43,
    "start_time": "2022-01-22T15:45:28.429Z"
   },
   {
    "duration": 1758,
    "start_time": "2022-01-22T15:45:28.475Z"
   },
   {
    "duration": 5,
    "start_time": "2022-01-22T15:45:30.236Z"
   },
   {
    "duration": 436,
    "start_time": "2022-01-22T15:45:30.265Z"
   },
   {
    "duration": 1638,
    "start_time": "2022-01-22T15:45:30.704Z"
   },
   {
    "duration": 529,
    "start_time": "2022-01-22T15:45:32.344Z"
   },
   {
    "duration": 2755,
    "start_time": "2022-01-22T15:45:32.875Z"
   },
   {
    "duration": 2038,
    "start_time": "2022-01-22T15:45:35.632Z"
   },
   {
    "duration": 6,
    "start_time": "2022-01-22T15:45:37.674Z"
   },
   {
    "duration": 9,
    "start_time": "2022-01-22T15:45:37.683Z"
   },
   {
    "duration": 74,
    "start_time": "2022-01-22T15:45:37.696Z"
   },
   {
    "duration": 22,
    "start_time": "2022-01-22T15:45:37.778Z"
   },
   {
    "duration": 12,
    "start_time": "2022-01-22T15:45:37.804Z"
   },
   {
    "duration": 5,
    "start_time": "2022-01-22T15:45:37.819Z"
   },
   {
    "duration": 4796,
    "start_time": "2022-01-22T15:45:37.827Z"
   },
   {
    "duration": 15,
    "start_time": "2022-01-22T15:45:42.626Z"
   },
   {
    "duration": 5,
    "start_time": "2022-01-22T15:45:42.664Z"
   },
   {
    "duration": 32,
    "start_time": "2022-01-22T15:45:42.672Z"
   },
   {
    "duration": 76,
    "start_time": "2022-01-22T15:45:42.707Z"
   },
   {
    "duration": 741,
    "start_time": "2022-01-22T15:45:42.786Z"
   },
   {
    "duration": 8,
    "start_time": "2022-01-22T15:45:43.530Z"
   },
   {
    "duration": 25,
    "start_time": "2022-01-22T15:45:43.540Z"
   },
   {
    "duration": 37,
    "start_time": "2022-01-22T15:45:43.567Z"
   },
   {
    "duration": 6,
    "start_time": "2022-01-22T15:45:43.606Z"
   },
   {
    "duration": 446,
    "start_time": "2022-01-22T15:45:43.614Z"
   },
   {
    "duration": 38,
    "start_time": "2022-01-22T15:45:44.066Z"
   },
   {
    "duration": 62,
    "start_time": "2022-01-22T15:45:44.106Z"
   },
   {
    "duration": 8324,
    "start_time": "2022-01-22T15:49:42.397Z"
   },
   {
    "duration": 9486,
    "start_time": "2022-01-22T15:50:24.281Z"
   },
   {
    "duration": 38,
    "start_time": "2022-01-22T15:50:37.091Z"
   },
   {
    "duration": 38,
    "start_time": "2022-01-22T15:52:05.940Z"
   },
   {
    "duration": 42,
    "start_time": "2022-01-22T15:52:52.827Z"
   },
   {
    "duration": 42,
    "start_time": "2022-01-22T15:53:17.892Z"
   },
   {
    "duration": 37,
    "start_time": "2022-01-22T15:53:31.134Z"
   },
   {
    "duration": 36,
    "start_time": "2022-01-22T15:54:59.272Z"
   },
   {
    "duration": 21,
    "start_time": "2022-01-22T15:55:37.489Z"
   },
   {
    "duration": 9,
    "start_time": "2022-01-22T15:55:51.997Z"
   },
   {
    "duration": 8,
    "start_time": "2022-01-22T15:57:31.647Z"
   },
   {
    "duration": 8,
    "start_time": "2022-01-22T15:58:21.212Z"
   },
   {
    "duration": 8,
    "start_time": "2022-01-22T15:58:26.308Z"
   },
   {
    "duration": 3788,
    "start_time": "2022-01-22T16:00:45.649Z"
   },
   {
    "duration": 3656,
    "start_time": "2022-01-22T16:01:07.669Z"
   },
   {
    "duration": 4374,
    "start_time": "2022-01-22T16:01:24.599Z"
   },
   {
    "duration": 9,
    "start_time": "2022-01-22T16:01:36.865Z"
   },
   {
    "duration": 7,
    "start_time": "2022-01-22T16:01:50.300Z"
   },
   {
    "duration": 287,
    "start_time": "2022-01-22T16:02:18.620Z"
   },
   {
    "duration": 377,
    "start_time": "2022-01-22T16:02:45.455Z"
   },
   {
    "duration": 381,
    "start_time": "2022-01-22T16:03:59.160Z"
   },
   {
    "duration": 872,
    "start_time": "2022-01-22T16:06:07.059Z"
   },
   {
    "duration": 15,
    "start_time": "2022-01-22T16:06:08.422Z"
   },
   {
    "duration": 20,
    "start_time": "2022-01-22T16:06:09.334Z"
   },
   {
    "duration": 16,
    "start_time": "2022-01-22T16:06:10.534Z"
   },
   {
    "duration": 693,
    "start_time": "2022-01-22T16:06:11.423Z"
   },
   {
    "duration": 433,
    "start_time": "2022-01-22T16:06:16.432Z"
   },
   {
    "duration": 401,
    "start_time": "2022-01-22T16:10:29.789Z"
   },
   {
    "duration": 399,
    "start_time": "2022-01-22T16:11:12.095Z"
   },
   {
    "duration": 1079,
    "start_time": "2022-01-22T16:11:19.504Z"
   },
   {
    "duration": 4403,
    "start_time": "2022-01-22T16:11:28.770Z"
   },
   {
    "duration": 403,
    "start_time": "2022-01-22T16:12:00.876Z"
   },
   {
    "duration": 772,
    "start_time": "2022-01-22T16:13:56.032Z"
   },
   {
    "duration": 286,
    "start_time": "2022-01-22T16:14:21.026Z"
   },
   {
    "duration": 4602,
    "start_time": "2022-01-22T16:15:00.808Z"
   },
   {
    "duration": 10,
    "start_time": "2022-01-22T16:15:51.493Z"
   },
   {
    "duration": 3974,
    "start_time": "2022-01-22T16:16:11.223Z"
   },
   {
    "duration": 7,
    "start_time": "2022-01-22T16:16:58.931Z"
   },
   {
    "duration": 6,
    "start_time": "2022-01-22T16:17:24.423Z"
   },
   {
    "duration": 7,
    "start_time": "2022-01-22T16:17:48.682Z"
   },
   {
    "duration": 8,
    "start_time": "2022-01-22T16:18:38.175Z"
   },
   {
    "duration": 11,
    "start_time": "2022-01-22T16:18:44.815Z"
   },
   {
    "duration": 9,
    "start_time": "2022-01-22T16:18:52.809Z"
   },
   {
    "duration": 294,
    "start_time": "2022-01-22T16:19:04.522Z"
   },
   {
    "duration": 10,
    "start_time": "2022-01-22T16:19:12.985Z"
   },
   {
    "duration": 602,
    "start_time": "2022-01-22T16:20:09.904Z"
   },
   {
    "duration": 800,
    "start_time": "2022-01-22T16:20:38.604Z"
   },
   {
    "duration": 16,
    "start_time": "2022-01-22T16:20:39.407Z"
   },
   {
    "duration": 43,
    "start_time": "2022-01-22T16:20:39.426Z"
   },
   {
    "duration": 14,
    "start_time": "2022-01-22T16:20:39.472Z"
   },
   {
    "duration": 18,
    "start_time": "2022-01-22T16:20:39.489Z"
   },
   {
    "duration": 71,
    "start_time": "2022-01-22T16:20:39.510Z"
   },
   {
    "duration": 10,
    "start_time": "2022-01-22T16:20:39.584Z"
   },
   {
    "duration": 9,
    "start_time": "2022-01-22T16:20:39.597Z"
   },
   {
    "duration": 95,
    "start_time": "2022-01-22T16:20:39.610Z"
   },
   {
    "duration": 15,
    "start_time": "2022-01-22T16:20:39.709Z"
   },
   {
    "duration": 49,
    "start_time": "2022-01-22T16:20:39.727Z"
   },
   {
    "duration": 10,
    "start_time": "2022-01-22T16:20:39.779Z"
   },
   {
    "duration": 1802,
    "start_time": "2022-01-22T16:20:39.792Z"
   },
   {
    "duration": 4,
    "start_time": "2022-01-22T16:20:41.596Z"
   },
   {
    "duration": 466,
    "start_time": "2022-01-22T16:20:41.603Z"
   },
   {
    "duration": 1741,
    "start_time": "2022-01-22T16:20:42.072Z"
   },
   {
    "duration": 516,
    "start_time": "2022-01-22T16:20:43.816Z"
   },
   {
    "duration": 3198,
    "start_time": "2022-01-22T16:20:44.334Z"
   },
   {
    "duration": 2042,
    "start_time": "2022-01-22T16:20:47.535Z"
   },
   {
    "duration": 5,
    "start_time": "2022-01-22T16:20:49.580Z"
   },
   {
    "duration": 9,
    "start_time": "2022-01-22T16:20:49.587Z"
   },
   {
    "duration": 16,
    "start_time": "2022-01-22T16:20:49.599Z"
   },
   {
    "duration": 66,
    "start_time": "2022-01-22T16:20:49.618Z"
   },
   {
    "duration": 12,
    "start_time": "2022-01-22T16:20:49.687Z"
   },
   {
    "duration": 5,
    "start_time": "2022-01-22T16:20:49.702Z"
   },
   {
    "duration": 5027,
    "start_time": "2022-01-22T16:20:49.710Z"
   },
   {
    "duration": 28,
    "start_time": "2022-01-22T16:20:54.744Z"
   },
   {
    "duration": 5,
    "start_time": "2022-01-22T16:20:54.775Z"
   },
   {
    "duration": 34,
    "start_time": "2022-01-22T16:20:54.783Z"
   },
   {
    "duration": 65,
    "start_time": "2022-01-22T16:20:54.820Z"
   },
   {
    "duration": 902,
    "start_time": "2022-01-22T16:20:54.888Z"
   },
   {
    "duration": 9,
    "start_time": "2022-01-22T16:20:55.793Z"
   },
   {
    "duration": 12,
    "start_time": "2022-01-22T16:20:55.804Z"
   },
   {
    "duration": 76,
    "start_time": "2022-01-22T16:20:55.819Z"
   },
   {
    "duration": 7,
    "start_time": "2022-01-22T16:20:55.898Z"
   },
   {
    "duration": 460,
    "start_time": "2022-01-22T16:20:55.908Z"
   },
   {
    "duration": 38,
    "start_time": "2022-01-22T16:20:56.370Z"
   },
   {
    "duration": 68,
    "start_time": "2022-01-22T16:20:56.411Z"
   },
   {
    "duration": 36,
    "start_time": "2022-01-22T16:20:56.481Z"
   },
   {
    "duration": 11,
    "start_time": "2022-01-22T16:21:11.954Z"
   },
   {
    "duration": 9,
    "start_time": "2022-01-22T16:21:17.057Z"
   },
   {
    "duration": 6,
    "start_time": "2022-01-22T16:21:34.114Z"
   },
   {
    "duration": 6,
    "start_time": "2022-01-22T16:22:11.750Z"
   },
   {
    "duration": 17,
    "start_time": "2022-01-22T16:22:41.473Z"
   },
   {
    "duration": 32,
    "start_time": "2022-01-22T16:23:48.858Z"
   },
   {
    "duration": 465,
    "start_time": "2022-01-22T16:23:56.194Z"
   },
   {
    "duration": 15,
    "start_time": "2022-01-22T16:24:35.390Z"
   },
   {
    "duration": 10,
    "start_time": "2022-01-22T16:28:12.165Z"
   },
   {
    "duration": 455,
    "start_time": "2022-01-22T16:28:53.168Z"
   },
   {
    "duration": 396,
    "start_time": "2022-01-22T16:29:39.752Z"
   },
   {
    "duration": 789,
    "start_time": "2022-01-22T16:31:51.911Z"
   },
   {
    "duration": 16,
    "start_time": "2022-01-22T16:31:52.703Z"
   },
   {
    "duration": 50,
    "start_time": "2022-01-22T16:31:52.722Z"
   },
   {
    "duration": 14,
    "start_time": "2022-01-22T16:31:52.775Z"
   },
   {
    "duration": 20,
    "start_time": "2022-01-22T16:31:52.792Z"
   },
   {
    "duration": 59,
    "start_time": "2022-01-22T16:31:52.814Z"
   },
   {
    "duration": 9,
    "start_time": "2022-01-22T16:31:52.876Z"
   },
   {
    "duration": 8,
    "start_time": "2022-01-22T16:31:52.889Z"
   },
   {
    "duration": 102,
    "start_time": "2022-01-22T16:31:52.900Z"
   },
   {
    "duration": 15,
    "start_time": "2022-01-22T16:31:53.004Z"
   },
   {
    "duration": 46,
    "start_time": "2022-01-22T16:31:53.022Z"
   },
   {
    "duration": 13,
    "start_time": "2022-01-22T16:31:53.071Z"
   },
   {
    "duration": 1739,
    "start_time": "2022-01-22T16:31:53.087Z"
   },
   {
    "duration": 4,
    "start_time": "2022-01-22T16:31:54.828Z"
   },
   {
    "duration": 404,
    "start_time": "2022-01-22T16:31:54.836Z"
   },
   {
    "duration": 1779,
    "start_time": "2022-01-22T16:31:55.243Z"
   },
   {
    "duration": 584,
    "start_time": "2022-01-22T16:31:57.025Z"
   },
   {
    "duration": 2935,
    "start_time": "2022-01-22T16:31:57.612Z"
   },
   {
    "duration": 2330,
    "start_time": "2022-01-22T16:32:00.549Z"
   },
   {
    "duration": 7,
    "start_time": "2022-01-22T16:32:02.882Z"
   },
   {
    "duration": 10,
    "start_time": "2022-01-22T16:32:02.892Z"
   },
   {
    "duration": 62,
    "start_time": "2022-01-22T16:32:02.906Z"
   },
   {
    "duration": 21,
    "start_time": "2022-01-22T16:32:02.973Z"
   },
   {
    "duration": 13,
    "start_time": "2022-01-22T16:32:02.996Z"
   },
   {
    "duration": 3,
    "start_time": "2022-01-22T16:32:03.011Z"
   },
   {
    "duration": 5035,
    "start_time": "2022-01-22T16:32:03.016Z"
   },
   {
    "duration": 26,
    "start_time": "2022-01-22T16:32:08.055Z"
   },
   {
    "duration": 5,
    "start_time": "2022-01-22T16:32:08.083Z"
   },
   {
    "duration": 35,
    "start_time": "2022-01-22T16:32:08.090Z"
   },
   {
    "duration": 34,
    "start_time": "2022-01-22T16:32:08.164Z"
   },
   {
    "duration": 1351,
    "start_time": "2022-01-22T16:32:08.201Z"
   },
   {
    "duration": 14,
    "start_time": "2022-01-22T16:32:09.555Z"
   },
   {
    "duration": 12,
    "start_time": "2022-01-22T16:32:09.572Z"
   },
   {
    "duration": 80,
    "start_time": "2022-01-22T16:32:09.587Z"
   },
   {
    "duration": 7,
    "start_time": "2022-01-22T16:32:09.669Z"
   },
   {
    "duration": 428,
    "start_time": "2022-01-22T16:32:09.678Z"
   },
   {
    "duration": 57,
    "start_time": "2022-01-22T16:32:10.109Z"
   },
   {
    "duration": 35,
    "start_time": "2022-01-22T16:32:10.169Z"
   },
   {
    "duration": 910,
    "start_time": "2022-01-22T16:33:52.950Z"
   },
   {
    "duration": 25,
    "start_time": "2022-01-22T16:33:53.866Z"
   },
   {
    "duration": 20,
    "start_time": "2022-01-22T16:33:53.893Z"
   },
   {
    "duration": 56,
    "start_time": "2022-01-22T16:33:53.915Z"
   },
   {
    "duration": 22,
    "start_time": "2022-01-22T16:33:53.973Z"
   },
   {
    "duration": 18,
    "start_time": "2022-01-22T16:33:53.997Z"
   },
   {
    "duration": 11,
    "start_time": "2022-01-22T16:33:54.067Z"
   },
   {
    "duration": 9,
    "start_time": "2022-01-22T16:33:54.081Z"
   },
   {
    "duration": 110,
    "start_time": "2022-01-22T16:33:54.092Z"
   },
   {
    "duration": 15,
    "start_time": "2022-01-22T16:33:54.204Z"
   },
   {
    "duration": 50,
    "start_time": "2022-01-22T16:33:54.222Z"
   },
   {
    "duration": 11,
    "start_time": "2022-01-22T16:33:54.275Z"
   },
   {
    "duration": 2035,
    "start_time": "2022-01-22T16:33:54.289Z"
   },
   {
    "duration": 4,
    "start_time": "2022-01-22T16:33:56.327Z"
   },
   {
    "duration": 418,
    "start_time": "2022-01-22T16:33:56.334Z"
   },
   {
    "duration": 1846,
    "start_time": "2022-01-22T16:33:56.754Z"
   },
   {
    "duration": 612,
    "start_time": "2022-01-22T16:33:58.603Z"
   },
   {
    "duration": 3248,
    "start_time": "2022-01-22T16:33:59.218Z"
   },
   {
    "duration": 2007,
    "start_time": "2022-01-22T16:34:02.469Z"
   },
   {
    "duration": 7,
    "start_time": "2022-01-22T16:34:04.479Z"
   },
   {
    "duration": 10,
    "start_time": "2022-01-22T16:34:04.488Z"
   },
   {
    "duration": 19,
    "start_time": "2022-01-22T16:34:04.500Z"
   },
   {
    "duration": 61,
    "start_time": "2022-01-22T16:34:04.521Z"
   },
   {
    "duration": 11,
    "start_time": "2022-01-22T16:34:04.585Z"
   },
   {
    "duration": 3,
    "start_time": "2022-01-22T16:34:04.601Z"
   },
   {
    "duration": 5258,
    "start_time": "2022-01-22T16:34:04.607Z"
   },
   {
    "duration": 13,
    "start_time": "2022-01-22T16:34:09.869Z"
   },
   {
    "duration": 5,
    "start_time": "2022-01-22T16:34:09.885Z"
   },
   {
    "duration": 44,
    "start_time": "2022-01-22T16:34:09.893Z"
   },
   {
    "duration": 59,
    "start_time": "2022-01-22T16:34:09.940Z"
   },
   {
    "duration": 802,
    "start_time": "2022-01-22T16:34:10.001Z"
   },
   {
    "duration": 12,
    "start_time": "2022-01-22T16:34:10.807Z"
   },
   {
    "duration": 8,
    "start_time": "2022-01-22T16:34:10.822Z"
   },
   {
    "duration": 68,
    "start_time": "2022-01-22T16:34:10.833Z"
   },
   {
    "duration": 6,
    "start_time": "2022-01-22T16:34:10.903Z"
   },
   {
    "duration": 432,
    "start_time": "2022-01-22T16:34:10.911Z"
   },
   {
    "duration": 47,
    "start_time": "2022-01-22T16:34:11.346Z"
   },
   {
    "duration": 35,
    "start_time": "2022-01-22T16:34:11.395Z"
   },
   {
    "duration": 656,
    "start_time": "2022-01-23T13:07:57.682Z"
   },
   {
    "duration": 11,
    "start_time": "2022-01-23T13:07:58.340Z"
   },
   {
    "duration": 14,
    "start_time": "2022-01-23T13:07:58.353Z"
   },
   {
    "duration": 29,
    "start_time": "2022-01-23T13:07:58.369Z"
   },
   {
    "duration": 12,
    "start_time": "2022-01-23T13:07:58.401Z"
   },
   {
    "duration": 13,
    "start_time": "2022-01-23T13:07:58.415Z"
   },
   {
    "duration": 7,
    "start_time": "2022-01-23T13:07:58.429Z"
   },
   {
    "duration": 6,
    "start_time": "2022-01-23T13:07:58.439Z"
   },
   {
    "duration": 65,
    "start_time": "2022-01-23T13:07:58.447Z"
   },
   {
    "duration": 10,
    "start_time": "2022-01-23T13:07:58.514Z"
   },
   {
    "duration": 13,
    "start_time": "2022-01-23T13:07:58.526Z"
   },
   {
    "duration": 10,
    "start_time": "2022-01-23T13:07:58.541Z"
   },
   {
    "duration": 1314,
    "start_time": "2022-01-23T13:07:58.553Z"
   },
   {
    "duration": 3,
    "start_time": "2022-01-23T13:07:59.869Z"
   },
   {
    "duration": 251,
    "start_time": "2022-01-23T13:07:59.874Z"
   },
   {
    "duration": 1275,
    "start_time": "2022-01-23T13:08:00.127Z"
   },
   {
    "duration": 444,
    "start_time": "2022-01-23T13:08:01.404Z"
   },
   {
    "duration": 2356,
    "start_time": "2022-01-23T13:08:01.851Z"
   },
   {
    "duration": 1724,
    "start_time": "2022-01-23T13:08:04.209Z"
   },
   {
    "duration": 4,
    "start_time": "2022-01-23T13:08:05.935Z"
   },
   {
    "duration": 6,
    "start_time": "2022-01-23T13:08:05.941Z"
   },
   {
    "duration": 18,
    "start_time": "2022-01-23T13:08:05.949Z"
   },
   {
    "duration": 46,
    "start_time": "2022-01-23T13:08:05.970Z"
   },
   {
    "duration": 6,
    "start_time": "2022-01-23T13:08:06.019Z"
   },
   {
    "duration": 15,
    "start_time": "2022-01-23T13:08:06.026Z"
   },
   {
    "duration": 3645,
    "start_time": "2022-01-23T13:08:06.043Z"
   },
   {
    "duration": 10,
    "start_time": "2022-01-23T13:08:09.699Z"
   },
   {
    "duration": 3,
    "start_time": "2022-01-23T13:08:09.711Z"
   },
   {
    "duration": 21,
    "start_time": "2022-01-23T13:08:09.716Z"
   },
   {
    "duration": 24,
    "start_time": "2022-01-23T13:08:09.739Z"
   },
   {
    "duration": 638,
    "start_time": "2022-01-23T13:08:09.764Z"
   },
   {
    "duration": 6,
    "start_time": "2022-01-23T13:08:10.404Z"
   },
   {
    "duration": 15,
    "start_time": "2022-01-23T13:08:12.735Z"
   },
   {
    "duration": 15,
    "start_time": "2022-01-23T13:08:24.755Z"
   },
   {
    "duration": 13,
    "start_time": "2022-01-23T13:08:32.855Z"
   },
   {
    "duration": 88,
    "start_time": "2022-06-14T19:01:21.426Z"
   }
  ],
  "kernelspec": {
   "display_name": "Python 3 (ipykernel)",
   "language": "python",
   "name": "python3"
  },
  "language_info": {
   "codemirror_mode": {
    "name": "ipython",
    "version": 3
   },
   "file_extension": ".py",
   "mimetype": "text/x-python",
   "name": "python",
   "nbconvert_exporter": "python",
   "pygments_lexer": "ipython3",
   "version": "3.9.5"
  },
  "toc": {
   "base_numbering": 1,
   "nav_menu": {
    "height": "239px",
    "width": "471px"
   },
   "number_sections": true,
   "sideBar": true,
   "skip_h1_title": true,
   "title_cell": "Table of Contents",
   "title_sidebar": "Contents",
   "toc_cell": false,
   "toc_position": {
    "height": "calc(100% - 180px)",
    "left": "10px",
    "top": "150px",
    "width": "316px"
   },
   "toc_section_display": true,
   "toc_window_display": true
  }
 },
 "nbformat": 4,
 "nbformat_minor": 2
}